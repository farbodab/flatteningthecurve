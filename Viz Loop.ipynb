{
 "cells": [
  {
   "cell_type": "code",
   "execution_count": 1,
   "metadata": {},
   "outputs": [],
   "source": [
    "import pandas as pd"
   ]
  },
  {
   "cell_type": "code",
   "execution_count": 2,
   "metadata": {},
   "outputs": [],
   "source": [
    "mapping = {\n",
    "           \"The District of Algoma Health Unit\": [\"North East\"],\n",
    "           \"Brant County Health Unit\": [\"Hamilton Niagara Haldimand Brant\"],\n",
    "           \"Durham Regional Health Unit\": [\"Central East\"],\n",
    "           \"Grey Bruce Health Unit\": [\"South West\"],\n",
    "           \"Haldimand-Norfolk Health Unit\": [\"Hamilton Niagara Haldimand Brant\", \"South West\"],\n",
    "           \"Haliburton, Kawartha, Pine Ridge District Health Unit\": [\"Central East\"],\n",
    "           \"Halton Regional Health Unit\": [\"Mississauga Halton\", \"Hamilton Niagara Haldimand Brant\"],\n",
    "           \"City of Hamilton Health Unit\": [\"Hamilton Niagara Haldimand Brant\"],\n",
    "           \"Hastings and Prince Edward Counties Health Unit\": [\"South East\"],\n",
    "           \"Huron County Health Unit\": [\"South West\"],\n",
    "           \"Chatham-Kent Health Unit\": [\"Erie St. Clair\"],\n",
    "           \"Kingston, Frontenac, and Lennox and Addington Health Unit\": [\"South East\"],\n",
    "           \"Lambton Health Unit\": [\"Erie St. Clair\"],\n",
    "           \"Leeds, Grenville and Lanark District Health Unit\": [\"South East\", \"Champlain\"],\n",
    "           \"Middlesex-London Health Unit\": [\"South West\"],\n",
    "           \"Niagara Regional Area Health Unit\": [\"Hamilton Niagara Haldimand Brant\"],\n",
    "           \"North Bay Parry Sound District Health Unit\": [\"North East\"],\n",
    "           \"Northwestern Health Unit\": [\"North West\"],\n",
    "           \"City of Ottawa Health Unit\": [\"Champlain\"],\n",
    "           \"Peel Regional Health Unit\": [\"Central West\", \"Mississauga Halton\"],\n",
    "           \"Perth District Health Unit\": [\"South West\"],\n",
    "           \"Peterborough County–City Health Unit\": [\"Central East\"],\n",
    "           \"Porcupine Health Unit\": [\"North East\"],\n",
    "           \"Renfrew County and District Health Unit\": [\"North East\",\"Champlain\"],\n",
    "           \"The Eastern Ontario Health Unit\": [\"Champlain\"],\n",
    "           \"Simcoe Muskoka District Health Unit\": [\"North Simcoe Muskoka\"],\n",
    "           \"Sudbury and District Health Unit\": [\"North East\"],\n",
    "           \"Thunder Bay District Health Unit\": [\"North West\"],\n",
    "           \"Timiskaming Health Unit\": [\"North East\"],\n",
    "           \"Waterloo Health Unit\": [\"Waterloo Wellington\"],\n",
    "           \"Wellington-Dufferin-Guelph Health Unit\": [\"Waterloo Wellington\", \"Central West\"],\n",
    "           \"Windsor-Essex County Health Unit\": [\"Erie St. Clair\"],\n",
    "           \"York Regional Health Unit\": [\"Central\"],\n",
    "           \"Southwestern Public Health Unit\": [\"South West\"],\n",
    "           \"City of Toronto Health Unit\": [\"Toronto Central\", \"Central East\", \"Central\"],\n",
    "}"
   ]
  },
  {
   "cell_type": "code",
   "execution_count": 3,
   "metadata": {},
   "outputs": [],
   "source": [
    "names = [item for item in mapping]"
   ]
  },
  {
   "cell_type": "code",
   "execution_count": 4,
   "metadata": {},
   "outputs": [
    {
     "data": {
      "text/plain": [
       "['The District of Algoma Health Unit',\n",
       " 'Brant County Health Unit',\n",
       " 'Durham Regional Health Unit',\n",
       " 'Grey Bruce Health Unit',\n",
       " 'Haldimand-Norfolk Health Unit',\n",
       " 'Haliburton, Kawartha, Pine Ridge District Health Unit',\n",
       " 'Halton Regional Health Unit',\n",
       " 'City of Hamilton Health Unit',\n",
       " 'Hastings and Prince Edward Counties Health Unit',\n",
       " 'Huron County Health Unit',\n",
       " 'Chatham-Kent Health Unit',\n",
       " 'Kingston, Frontenac, and Lennox and Addington Health Unit',\n",
       " 'Lambton Health Unit',\n",
       " 'Leeds, Grenville and Lanark District Health Unit',\n",
       " 'Middlesex-London Health Unit',\n",
       " 'Niagara Regional Area Health Unit',\n",
       " 'North Bay Parry Sound District Health Unit',\n",
       " 'Northwestern Health Unit',\n",
       " 'City of Ottawa Health Unit',\n",
       " 'Peel Regional Health Unit',\n",
       " 'Perth District Health Unit',\n",
       " 'Peterborough County–City Health Unit',\n",
       " 'Porcupine Health Unit',\n",
       " 'Renfrew County and District Health Unit',\n",
       " 'The Eastern Ontario Health Unit',\n",
       " 'Simcoe Muskoka District Health Unit',\n",
       " 'Sudbury and District Health Unit',\n",
       " 'Thunder Bay District Health Unit',\n",
       " 'Timiskaming Health Unit',\n",
       " 'Waterloo Health Unit',\n",
       " 'Wellington-Dufferin-Guelph Health Unit',\n",
       " 'Windsor-Essex County Health Unit',\n",
       " 'York Regional Health Unit',\n",
       " 'Southwestern Public Health Unit',\n",
       " 'City of Toronto Health Unit']"
      ]
     },
     "execution_count": 4,
     "metadata": {},
     "output_type": "execute_result"
    }
   ],
   "source": [
    "names"
   ]
  },
  {
   "cell_type": "code",
   "execution_count": 5,
   "metadata": {},
   "outputs": [],
   "source": [
    "PHU = []\n",
    "for item in mapping:\n",
    "    item = item.lower()\n",
    "    item = item.replace(\" health unit\",\"\")\n",
    "    item = item.replace(\" public\",\"\")\n",
    "    item = item.replace(\",\",\"\")\n",
    "    item = item.replace(\"–\",\"_\")\n",
    "    item = item.replace(\"-\",\" \")\n",
    "    item = item.replace(\" \", \"_\")\n",
    "    PHU += [item]"
   ]
  },
  {
   "cell_type": "code",
   "execution_count": 6,
   "metadata": {
    "scrolled": true
   },
   "outputs": [
    {
     "data": {
      "text/plain": [
       "['the_district_of_algoma',\n",
       " 'brant_county',\n",
       " 'durham_regional',\n",
       " 'grey_bruce',\n",
       " 'haldimand_norfolk',\n",
       " 'haliburton_kawartha_pine_ridge_district',\n",
       " 'halton_regional',\n",
       " 'city_of_hamilton',\n",
       " 'hastings_and_prince_edward_counties',\n",
       " 'huron_county',\n",
       " 'chatham_kent',\n",
       " 'kingston_frontenac_and_lennox_and_addington',\n",
       " 'lambton',\n",
       " 'leeds_grenville_and_lanark_district',\n",
       " 'middlesex_london',\n",
       " 'niagara_regional_area',\n",
       " 'north_bay_parry_sound_district',\n",
       " 'northwestern',\n",
       " 'city_of_ottawa',\n",
       " 'peel_regional',\n",
       " 'perth_district',\n",
       " 'peterborough_county_city',\n",
       " 'porcupine',\n",
       " 'renfrew_county_and_district',\n",
       " 'the_eastern_ontario',\n",
       " 'simcoe_muskoka_district',\n",
       " 'sudbury_and_district',\n",
       " 'thunder_bay_district',\n",
       " 'timiskaming',\n",
       " 'waterloo',\n",
       " 'wellington_dufferin_guelph',\n",
       " 'windsor_essex_county',\n",
       " 'york_regional',\n",
       " 'southwestern',\n",
       " 'city_of_toronto']"
      ]
     },
     "execution_count": 6,
     "metadata": {},
     "output_type": "execute_result"
    }
   ],
   "source": [
    "PHU"
   ]
  },
  {
   "cell_type": "code",
   "execution_count": 7,
   "metadata": {},
   "outputs": [],
   "source": [
    "graphs = {'cases':{{'header':'cases','content':'Total',}, 'new cases':'New', 'rt analysis':'Rt'},'deaths':{'deaths':'Total', 'new deaths':'New'},'capacity':{'residual beds':'Beds', 'residual ventilators':'Ventilators'}, 'hospitalization':{'in icu':'ICU', 'on ventilator':'Ventilator'}, 'long term care': {'long term care outbreaks':'# LTC','long term care cases': 'Cases', 'long term care deaths': 'Deaths'}, 'health care workers': {'long term care staff cases':'LTC'}}"
   ]
  },
  {
   "cell_type": "code",
   "execution_count": null,
   "metadata": {},
   "outputs": [],
   "source": [
    "graphs = {'cases':{{'header':'cases',\n",
    "                    'content':'Total',\n",
    "                    'title':'Number of Total COVID-19 Cases',\n",
    "                    'text_top':'',\n",
    "                    'text_bottom':'',\n",
    "                   }, \n",
    "                   'new cases':'New', 'rt analysis':'Rt'},\n",
    "          'deaths':{'deaths':'Total', 'new deaths':'New'},\n",
    "          'capacity':{'residual beds':'Beds', 'residual ventilators':'Ventilators'}, \n",
    "          'hospitalization':{'in icu':'ICU', 'on ventilator':'Ventilator'}, \n",
    "          'long term care': {'long term care outbreaks':'# LTC','long term care cases': 'Cases', 'long term care deaths': 'Deaths'}, \n",
    "          'health care workers': {'long term care staff cases':'LTC'}}"
   ]
  },
  {
   "cell_type": "code",
   "execution_count": null,
   "metadata": {},
   "outputs": [],
   "source": [
    "[{'header':'cases',\n",
    "  'category':'cases', \n",
    "  'phu':'' ,\n",
    "  'tab_order':'',\n",
    "  'order':'',\n",
    "  'row':'',\n",
    "  'column':'',\n",
    "  'content':'',\n",
    "  'text_top':'',\n",
    "  'text_bottom':'',\n",
    "  'viz':'',\n",
    "  'thumbnail':'',\n",
    "  'mobileHeight':'',\n",
    "  'desktopHeight':'',\n",
    "  'page':'',\n",
    "  'viz_type':'',\n",
    "  'title':'',\n",
    "  'date':'',\n",
    "  'visible':''\n",
    " },\n",
    "\n",
    "\n",
    "]"
   ]
  },
  {
   "cell_type": "code",
   "execution_count": 12,
   "metadata": {},
   "outputs": [],
   "source": [
    "data = {'graph': [],'group': [],'name':[], 'tab_order': [],'order': [], 'row':[], 'column':[], 'content': []}\n",
    "for entity in PHU:\n",
    "    i = 1\n",
    "    for group in graphs:\n",
    "        for index, graph in enumerate(graphs[group]):\n",
    "            data['graph'] += [graph]\n",
    "            data['name'] += [entity]\n",
    "            data['group'] += [group]\n",
    "            data['tab_order'] += [index] \n",
    "            data['order'] += [i]\n",
    "            data['row'] += [3]\n",
    "            data['column'] += [3]\n",
    "            data['content'] += [graphs[group][graph]]\n",
    "\n",
    "            i += 1"
   ]
  },
  {
   "cell_type": "code",
   "execution_count": 13,
   "metadata": {},
   "outputs": [],
   "source": [
    "pd.DataFrame.from_dict(data).to_csv('graphs.csv')"
   ]
  },
  {
   "cell_type": "code",
   "execution_count": null,
   "metadata": {},
   "outputs": [],
   "source": []
  }
 ],
 "metadata": {
  "kernelspec": {
   "display_name": "Python 3",
   "language": "python",
   "name": "python3"
  },
  "language_info": {
   "codemirror_mode": {
    "name": "ipython",
    "version": 3
   },
   "file_extension": ".py",
   "mimetype": "text/x-python",
   "name": "python",
   "nbconvert_exporter": "python",
   "pygments_lexer": "ipython3",
   "version": "3.8.2"
  }
 },
 "nbformat": 4,
 "nbformat_minor": 4
}
