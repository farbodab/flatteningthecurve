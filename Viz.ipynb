{
 "cells": [
  {
   "cell_type": "code",
   "execution_count": 16,
   "metadata": {},
   "outputs": [],
   "source": [
    "import plotly.graph_objects as go\n",
    "from plotly.subplots import make_subplots\n",
    "import pandas as pd\n",
    "import requests\n",
    "import io"
   ]
  },
  {
   "cell_type": "markdown",
   "metadata": {},
   "source": [
    "## ICU Projections"
   ]
  },
  {
   "cell_type": "code",
   "execution_count": null,
   "metadata": {},
   "outputs": [],
   "source": [
    "url = \"https://docs.google.com/spreadsheets/d/11y3g_qr05H6u6gDorZKUsJKWLoq6KerOfhPYOsnI55Q/export?format=csv&id=11y3g_qr05H6u6gDorZKUsJKWLoq6KerOfhPYOsnI55Q&gid=0\"\n",
    "s=requests.get(url).content\n",
    "df = pd.read_csv(io.StringIO(s.decode('utf-8')))\n",
    "df['Date'] = pd.to_datetime(df['Date'])\n",
    "df.head()"
   ]
  },
  {
   "cell_type": "code",
   "execution_count": null,
   "metadata": {},
   "outputs": [],
   "source": [
    "url = \"https://docs.google.com/spreadsheets/d/19LFZWy85MVueUm2jYmXXE6EC3dRpCPGZ05Bqfv5KyGA/export?format=csv&id=19LFZWy85MVueUm2jYmXXE6EC3dRpCPGZ05Bqfv5KyGA&gid=2048341719\"\n",
    "s=requests.get(url).content\n",
    "dft = pd.read_csv(io.StringIO(s.decode('utf-8')))\n",
    "dft.head()"
   ]
  },
  {
   "cell_type": "code",
   "execution_count": null,
   "metadata": {},
   "outputs": [],
   "source": [
    "dft.case_status.replace(\"suspected_covid\",\"Suspected Covid\",inplace=True)\n",
    "dft.case_status.replace(\"confirmed_positive\",\"Confirmed Covid\",inplace=True)\n",
    "\n",
    "config = {'displayModeBar': False}\n",
    "\n",
    "fig = go.Figure()\n",
    "\n",
    "types = dft.case_status.unique()\n",
    "\n",
    "for thing in types:\n",
    "    temp = dft.loc[dft.case_status==thing]\n",
    "    fig.add_trace(go.Bar(name=thing,x=temp.date, y=temp.number))\n",
    "\n",
    "    \n",
    "fig.add_trace(go.Scatter(name='Worst Case',x=df.Date,y=df['Worst Case'],opacity=.3,marker_color='red'))\n",
    "fig.add_trace(go.Scatter(name='Best Case',x=df.Date,y=df['Best Case'],opacity=.3,marker_color='blue'))\n",
    "\n",
    "fig.update_layout(barmode='stack')\n",
    "\n",
    "fig.update_layout(\n",
    "    yaxis =  {'gridcolor': '#d1cfc8', 'title': 'Confirmed Covid Cases In ICU'},\n",
    "    xaxis = {'showgrid': False},      \n",
    "    title={'text':f\"COVID ICU Cases\",\n",
    "            'y':1,\n",
    "            'x':0.5,\n",
    "           'xanchor': 'center',\n",
    "            'yanchor': 'top'},\n",
    "    font=dict(\n",
    "        family=\"Roboto\",\n",
    "        color=\"#000\"\n",
    "    )\n",
    ")\n",
    "\n",
    "fig.update_layout(\n",
    "    margin=dict(l=0, r=10, t=30, b=50),\n",
    "    plot_bgcolor='rgba(0,0,0,0)',\n",
    "    paper_bgcolor=\"White\",\n",
    "    legend_orientation=\"h\"\n",
    ")\n"
   ]
  },
  {
   "cell_type": "markdown",
   "metadata": {},
   "source": [
    "## Total Cases"
   ]
  },
  {
   "cell_type": "code",
   "execution_count": 17,
   "metadata": {},
   "outputs": [
    {
     "data": {
      "text/html": [
       "<div>\n",
       "<style scoped>\n",
       "    .dataframe tbody tr th:only-of-type {\n",
       "        vertical-align: middle;\n",
       "    }\n",
       "\n",
       "    .dataframe tbody tr th {\n",
       "        vertical-align: top;\n",
       "    }\n",
       "\n",
       "    .dataframe thead th {\n",
       "        text-align: right;\n",
       "    }\n",
       "</style>\n",
       "<table border=\"1\" class=\"dataframe\">\n",
       "  <thead>\n",
       "    <tr style=\"text-align: right;\">\n",
       "      <th></th>\n",
       "      <th>Date</th>\n",
       "      <th>Deaths</th>\n",
       "      <th>New deaths</th>\n",
       "      <th>Under Investigation</th>\n",
       "      <th>Positives</th>\n",
       "      <th>New positives</th>\n",
       "      <th>Negatives</th>\n",
       "      <th>Total tested</th>\n",
       "      <th>New tests</th>\n",
       "      <th>Resolved</th>\n",
       "      <th>Positive pct</th>\n",
       "      <th>Negative pct</th>\n",
       "      <th>Investigation pct</th>\n",
       "      <th>New Positive pct</th>\n",
       "      <th>Hospitalized</th>\n",
       "      <th>ICU</th>\n",
       "      <th>Ventilator</th>\n",
       "    </tr>\n",
       "  </thead>\n",
       "  <tbody>\n",
       "    <tr>\n",
       "      <th>0</th>\n",
       "      <td>2020-03-02</td>\n",
       "      <td>0</td>\n",
       "      <td>0</td>\n",
       "      <td>12</td>\n",
       "      <td>18</td>\n",
       "      <td>0</td>\n",
       "      <td>975</td>\n",
       "      <td>1005</td>\n",
       "      <td>0</td>\n",
       "      <td>3</td>\n",
       "      <td>0.017910</td>\n",
       "      <td>0.970149</td>\n",
       "      <td>0.011940</td>\n",
       "      <td>NaN</td>\n",
       "      <td>NaN</td>\n",
       "      <td>NaN</td>\n",
       "      <td>NaN</td>\n",
       "    </tr>\n",
       "    <tr>\n",
       "      <th>1</th>\n",
       "      <td>2020-03-03</td>\n",
       "      <td>0</td>\n",
       "      <td>0</td>\n",
       "      <td>45</td>\n",
       "      <td>20</td>\n",
       "      <td>2</td>\n",
       "      <td>1061</td>\n",
       "      <td>1126</td>\n",
       "      <td>121</td>\n",
       "      <td>3</td>\n",
       "      <td>0.017762</td>\n",
       "      <td>0.942274</td>\n",
       "      <td>0.039964</td>\n",
       "      <td>0.016529</td>\n",
       "      <td>NaN</td>\n",
       "      <td>NaN</td>\n",
       "      <td>NaN</td>\n",
       "    </tr>\n",
       "    <tr>\n",
       "      <th>2</th>\n",
       "      <td>2020-03-04</td>\n",
       "      <td>0</td>\n",
       "      <td>0</td>\n",
       "      <td>102</td>\n",
       "      <td>20</td>\n",
       "      <td>0</td>\n",
       "      <td>1216</td>\n",
       "      <td>1338</td>\n",
       "      <td>212</td>\n",
       "      <td>3</td>\n",
       "      <td>0.014948</td>\n",
       "      <td>0.908819</td>\n",
       "      <td>0.076233</td>\n",
       "      <td>0.000000</td>\n",
       "      <td>NaN</td>\n",
       "      <td>NaN</td>\n",
       "      <td>NaN</td>\n",
       "    </tr>\n",
       "    <tr>\n",
       "      <th>3</th>\n",
       "      <td>2020-03-05</td>\n",
       "      <td>0</td>\n",
       "      <td>0</td>\n",
       "      <td>78</td>\n",
       "      <td>22</td>\n",
       "      <td>2</td>\n",
       "      <td>1466</td>\n",
       "      <td>1566</td>\n",
       "      <td>228</td>\n",
       "      <td>4</td>\n",
       "      <td>0.014049</td>\n",
       "      <td>0.936143</td>\n",
       "      <td>0.049808</td>\n",
       "      <td>0.008772</td>\n",
       "      <td>NaN</td>\n",
       "      <td>NaN</td>\n",
       "      <td>NaN</td>\n",
       "    </tr>\n",
       "    <tr>\n",
       "      <th>4</th>\n",
       "      <td>2020-03-06</td>\n",
       "      <td>0</td>\n",
       "      <td>0</td>\n",
       "      <td>72</td>\n",
       "      <td>26</td>\n",
       "      <td>4</td>\n",
       "      <td>1665</td>\n",
       "      <td>1763</td>\n",
       "      <td>197</td>\n",
       "      <td>4</td>\n",
       "      <td>0.014748</td>\n",
       "      <td>0.944413</td>\n",
       "      <td>0.040839</td>\n",
       "      <td>0.020305</td>\n",
       "      <td>NaN</td>\n",
       "      <td>NaN</td>\n",
       "      <td>NaN</td>\n",
       "    </tr>\n",
       "  </tbody>\n",
       "</table>\n",
       "</div>"
      ],
      "text/plain": [
       "        Date  Deaths  New deaths  Under Investigation  Positives  \\\n",
       "0 2020-03-02       0           0                   12         18   \n",
       "1 2020-03-03       0           0                   45         20   \n",
       "2 2020-03-04       0           0                  102         20   \n",
       "3 2020-03-05       0           0                   78         22   \n",
       "4 2020-03-06       0           0                   72         26   \n",
       "\n",
       "   New positives  Negatives  Total tested  New tests  Resolved  Positive pct  \\\n",
       "0              0        975          1005          0         3      0.017910   \n",
       "1              2       1061          1126        121         3      0.017762   \n",
       "2              0       1216          1338        212         3      0.014948   \n",
       "3              2       1466          1566        228         4      0.014049   \n",
       "4              4       1665          1763        197         4      0.014748   \n",
       "\n",
       "   Negative pct  Investigation pct  New Positive pct  Hospitalized  ICU  \\\n",
       "0      0.970149           0.011940               NaN           NaN  NaN   \n",
       "1      0.942274           0.039964          0.016529           NaN  NaN   \n",
       "2      0.908819           0.076233          0.000000           NaN  NaN   \n",
       "3      0.936143           0.049808          0.008772           NaN  NaN   \n",
       "4      0.944413           0.040839          0.020305           NaN  NaN   \n",
       "\n",
       "   Ventilator  \n",
       "0         NaN  \n",
       "1         NaN  \n",
       "2         NaN  \n",
       "3         NaN  \n",
       "4         NaN  "
      ]
     },
     "execution_count": 17,
     "metadata": {},
     "output_type": "execute_result"
    }
   ],
   "source": [
    "url = \"https://docs.google.com/spreadsheets/d/19LFZWy85MVueUm2jYmXXE6EC3dRpCPGZ05Bqfv5KyGA/export?format=csv&id=19LFZWy85MVueUm2jYmXXE6EC3dRpCPGZ05Bqfv5KyGA&gid=1430697335\"\n",
    "s=requests.get(url).content\n",
    "df = pd.read_csv(io.StringIO(s.decode('utf-8')))\n",
    "df['Date'] = pd.to_datetime(df['Date'])\n",
    "df.head()"
   ]
  },
  {
   "cell_type": "code",
   "execution_count": 23,
   "metadata": {},
   "outputs": [
    {
     "data": {
      "application/vnd.plotly.v1+json": {
       "config": {
        "plotlyServerURL": "https://plot.ly"
       },
       "data": [
        {
         "mode": "number+delta",
         "number": {
          "font": {
           "size": 60
          }
         },
         "type": "indicator",
         "value": 16532
        },
        {
         "line": {
          "color": "red",
          "width": 3
         },
         "name": "Value",
         "opacity": 0.5,
         "type": "scatter",
         "visible": true,
         "x": [
          "2020-03-02T00:00:00",
          "2020-03-03T00:00:00",
          "2020-03-04T00:00:00",
          "2020-03-05T00:00:00",
          "2020-03-06T00:00:00",
          "2020-03-07T00:00:00",
          "2020-03-08T00:00:00",
          "2020-03-09T00:00:00",
          "2020-03-10T00:00:00",
          "2020-03-11T00:00:00",
          "2020-03-12T00:00:00",
          "2020-03-13T00:00:00",
          "2020-03-14T00:00:00",
          "2020-03-15T00:00:00",
          "2020-03-16T00:00:00",
          "2020-03-17T00:00:00",
          "2020-03-18T00:00:00",
          "2020-03-19T00:00:00",
          "2020-03-20T00:00:00",
          "2020-03-21T00:00:00",
          "2020-03-22T00:00:00",
          "2020-03-23T00:00:00",
          "2020-03-24T00:00:00",
          "2020-03-25T00:00:00",
          "2020-03-26T00:00:00",
          "2020-03-27T00:00:00",
          "2020-03-28T00:00:00",
          "2020-03-29T00:00:00",
          "2020-03-30T00:00:00",
          "2020-03-31T00:00:00",
          "2020-04-01T00:00:00",
          "2020-04-02T00:00:00",
          "2020-04-03T00:00:00",
          "2020-04-04T00:00:00",
          "2020-04-05T00:00:00",
          "2020-04-06T00:00:00",
          "2020-04-07T00:00:00",
          "2020-04-08T00:00:00",
          "2020-04-09T00:00:00",
          "2020-04-10T00:00:00",
          "2020-04-11T00:00:00",
          "2020-04-12T00:00:00",
          "2020-04-13T00:00:00",
          "2020-04-14T00:00:00",
          "2020-04-15T00:00:00",
          "2020-04-16T00:00:00",
          "2020-04-17T00:00:00",
          "2020-04-18T00:00:00",
          "2020-04-19T00:00:00",
          "2020-04-20T00:00:00",
          "2020-04-21T00:00:00",
          "2020-04-22T00:00:00",
          "2020-04-23T00:00:00",
          "2020-04-24T00:00:00",
          "2020-04-25T00:00:00",
          "2020-04-26T00:00:00",
          "2020-04-27T00:00:00",
          "2020-04-28T00:00:00",
          "2020-04-29T00:00:00",
          "2020-04-30T00:00:00",
          "2020-05-01T00:00:00"
         ],
         "y": [
          0,
          121,
          212,
          228,
          197,
          219,
          196,
          226,
          343,
          648,
          790,
          944,
          1519,
          1817,
          1713,
          993,
          2726,
          2753,
          2861,
          3873,
          3036,
          2086,
          3951,
          3178,
          2915,
          2482,
          2040,
          6114,
          -725,
          3168,
          6245,
          4859,
          4020,
          4585,
          3708,
          3750,
          2568,
          3237,
          4097,
          3975,
          3648,
          6844,
          5065,
          4852,
          6010,
          9001,
          8899,
          9462,
          9643,
          8743,
          9330,
          10361,
          10214,
          12295,
          10578,
          12020,
          12550,
          10852,
          11554,
          12928,
          16532
         ]
        },
        {
         "line": {
          "color": "#FFF",
          "dash": "dot"
         },
         "name": "7 Day Average",
         "opacity": 0.5,
         "type": "scatter",
         "x": [
          "2020-03-02T00:00:00",
          "2020-03-03T00:00:00",
          "2020-03-04T00:00:00",
          "2020-03-05T00:00:00",
          "2020-03-06T00:00:00",
          "2020-03-07T00:00:00",
          "2020-03-08T00:00:00",
          "2020-03-09T00:00:00",
          "2020-03-10T00:00:00",
          "2020-03-11T00:00:00",
          "2020-03-12T00:00:00",
          "2020-03-13T00:00:00",
          "2020-03-14T00:00:00",
          "2020-03-15T00:00:00",
          "2020-03-16T00:00:00",
          "2020-03-17T00:00:00",
          "2020-03-18T00:00:00",
          "2020-03-19T00:00:00",
          "2020-03-20T00:00:00",
          "2020-03-21T00:00:00",
          "2020-03-22T00:00:00",
          "2020-03-23T00:00:00",
          "2020-03-24T00:00:00",
          "2020-03-25T00:00:00",
          "2020-03-26T00:00:00",
          "2020-03-27T00:00:00",
          "2020-03-28T00:00:00",
          "2020-03-29T00:00:00",
          "2020-03-30T00:00:00",
          "2020-03-31T00:00:00",
          "2020-04-01T00:00:00",
          "2020-04-02T00:00:00",
          "2020-04-03T00:00:00",
          "2020-04-04T00:00:00",
          "2020-04-05T00:00:00",
          "2020-04-06T00:00:00",
          "2020-04-07T00:00:00",
          "2020-04-08T00:00:00",
          "2020-04-09T00:00:00",
          "2020-04-10T00:00:00",
          "2020-04-11T00:00:00",
          "2020-04-12T00:00:00",
          "2020-04-13T00:00:00",
          "2020-04-14T00:00:00",
          "2020-04-15T00:00:00",
          "2020-04-16T00:00:00",
          "2020-04-17T00:00:00",
          "2020-04-18T00:00:00",
          "2020-04-19T00:00:00",
          "2020-04-20T00:00:00",
          "2020-04-21T00:00:00",
          "2020-04-22T00:00:00",
          "2020-04-23T00:00:00",
          "2020-04-24T00:00:00",
          "2020-04-25T00:00:00",
          "2020-04-26T00:00:00",
          "2020-04-27T00:00:00",
          "2020-04-28T00:00:00",
          "2020-04-29T00:00:00",
          "2020-04-30T00:00:00",
          "2020-05-01T00:00:00"
         ],
         "y": [
          null,
          null,
          null,
          null,
          null,
          null,
          167.57142857142858,
          199.85714285714286,
          231.57142857142858,
          293.85714285714283,
          374.14285714285717,
          480.85714285714283,
          666.5714285714286,
          898.1428571428571,
          1110.5714285714287,
          1203.4285714285713,
          1500.2857142857142,
          1780.7142857142858,
          2054.5714285714284,
          2390.8571428571427,
          2565,
          2618.285714285714,
          3040.8571428571427,
          3105.4285714285716,
          3128.5714285714284,
          3074.4285714285716,
          2812.5714285714284,
          3252.285714285714,
          2850.714285714286,
          2738.8571428571427,
          3177,
          3454.714285714286,
          3674.4285714285716,
          4038,
          3694.285714285714,
          4333.571428571428,
          4247.857142857143,
          3818.1428571428573,
          3709.285714285714,
          3702.8571428571427,
          3569,
          4017,
          4204.857142857143,
          4531.142857142857,
          4927.285714285715,
          5627.857142857143,
          6331.285714285715,
          7161.857142857143,
          7561.714285714285,
          8087.142857142857,
          8726.857142857143,
          9348.42857142857,
          9521.714285714286,
          10006.857142857143,
          10166.285714285714,
          10505.857142857143,
          11049.714285714286,
          11267.142857142857,
          11437.57142857143,
          11825.285714285714,
          12430.57142857143
         ]
        }
       ],
       "layout": {
        "font": {
         "color": "#FFF",
         "family": "Roboto"
        },
        "legend": {
         "orientation": "h"
        },
        "margin": {
         "b": 50,
         "l": 0,
         "r": 10,
         "t": 30
        },
        "paper_bgcolor": "#343332",
        "plot_bgcolor": "#343332",
        "template": {
         "data": {
          "bar": [
           {
            "error_x": {
             "color": "#2a3f5f"
            },
            "error_y": {
             "color": "#2a3f5f"
            },
            "marker": {
             "line": {
              "color": "#E5ECF6",
              "width": 0.5
             }
            },
            "type": "bar"
           }
          ],
          "barpolar": [
           {
            "marker": {
             "line": {
              "color": "#E5ECF6",
              "width": 0.5
             }
            },
            "type": "barpolar"
           }
          ],
          "carpet": [
           {
            "aaxis": {
             "endlinecolor": "#2a3f5f",
             "gridcolor": "white",
             "linecolor": "white",
             "minorgridcolor": "white",
             "startlinecolor": "#2a3f5f"
            },
            "baxis": {
             "endlinecolor": "#2a3f5f",
             "gridcolor": "white",
             "linecolor": "white",
             "minorgridcolor": "white",
             "startlinecolor": "#2a3f5f"
            },
            "type": "carpet"
           }
          ],
          "choropleth": [
           {
            "colorbar": {
             "outlinewidth": 0,
             "ticks": ""
            },
            "type": "choropleth"
           }
          ],
          "contour": [
           {
            "colorbar": {
             "outlinewidth": 0,
             "ticks": ""
            },
            "colorscale": [
             [
              0,
              "#0d0887"
             ],
             [
              0.1111111111111111,
              "#46039f"
             ],
             [
              0.2222222222222222,
              "#7201a8"
             ],
             [
              0.3333333333333333,
              "#9c179e"
             ],
             [
              0.4444444444444444,
              "#bd3786"
             ],
             [
              0.5555555555555556,
              "#d8576b"
             ],
             [
              0.6666666666666666,
              "#ed7953"
             ],
             [
              0.7777777777777778,
              "#fb9f3a"
             ],
             [
              0.8888888888888888,
              "#fdca26"
             ],
             [
              1,
              "#f0f921"
             ]
            ],
            "type": "contour"
           }
          ],
          "contourcarpet": [
           {
            "colorbar": {
             "outlinewidth": 0,
             "ticks": ""
            },
            "type": "contourcarpet"
           }
          ],
          "heatmap": [
           {
            "colorbar": {
             "outlinewidth": 0,
             "ticks": ""
            },
            "colorscale": [
             [
              0,
              "#0d0887"
             ],
             [
              0.1111111111111111,
              "#46039f"
             ],
             [
              0.2222222222222222,
              "#7201a8"
             ],
             [
              0.3333333333333333,
              "#9c179e"
             ],
             [
              0.4444444444444444,
              "#bd3786"
             ],
             [
              0.5555555555555556,
              "#d8576b"
             ],
             [
              0.6666666666666666,
              "#ed7953"
             ],
             [
              0.7777777777777778,
              "#fb9f3a"
             ],
             [
              0.8888888888888888,
              "#fdca26"
             ],
             [
              1,
              "#f0f921"
             ]
            ],
            "type": "heatmap"
           }
          ],
          "heatmapgl": [
           {
            "colorbar": {
             "outlinewidth": 0,
             "ticks": ""
            },
            "colorscale": [
             [
              0,
              "#0d0887"
             ],
             [
              0.1111111111111111,
              "#46039f"
             ],
             [
              0.2222222222222222,
              "#7201a8"
             ],
             [
              0.3333333333333333,
              "#9c179e"
             ],
             [
              0.4444444444444444,
              "#bd3786"
             ],
             [
              0.5555555555555556,
              "#d8576b"
             ],
             [
              0.6666666666666666,
              "#ed7953"
             ],
             [
              0.7777777777777778,
              "#fb9f3a"
             ],
             [
              0.8888888888888888,
              "#fdca26"
             ],
             [
              1,
              "#f0f921"
             ]
            ],
            "type": "heatmapgl"
           }
          ],
          "histogram": [
           {
            "marker": {
             "colorbar": {
              "outlinewidth": 0,
              "ticks": ""
             }
            },
            "type": "histogram"
           }
          ],
          "histogram2d": [
           {
            "colorbar": {
             "outlinewidth": 0,
             "ticks": ""
            },
            "colorscale": [
             [
              0,
              "#0d0887"
             ],
             [
              0.1111111111111111,
              "#46039f"
             ],
             [
              0.2222222222222222,
              "#7201a8"
             ],
             [
              0.3333333333333333,
              "#9c179e"
             ],
             [
              0.4444444444444444,
              "#bd3786"
             ],
             [
              0.5555555555555556,
              "#d8576b"
             ],
             [
              0.6666666666666666,
              "#ed7953"
             ],
             [
              0.7777777777777778,
              "#fb9f3a"
             ],
             [
              0.8888888888888888,
              "#fdca26"
             ],
             [
              1,
              "#f0f921"
             ]
            ],
            "type": "histogram2d"
           }
          ],
          "histogram2dcontour": [
           {
            "colorbar": {
             "outlinewidth": 0,
             "ticks": ""
            },
            "colorscale": [
             [
              0,
              "#0d0887"
             ],
             [
              0.1111111111111111,
              "#46039f"
             ],
             [
              0.2222222222222222,
              "#7201a8"
             ],
             [
              0.3333333333333333,
              "#9c179e"
             ],
             [
              0.4444444444444444,
              "#bd3786"
             ],
             [
              0.5555555555555556,
              "#d8576b"
             ],
             [
              0.6666666666666666,
              "#ed7953"
             ],
             [
              0.7777777777777778,
              "#fb9f3a"
             ],
             [
              0.8888888888888888,
              "#fdca26"
             ],
             [
              1,
              "#f0f921"
             ]
            ],
            "type": "histogram2dcontour"
           }
          ],
          "indicator": [
           {
            "delta": {
             "reference": 12928
            },
            "mode": "number+delta+gauge",
            "title": {
             "text": "<span style='font-size:0.8em>New Tests</span><br><span style='font-size:0.8em;color:gray'>Last Updated: 2020-05-01</span><br>"
            },
            "type": "indicator"
           }
          ],
          "mesh3d": [
           {
            "colorbar": {
             "outlinewidth": 0,
             "ticks": ""
            },
            "type": "mesh3d"
           }
          ],
          "parcoords": [
           {
            "line": {
             "colorbar": {
              "outlinewidth": 0,
              "ticks": ""
             }
            },
            "type": "parcoords"
           }
          ],
          "pie": [
           {
            "automargin": true,
            "type": "pie"
           }
          ],
          "scatter": [
           {
            "marker": {
             "colorbar": {
              "outlinewidth": 0,
              "ticks": ""
             }
            },
            "type": "scatter"
           }
          ],
          "scatter3d": [
           {
            "line": {
             "colorbar": {
              "outlinewidth": 0,
              "ticks": ""
             }
            },
            "marker": {
             "colorbar": {
              "outlinewidth": 0,
              "ticks": ""
             }
            },
            "type": "scatter3d"
           }
          ],
          "scattercarpet": [
           {
            "marker": {
             "colorbar": {
              "outlinewidth": 0,
              "ticks": ""
             }
            },
            "type": "scattercarpet"
           }
          ],
          "scattergeo": [
           {
            "marker": {
             "colorbar": {
              "outlinewidth": 0,
              "ticks": ""
             }
            },
            "type": "scattergeo"
           }
          ],
          "scattergl": [
           {
            "marker": {
             "colorbar": {
              "outlinewidth": 0,
              "ticks": ""
             }
            },
            "type": "scattergl"
           }
          ],
          "scattermapbox": [
           {
            "marker": {
             "colorbar": {
              "outlinewidth": 0,
              "ticks": ""
             }
            },
            "type": "scattermapbox"
           }
          ],
          "scatterpolar": [
           {
            "marker": {
             "colorbar": {
              "outlinewidth": 0,
              "ticks": ""
             }
            },
            "type": "scatterpolar"
           }
          ],
          "scatterpolargl": [
           {
            "marker": {
             "colorbar": {
              "outlinewidth": 0,
              "ticks": ""
             }
            },
            "type": "scatterpolargl"
           }
          ],
          "scatterternary": [
           {
            "marker": {
             "colorbar": {
              "outlinewidth": 0,
              "ticks": ""
             }
            },
            "type": "scatterternary"
           }
          ],
          "surface": [
           {
            "colorbar": {
             "outlinewidth": 0,
             "ticks": ""
            },
            "colorscale": [
             [
              0,
              "#0d0887"
             ],
             [
              0.1111111111111111,
              "#46039f"
             ],
             [
              0.2222222222222222,
              "#7201a8"
             ],
             [
              0.3333333333333333,
              "#9c179e"
             ],
             [
              0.4444444444444444,
              "#bd3786"
             ],
             [
              0.5555555555555556,
              "#d8576b"
             ],
             [
              0.6666666666666666,
              "#ed7953"
             ],
             [
              0.7777777777777778,
              "#fb9f3a"
             ],
             [
              0.8888888888888888,
              "#fdca26"
             ],
             [
              1,
              "#f0f921"
             ]
            ],
            "type": "surface"
           }
          ],
          "table": [
           {
            "cells": {
             "fill": {
              "color": "#EBF0F8"
             },
             "line": {
              "color": "white"
             }
            },
            "header": {
             "fill": {
              "color": "#C8D4E3"
             },
             "line": {
              "color": "white"
             }
            },
            "type": "table"
           }
          ]
         },
         "layout": {
          "annotationdefaults": {
           "arrowcolor": "#2a3f5f",
           "arrowhead": 0,
           "arrowwidth": 1
          },
          "coloraxis": {
           "colorbar": {
            "outlinewidth": 0,
            "ticks": ""
           }
          },
          "colorscale": {
           "diverging": [
            [
             0,
             "#8e0152"
            ],
            [
             0.1,
             "#c51b7d"
            ],
            [
             0.2,
             "#de77ae"
            ],
            [
             0.3,
             "#f1b6da"
            ],
            [
             0.4,
             "#fde0ef"
            ],
            [
             0.5,
             "#f7f7f7"
            ],
            [
             0.6,
             "#e6f5d0"
            ],
            [
             0.7,
             "#b8e186"
            ],
            [
             0.8,
             "#7fbc41"
            ],
            [
             0.9,
             "#4d9221"
            ],
            [
             1,
             "#276419"
            ]
           ],
           "sequential": [
            [
             0,
             "#0d0887"
            ],
            [
             0.1111111111111111,
             "#46039f"
            ],
            [
             0.2222222222222222,
             "#7201a8"
            ],
            [
             0.3333333333333333,
             "#9c179e"
            ],
            [
             0.4444444444444444,
             "#bd3786"
            ],
            [
             0.5555555555555556,
             "#d8576b"
            ],
            [
             0.6666666666666666,
             "#ed7953"
            ],
            [
             0.7777777777777778,
             "#fb9f3a"
            ],
            [
             0.8888888888888888,
             "#fdca26"
            ],
            [
             1,
             "#f0f921"
            ]
           ],
           "sequentialminus": [
            [
             0,
             "#0d0887"
            ],
            [
             0.1111111111111111,
             "#46039f"
            ],
            [
             0.2222222222222222,
             "#7201a8"
            ],
            [
             0.3333333333333333,
             "#9c179e"
            ],
            [
             0.4444444444444444,
             "#bd3786"
            ],
            [
             0.5555555555555556,
             "#d8576b"
            ],
            [
             0.6666666666666666,
             "#ed7953"
            ],
            [
             0.7777777777777778,
             "#fb9f3a"
            ],
            [
             0.8888888888888888,
             "#fdca26"
            ],
            [
             1,
             "#f0f921"
            ]
           ]
          },
          "colorway": [
           "#636efa",
           "#EF553B",
           "#00cc96",
           "#ab63fa",
           "#FFA15A",
           "#19d3f3",
           "#FF6692",
           "#B6E880",
           "#FF97FF",
           "#FECB52"
          ],
          "font": {
           "color": "#2a3f5f"
          },
          "geo": {
           "bgcolor": "white",
           "lakecolor": "white",
           "landcolor": "#E5ECF6",
           "showlakes": true,
           "showland": true,
           "subunitcolor": "white"
          },
          "hoverlabel": {
           "align": "left"
          },
          "hovermode": "closest",
          "mapbox": {
           "style": "light"
          },
          "paper_bgcolor": "white",
          "plot_bgcolor": "#E5ECF6",
          "polar": {
           "angularaxis": {
            "gridcolor": "white",
            "linecolor": "white",
            "ticks": ""
           },
           "bgcolor": "#E5ECF6",
           "radialaxis": {
            "gridcolor": "white",
            "linecolor": "white",
            "ticks": ""
           }
          },
          "scene": {
           "xaxis": {
            "backgroundcolor": "#E5ECF6",
            "gridcolor": "white",
            "gridwidth": 2,
            "linecolor": "white",
            "showbackground": true,
            "ticks": "",
            "zerolinecolor": "white"
           },
           "yaxis": {
            "backgroundcolor": "#E5ECF6",
            "gridcolor": "white",
            "gridwidth": 2,
            "linecolor": "white",
            "showbackground": true,
            "ticks": "",
            "zerolinecolor": "white"
           },
           "zaxis": {
            "backgroundcolor": "#E5ECF6",
            "gridcolor": "white",
            "gridwidth": 2,
            "linecolor": "white",
            "showbackground": true,
            "ticks": "",
            "zerolinecolor": "white"
           }
          },
          "shapedefaults": {
           "line": {
            "color": "#2a3f5f"
           }
          },
          "ternary": {
           "aaxis": {
            "gridcolor": "white",
            "linecolor": "white",
            "ticks": ""
           },
           "baxis": {
            "gridcolor": "white",
            "linecolor": "white",
            "ticks": ""
           },
           "bgcolor": "#E5ECF6",
           "caxis": {
            "gridcolor": "white",
            "linecolor": "white",
            "ticks": ""
           }
          },
          "title": {
           "x": 0.05
          },
          "xaxis": {
           "automargin": true,
           "gridcolor": "white",
           "linecolor": "white",
           "ticks": "",
           "title": {
            "standoff": 15
           },
           "zerolinecolor": "white",
           "zerolinewidth": 2
          },
          "yaxis": {
           "automargin": true,
           "gridcolor": "white",
           "linecolor": "white",
           "ticks": "",
           "title": {
            "standoff": 15
           },
           "zerolinecolor": "white",
           "zerolinewidth": 2
          }
         }
        },
        "title": {
         "text": "",
         "x": 0.5,
         "xanchor": "center",
         "y": 0.95,
         "yanchor": "top"
        },
        "xaxis": {
         "showgrid": false,
         "tickformat": "%d-%B",
         "visible": true
        },
        "yaxis": {
         "showgrid": false,
         "visible": true
        }
       }
      },
      "text/html": [
       "<div>\n",
       "        \n",
       "        \n",
       "            <div id=\"d2b0da36-9675-4163-bb7c-dfe89ed053bc\" class=\"plotly-graph-div\" style=\"height:525px; width:100%;\"></div>\n",
       "            <script type=\"text/javascript\">\n",
       "                require([\"plotly\"], function(Plotly) {\n",
       "                    window.PLOTLYENV=window.PLOTLYENV || {};\n",
       "                    \n",
       "                if (document.getElementById(\"d2b0da36-9675-4163-bb7c-dfe89ed053bc\")) {\n",
       "                    Plotly.newPlot(\n",
       "                        'd2b0da36-9675-4163-bb7c-dfe89ed053bc',\n",
       "                        [{\"mode\": \"number+delta\", \"number\": {\"font\": {\"size\": 60}}, \"type\": \"indicator\", \"value\": 16532}, {\"line\": {\"color\": \"red\", \"width\": 3}, \"name\": \"Value\", \"opacity\": 0.5, \"type\": \"scatter\", \"visible\": true, \"x\": [\"2020-03-02T00:00:00\", \"2020-03-03T00:00:00\", \"2020-03-04T00:00:00\", \"2020-03-05T00:00:00\", \"2020-03-06T00:00:00\", \"2020-03-07T00:00:00\", \"2020-03-08T00:00:00\", \"2020-03-09T00:00:00\", \"2020-03-10T00:00:00\", \"2020-03-11T00:00:00\", \"2020-03-12T00:00:00\", \"2020-03-13T00:00:00\", \"2020-03-14T00:00:00\", \"2020-03-15T00:00:00\", \"2020-03-16T00:00:00\", \"2020-03-17T00:00:00\", \"2020-03-18T00:00:00\", \"2020-03-19T00:00:00\", \"2020-03-20T00:00:00\", \"2020-03-21T00:00:00\", \"2020-03-22T00:00:00\", \"2020-03-23T00:00:00\", \"2020-03-24T00:00:00\", \"2020-03-25T00:00:00\", \"2020-03-26T00:00:00\", \"2020-03-27T00:00:00\", \"2020-03-28T00:00:00\", \"2020-03-29T00:00:00\", \"2020-03-30T00:00:00\", \"2020-03-31T00:00:00\", \"2020-04-01T00:00:00\", \"2020-04-02T00:00:00\", \"2020-04-03T00:00:00\", \"2020-04-04T00:00:00\", \"2020-04-05T00:00:00\", \"2020-04-06T00:00:00\", \"2020-04-07T00:00:00\", \"2020-04-08T00:00:00\", \"2020-04-09T00:00:00\", \"2020-04-10T00:00:00\", \"2020-04-11T00:00:00\", \"2020-04-12T00:00:00\", \"2020-04-13T00:00:00\", \"2020-04-14T00:00:00\", \"2020-04-15T00:00:00\", \"2020-04-16T00:00:00\", \"2020-04-17T00:00:00\", \"2020-04-18T00:00:00\", \"2020-04-19T00:00:00\", \"2020-04-20T00:00:00\", \"2020-04-21T00:00:00\", \"2020-04-22T00:00:00\", \"2020-04-23T00:00:00\", \"2020-04-24T00:00:00\", \"2020-04-25T00:00:00\", \"2020-04-26T00:00:00\", \"2020-04-27T00:00:00\", \"2020-04-28T00:00:00\", \"2020-04-29T00:00:00\", \"2020-04-30T00:00:00\", \"2020-05-01T00:00:00\"], \"y\": [0, 121, 212, 228, 197, 219, 196, 226, 343, 648, 790, 944, 1519, 1817, 1713, 993, 2726, 2753, 2861, 3873, 3036, 2086, 3951, 3178, 2915, 2482, 2040, 6114, -725, 3168, 6245, 4859, 4020, 4585, 3708, 3750, 2568, 3237, 4097, 3975, 3648, 6844, 5065, 4852, 6010, 9001, 8899, 9462, 9643, 8743, 9330, 10361, 10214, 12295, 10578, 12020, 12550, 10852, 11554, 12928, 16532]}, {\"line\": {\"color\": \"#FFF\", \"dash\": \"dot\"}, \"name\": \"7 Day Average\", \"opacity\": 0.5, \"type\": \"scatter\", \"x\": [\"2020-03-02T00:00:00\", \"2020-03-03T00:00:00\", \"2020-03-04T00:00:00\", \"2020-03-05T00:00:00\", \"2020-03-06T00:00:00\", \"2020-03-07T00:00:00\", \"2020-03-08T00:00:00\", \"2020-03-09T00:00:00\", \"2020-03-10T00:00:00\", \"2020-03-11T00:00:00\", \"2020-03-12T00:00:00\", \"2020-03-13T00:00:00\", \"2020-03-14T00:00:00\", \"2020-03-15T00:00:00\", \"2020-03-16T00:00:00\", \"2020-03-17T00:00:00\", \"2020-03-18T00:00:00\", \"2020-03-19T00:00:00\", \"2020-03-20T00:00:00\", \"2020-03-21T00:00:00\", \"2020-03-22T00:00:00\", \"2020-03-23T00:00:00\", \"2020-03-24T00:00:00\", \"2020-03-25T00:00:00\", \"2020-03-26T00:00:00\", \"2020-03-27T00:00:00\", \"2020-03-28T00:00:00\", \"2020-03-29T00:00:00\", \"2020-03-30T00:00:00\", \"2020-03-31T00:00:00\", \"2020-04-01T00:00:00\", \"2020-04-02T00:00:00\", \"2020-04-03T00:00:00\", \"2020-04-04T00:00:00\", \"2020-04-05T00:00:00\", \"2020-04-06T00:00:00\", \"2020-04-07T00:00:00\", \"2020-04-08T00:00:00\", \"2020-04-09T00:00:00\", \"2020-04-10T00:00:00\", \"2020-04-11T00:00:00\", \"2020-04-12T00:00:00\", \"2020-04-13T00:00:00\", \"2020-04-14T00:00:00\", \"2020-04-15T00:00:00\", \"2020-04-16T00:00:00\", \"2020-04-17T00:00:00\", \"2020-04-18T00:00:00\", \"2020-04-19T00:00:00\", \"2020-04-20T00:00:00\", \"2020-04-21T00:00:00\", \"2020-04-22T00:00:00\", \"2020-04-23T00:00:00\", \"2020-04-24T00:00:00\", \"2020-04-25T00:00:00\", \"2020-04-26T00:00:00\", \"2020-04-27T00:00:00\", \"2020-04-28T00:00:00\", \"2020-04-29T00:00:00\", \"2020-04-30T00:00:00\", \"2020-05-01T00:00:00\"], \"y\": [null, null, null, null, null, null, 167.57142857142858, 199.85714285714286, 231.57142857142858, 293.85714285714283, 374.14285714285717, 480.85714285714283, 666.5714285714286, 898.1428571428571, 1110.5714285714287, 1203.4285714285713, 1500.2857142857142, 1780.7142857142858, 2054.5714285714284, 2390.8571428571427, 2565.0, 2618.285714285714, 3040.8571428571427, 3105.4285714285716, 3128.5714285714284, 3074.4285714285716, 2812.5714285714284, 3252.285714285714, 2850.714285714286, 2738.8571428571427, 3177.0, 3454.714285714286, 3674.4285714285716, 4038.0, 3694.285714285714, 4333.571428571428, 4247.857142857143, 3818.1428571428573, 3709.285714285714, 3702.8571428571427, 3569.0, 4017.0, 4204.857142857143, 4531.142857142857, 4927.285714285715, 5627.857142857143, 6331.285714285715, 7161.857142857143, 7561.714285714285, 8087.142857142857, 8726.857142857143, 9348.42857142857, 9521.714285714286, 10006.857142857143, 10166.285714285714, 10505.857142857143, 11049.714285714286, 11267.142857142857, 11437.57142857143, 11825.285714285714, 12430.57142857143]}],\n",
       "                        {\"font\": {\"color\": \"#FFF\", \"family\": \"Roboto\"}, \"legend\": {\"orientation\": \"h\"}, \"margin\": {\"b\": 50, \"l\": 0, \"r\": 10, \"t\": 30}, \"paper_bgcolor\": \"#343332\", \"plot_bgcolor\": \"#343332\", \"template\": {\"data\": {\"bar\": [{\"error_x\": {\"color\": \"#2a3f5f\"}, \"error_y\": {\"color\": \"#2a3f5f\"}, \"marker\": {\"line\": {\"color\": \"#E5ECF6\", \"width\": 0.5}}, \"type\": \"bar\"}], \"barpolar\": [{\"marker\": {\"line\": {\"color\": \"#E5ECF6\", \"width\": 0.5}}, \"type\": \"barpolar\"}], \"carpet\": [{\"aaxis\": {\"endlinecolor\": \"#2a3f5f\", \"gridcolor\": \"white\", \"linecolor\": \"white\", \"minorgridcolor\": \"white\", \"startlinecolor\": \"#2a3f5f\"}, \"baxis\": {\"endlinecolor\": \"#2a3f5f\", \"gridcolor\": \"white\", \"linecolor\": \"white\", \"minorgridcolor\": \"white\", \"startlinecolor\": \"#2a3f5f\"}, \"type\": \"carpet\"}], \"choropleth\": [{\"colorbar\": {\"outlinewidth\": 0, \"ticks\": \"\"}, \"type\": \"choropleth\"}], \"contour\": [{\"colorbar\": {\"outlinewidth\": 0, \"ticks\": \"\"}, \"colorscale\": [[0.0, \"#0d0887\"], [0.1111111111111111, \"#46039f\"], [0.2222222222222222, \"#7201a8\"], [0.3333333333333333, \"#9c179e\"], [0.4444444444444444, \"#bd3786\"], [0.5555555555555556, \"#d8576b\"], [0.6666666666666666, \"#ed7953\"], [0.7777777777777778, \"#fb9f3a\"], [0.8888888888888888, \"#fdca26\"], [1.0, \"#f0f921\"]], \"type\": \"contour\"}], \"contourcarpet\": [{\"colorbar\": {\"outlinewidth\": 0, \"ticks\": \"\"}, \"type\": \"contourcarpet\"}], \"heatmap\": [{\"colorbar\": {\"outlinewidth\": 0, \"ticks\": \"\"}, \"colorscale\": [[0.0, \"#0d0887\"], [0.1111111111111111, \"#46039f\"], [0.2222222222222222, \"#7201a8\"], [0.3333333333333333, \"#9c179e\"], [0.4444444444444444, \"#bd3786\"], [0.5555555555555556, \"#d8576b\"], [0.6666666666666666, \"#ed7953\"], [0.7777777777777778, \"#fb9f3a\"], [0.8888888888888888, \"#fdca26\"], [1.0, \"#f0f921\"]], \"type\": \"heatmap\"}], \"heatmapgl\": [{\"colorbar\": {\"outlinewidth\": 0, \"ticks\": \"\"}, \"colorscale\": [[0.0, \"#0d0887\"], [0.1111111111111111, \"#46039f\"], [0.2222222222222222, \"#7201a8\"], [0.3333333333333333, \"#9c179e\"], [0.4444444444444444, \"#bd3786\"], [0.5555555555555556, \"#d8576b\"], [0.6666666666666666, \"#ed7953\"], [0.7777777777777778, \"#fb9f3a\"], [0.8888888888888888, \"#fdca26\"], [1.0, \"#f0f921\"]], \"type\": \"heatmapgl\"}], \"histogram\": [{\"marker\": {\"colorbar\": {\"outlinewidth\": 0, \"ticks\": \"\"}}, \"type\": \"histogram\"}], \"histogram2d\": [{\"colorbar\": {\"outlinewidth\": 0, \"ticks\": \"\"}, \"colorscale\": [[0.0, \"#0d0887\"], [0.1111111111111111, \"#46039f\"], [0.2222222222222222, \"#7201a8\"], [0.3333333333333333, \"#9c179e\"], [0.4444444444444444, \"#bd3786\"], [0.5555555555555556, \"#d8576b\"], [0.6666666666666666, \"#ed7953\"], [0.7777777777777778, \"#fb9f3a\"], [0.8888888888888888, \"#fdca26\"], [1.0, \"#f0f921\"]], \"type\": \"histogram2d\"}], \"histogram2dcontour\": [{\"colorbar\": {\"outlinewidth\": 0, \"ticks\": \"\"}, \"colorscale\": [[0.0, \"#0d0887\"], [0.1111111111111111, \"#46039f\"], [0.2222222222222222, \"#7201a8\"], [0.3333333333333333, \"#9c179e\"], [0.4444444444444444, \"#bd3786\"], [0.5555555555555556, \"#d8576b\"], [0.6666666666666666, \"#ed7953\"], [0.7777777777777778, \"#fb9f3a\"], [0.8888888888888888, \"#fdca26\"], [1.0, \"#f0f921\"]], \"type\": \"histogram2dcontour\"}], \"indicator\": [{\"delta\": {\"reference\": 12928}, \"mode\": \"number+delta+gauge\", \"title\": {\"text\": \"<span style='font-size:0.8em>New Tests</span><br><span style='font-size:0.8em;color:gray'>Last Updated: 2020-05-01</span><br>\"}, \"type\": \"indicator\"}], \"mesh3d\": [{\"colorbar\": {\"outlinewidth\": 0, \"ticks\": \"\"}, \"type\": \"mesh3d\"}], \"parcoords\": [{\"line\": {\"colorbar\": {\"outlinewidth\": 0, \"ticks\": \"\"}}, \"type\": \"parcoords\"}], \"pie\": [{\"automargin\": true, \"type\": \"pie\"}], \"scatter\": [{\"marker\": {\"colorbar\": {\"outlinewidth\": 0, \"ticks\": \"\"}}, \"type\": \"scatter\"}], \"scatter3d\": [{\"line\": {\"colorbar\": {\"outlinewidth\": 0, \"ticks\": \"\"}}, \"marker\": {\"colorbar\": {\"outlinewidth\": 0, \"ticks\": \"\"}}, \"type\": \"scatter3d\"}], \"scattercarpet\": [{\"marker\": {\"colorbar\": {\"outlinewidth\": 0, \"ticks\": \"\"}}, \"type\": \"scattercarpet\"}], \"scattergeo\": [{\"marker\": {\"colorbar\": {\"outlinewidth\": 0, \"ticks\": \"\"}}, \"type\": \"scattergeo\"}], \"scattergl\": [{\"marker\": {\"colorbar\": {\"outlinewidth\": 0, \"ticks\": \"\"}}, \"type\": \"scattergl\"}], \"scattermapbox\": [{\"marker\": {\"colorbar\": {\"outlinewidth\": 0, \"ticks\": \"\"}}, \"type\": \"scattermapbox\"}], \"scatterpolar\": [{\"marker\": {\"colorbar\": {\"outlinewidth\": 0, \"ticks\": \"\"}}, \"type\": \"scatterpolar\"}], \"scatterpolargl\": [{\"marker\": {\"colorbar\": {\"outlinewidth\": 0, \"ticks\": \"\"}}, \"type\": \"scatterpolargl\"}], \"scatterternary\": [{\"marker\": {\"colorbar\": {\"outlinewidth\": 0, \"ticks\": \"\"}}, \"type\": \"scatterternary\"}], \"surface\": [{\"colorbar\": {\"outlinewidth\": 0, \"ticks\": \"\"}, \"colorscale\": [[0.0, \"#0d0887\"], [0.1111111111111111, \"#46039f\"], [0.2222222222222222, \"#7201a8\"], [0.3333333333333333, \"#9c179e\"], [0.4444444444444444, \"#bd3786\"], [0.5555555555555556, \"#d8576b\"], [0.6666666666666666, \"#ed7953\"], [0.7777777777777778, \"#fb9f3a\"], [0.8888888888888888, \"#fdca26\"], [1.0, \"#f0f921\"]], \"type\": \"surface\"}], \"table\": [{\"cells\": {\"fill\": {\"color\": \"#EBF0F8\"}, \"line\": {\"color\": \"white\"}}, \"header\": {\"fill\": {\"color\": \"#C8D4E3\"}, \"line\": {\"color\": \"white\"}}, \"type\": \"table\"}]}, \"layout\": {\"annotationdefaults\": {\"arrowcolor\": \"#2a3f5f\", \"arrowhead\": 0, \"arrowwidth\": 1}, \"coloraxis\": {\"colorbar\": {\"outlinewidth\": 0, \"ticks\": \"\"}}, \"colorscale\": {\"diverging\": [[0, \"#8e0152\"], [0.1, \"#c51b7d\"], [0.2, \"#de77ae\"], [0.3, \"#f1b6da\"], [0.4, \"#fde0ef\"], [0.5, \"#f7f7f7\"], [0.6, \"#e6f5d0\"], [0.7, \"#b8e186\"], [0.8, \"#7fbc41\"], [0.9, \"#4d9221\"], [1, \"#276419\"]], \"sequential\": [[0.0, \"#0d0887\"], [0.1111111111111111, \"#46039f\"], [0.2222222222222222, \"#7201a8\"], [0.3333333333333333, \"#9c179e\"], [0.4444444444444444, \"#bd3786\"], [0.5555555555555556, \"#d8576b\"], [0.6666666666666666, \"#ed7953\"], [0.7777777777777778, \"#fb9f3a\"], [0.8888888888888888, \"#fdca26\"], [1.0, \"#f0f921\"]], \"sequentialminus\": [[0.0, \"#0d0887\"], [0.1111111111111111, \"#46039f\"], [0.2222222222222222, \"#7201a8\"], [0.3333333333333333, \"#9c179e\"], [0.4444444444444444, \"#bd3786\"], [0.5555555555555556, \"#d8576b\"], [0.6666666666666666, \"#ed7953\"], [0.7777777777777778, \"#fb9f3a\"], [0.8888888888888888, \"#fdca26\"], [1.0, \"#f0f921\"]]}, \"colorway\": [\"#636efa\", \"#EF553B\", \"#00cc96\", \"#ab63fa\", \"#FFA15A\", \"#19d3f3\", \"#FF6692\", \"#B6E880\", \"#FF97FF\", \"#FECB52\"], \"font\": {\"color\": \"#2a3f5f\"}, \"geo\": {\"bgcolor\": \"white\", \"lakecolor\": \"white\", \"landcolor\": \"#E5ECF6\", \"showlakes\": true, \"showland\": true, \"subunitcolor\": \"white\"}, \"hoverlabel\": {\"align\": \"left\"}, \"hovermode\": \"closest\", \"mapbox\": {\"style\": \"light\"}, \"paper_bgcolor\": \"white\", \"plot_bgcolor\": \"#E5ECF6\", \"polar\": {\"angularaxis\": {\"gridcolor\": \"white\", \"linecolor\": \"white\", \"ticks\": \"\"}, \"bgcolor\": \"#E5ECF6\", \"radialaxis\": {\"gridcolor\": \"white\", \"linecolor\": \"white\", \"ticks\": \"\"}}, \"scene\": {\"xaxis\": {\"backgroundcolor\": \"#E5ECF6\", \"gridcolor\": \"white\", \"gridwidth\": 2, \"linecolor\": \"white\", \"showbackground\": true, \"ticks\": \"\", \"zerolinecolor\": \"white\"}, \"yaxis\": {\"backgroundcolor\": \"#E5ECF6\", \"gridcolor\": \"white\", \"gridwidth\": 2, \"linecolor\": \"white\", \"showbackground\": true, \"ticks\": \"\", \"zerolinecolor\": \"white\"}, \"zaxis\": {\"backgroundcolor\": \"#E5ECF6\", \"gridcolor\": \"white\", \"gridwidth\": 2, \"linecolor\": \"white\", \"showbackground\": true, \"ticks\": \"\", \"zerolinecolor\": \"white\"}}, \"shapedefaults\": {\"line\": {\"color\": \"#2a3f5f\"}}, \"ternary\": {\"aaxis\": {\"gridcolor\": \"white\", \"linecolor\": \"white\", \"ticks\": \"\"}, \"baxis\": {\"gridcolor\": \"white\", \"linecolor\": \"white\", \"ticks\": \"\"}, \"bgcolor\": \"#E5ECF6\", \"caxis\": {\"gridcolor\": \"white\", \"linecolor\": \"white\", \"ticks\": \"\"}}, \"title\": {\"x\": 0.05}, \"xaxis\": {\"automargin\": true, \"gridcolor\": \"white\", \"linecolor\": \"white\", \"ticks\": \"\", \"title\": {\"standoff\": 15}, \"zerolinecolor\": \"white\", \"zerolinewidth\": 2}, \"yaxis\": {\"automargin\": true, \"gridcolor\": \"white\", \"linecolor\": \"white\", \"ticks\": \"\", \"title\": {\"standoff\": 15}, \"zerolinecolor\": \"white\", \"zerolinewidth\": 2}}}, \"title\": {\"text\": \"\", \"x\": 0.5, \"xanchor\": \"center\", \"y\": 0.95, \"yanchor\": \"top\"}, \"xaxis\": {\"showgrid\": false, \"tickformat\": \"%d-%B\", \"visible\": true}, \"yaxis\": {\"showgrid\": false, \"visible\": true}},\n",
       "                        {\"responsive\": true}\n",
       "                    ).then(function(){\n",
       "                            \n",
       "var gd = document.getElementById('d2b0da36-9675-4163-bb7c-dfe89ed053bc');\n",
       "var x = new MutationObserver(function (mutations, observer) {{\n",
       "        var display = window.getComputedStyle(gd).display;\n",
       "        if (!display || display === 'none') {{\n",
       "            console.log([gd, 'removed!']);\n",
       "            Plotly.purge(gd);\n",
       "            observer.disconnect();\n",
       "        }}\n",
       "}});\n",
       "\n",
       "// Listen for the removal of the full notebook cells\n",
       "var notebookContainer = gd.closest('#notebook-container');\n",
       "if (notebookContainer) {{\n",
       "    x.observe(notebookContainer, {childList: true});\n",
       "}}\n",
       "\n",
       "// Listen for the clearing of the current output cell\n",
       "var outputEl = gd.closest('.output');\n",
       "if (outputEl) {{\n",
       "    x.observe(outputEl, {childList: true});\n",
       "}}\n",
       "\n",
       "                        })\n",
       "                };\n",
       "                });\n",
       "            </script>\n",
       "        </div>"
      ]
     },
     "metadata": {},
     "output_type": "display_data"
    }
   ],
   "source": [
    "fig = go.Figure()\n",
    "\n",
    "fig.add_trace(go.Indicator(\n",
    "    mode = \"number+delta\",\n",
    "    value = df['New tests'].tail(1).values[0],\n",
    "    number = {'font': {'size': 60}},))\n",
    "\n",
    "fig.add_trace(go.Scatter(x=df.Date,y=df['New tests'],line=dict(color='red', width=3),visible=True,opacity=0.5,name=\"Value\"))\n",
    "fig.add_trace(go.Scatter(x=df.Date,y=df['New tests'].rolling(7).mean(),line=dict(color='#FFF', dash='dot'), opacity=0.5,name=\"7 Day Average\"))\n",
    "\n",
    "\n",
    "fig.update_layout(\n",
    "    template = {'data' : {'indicator': [{\n",
    "        'title' : {\"text\": f\"<span style='font-size:0.8em>New Tests</span><br><span style='font-size:0.8em;color:gray'>Last Updated: {df.Date.tail(1).values[0].astype('M8[D]')}</span><br>\"},\n",
    "        'mode' : \"number+delta+gauge\",\n",
    "        'delta' : {'reference': df['New tests'].iloc[-2]}},\n",
    "]\n",
    "                         }})\n",
    "\n",
    "fig.update_layout(\n",
    "    xaxis =  {'showgrid': False,'visible':True, 'tickformat':'%d-%B'},\n",
    "    yaxis = {'showgrid': False,'visible':True},      \n",
    "    title={'text':f\"\",\n",
    "            'y':0.95,\n",
    "            'x':0.5,\n",
    "           'xanchor': 'center',\n",
    "            'yanchor': 'top'},\n",
    "    font=dict(\n",
    "        family=\"Roboto\",\n",
    "        color=\"#FFF\"\n",
    "    )\n",
    ")\n",
    "\n",
    "fig.update_layout(\n",
    "    margin=dict(l=0, r=10, t=30, b=50),\n",
    "    plot_bgcolor='#343332',\n",
    "    paper_bgcolor=\"#343332\",\n",
    "    legend_orientation=\"h\",\n",
    "    )\n",
    "\n"
   ]
  },
  {
   "cell_type": "code",
   "execution_count": null,
   "metadata": {},
   "outputs": [],
   "source": [
    "fig = go.Figure()\n",
    "temp = df.loc[df['Total tested'].notna()]\n",
    "\n",
    "\n",
    "fig.add_trace(go.Indicator(\n",
    "    mode = \"number+delta\",\n",
    "    value = df['Total tested'].tail(1).values[0],\n",
    "\n",
    "    )\n",
    "             )\n",
    "\n",
    "fig.add_trace(go.Scatter(x=temp.Date,y=temp['Total tested'],marker_color='#5E5AA1', visible=False))\n",
    "\n",
    "fig.update_layout(\n",
    "    template = {'data' : {'indicator': [{\n",
    "        'title' : {\"text\": f\"Total Tested<br><span style='font-size:0.5em;color:gray'>Last Updated: {df.Date.tail(1).values[0].astype('M8[D]')}</span><br>\"},\n",
    "        'mode' : \"number+delta\",\n",
    "        'delta' : {'reference': df['Total tested'].iloc[-2],\n",
    "                  'relative': True, 'position' : \"top\"}}]\n",
    "                         }})\n",
    "\n",
    "fig.update_layout(\n",
    "    xaxis =  {'showgrid': False,'visible':False},\n",
    "    yaxis = {'showgrid': False,'visible':False},      \n",
    "    title={'text':f\"\",\n",
    "            'y':0.95,\n",
    "            'x':0.5,\n",
    "           'xanchor': 'center',\n",
    "            'yanchor': 'top'},\n",
    "    font=dict(\n",
    "        family=\"Roboto\",\n",
    "        size=22,\n",
    "        color=\"#000\"\n",
    "    )\n",
    ")\n",
    "\n",
    "fig.update_layout(\n",
    "    margin=dict(l=0, r=10, t=30, b=50),\n",
    "    plot_bgcolor='#E0DFED',\n",
    "    paper_bgcolor=\"#E0DFED\",\n",
    "    legend_orientation=\"h\",\n",
    "\n",
    "    updatemenus=[\n",
    "    dict(\n",
    "        type=\"buttons\",\n",
    "        direction=\"right\",\n",
    "        active=0,\n",
    "        x=0.57,\n",
    "        y=-0.1,\n",
    "        buttons=list([\n",
    "            dict(label=\"KPI\",\n",
    "                 method=\"update\",\n",
    "                 args=[{\"visible\": [True, False]},\n",
    "                       {\"title\": \"\"}\n",
    "                      ]),\n",
    "            dict(label=\"Trend\",\n",
    "                 method=\"update\",\n",
    "                 args=[{\"visible\": [False, True]},\n",
    "                       {\"title\": \"Total tested Over Time\"},]),\n",
    "        ]),\n",
    "    )\n",
    "])\n"
   ]
  },
  {
   "cell_type": "code",
   "execution_count": null,
   "metadata": {},
   "outputs": [],
   "source": [
    "fig = go.Figure()\n",
    "temp = df.loc[df['New Positive pct'].notna()]\n",
    "temp = df.loc[df['New Positive pct'] > 0]\n",
    "\n",
    "fig.add_trace(go.Indicator(\n",
    "    mode = \"number+delta\",\n",
    "    value = df['New Positive pct'].tail(1).values[0]*100,\n",
    "    number = {'font': {'size': 60}},\n",
    "    ))\n",
    "\n",
    "fig.add_trace(go.Scatter(x=temp.Date,y=temp['New Positive pct'],line=dict(color='#000', dash='dot'),visible=True, opacity=0.5, name=\"Value\"))\n",
    "fig.add_trace(go.Scatter(x=df.Date,y=temp['New Positive pct'].rolling(7).mean(),line=dict(color='#5E5AA1',width=5), opacity=0.5,name=\"7 Day Average\"))\n",
    "\n",
    "\n",
    "\n",
    "fig.update_layout(\n",
    "    template = {'data' : {'indicator': [{\n",
    "        'mode' : \"number+delta+gauge\",\n",
    "        'delta' : {'reference': df['New Positive pct'].iloc[-2]*100,\n",
    "                  'increasing': {'color':'red'},\n",
    "                  'decreasing': {'color':'green'}}},\n",
    "        ]\n",
    "                         }})\n",
    "\n",
    "fig.update_layout(\n",
    "    xaxis =  {'showgrid': False,'visible':True, 'tickformat':'%d-%B'},\n",
    "    yaxis = {'showgrid': False,'visible':True},\n",
    "    title={'text': f\"New Positive %<br><span style='font-size:0.5em;color:gray'>Last Updated: {df.Date.tail(1).values[0].astype('M8[D]')}</span><br>\",\n",
    "            'y':0.95,\n",
    "            'x':0.15,\n",
    "           'xanchor': 'center',\n",
    "            'yanchor': 'top'},\n",
    "    font=dict(\n",
    "        family=\"Roboto\",\n",
    "\n",
    "        color=\"#000\"\n",
    "    )\n",
    ")\n",
    "\n",
    "fig.update_layout(\n",
    "    margin=dict(l=0, r=10, t=30, b=50),\n",
    "    plot_bgcolor='#E0DFED',\n",
    "    paper_bgcolor=\"#E0DFED\",\n",
    "    legend_orientation=\"h\",\n",
    ")"
   ]
  },
  {
   "cell_type": "code",
   "execution_count": null,
   "metadata": {},
   "outputs": [],
   "source": [
    "fig = go.Figure()\n",
    "temp = df.loc[df['Total tested'].notna()]\n",
    "\n",
    "fig.add_trace(go.Indicator(\n",
    "    mode = \"number+delta\",\n",
    "    value = df['Under Investigation'].tail(1).values[0],))\n",
    "\n",
    "\n",
    "fig.add_trace(go.Scatter(x=temp.Date,y=temp['Under Investigation'],marker_color='#5E5AA1', visible=False))\n",
    "\n",
    "fig.update_layout(\n",
    "    template = {'data' : {'indicator': [{\n",
    "        'title' : {\"text\": f\"Under Investigation<br><span style='font-size:0.8em;color:gray'>Last Updated: {df.Date.tail(1).values[0].astype('M8[D]')}</span><br>\"},\n",
    "        'mode' : \"number+delta+gauge\",\n",
    "        'delta' : {'reference': df['Under Investigation'].iloc[-2],\n",
    "                  'increasing': {'color':'grey'},\n",
    "                  'decreasing': {'color':'grey'}}}, \n",
    "        ]\n",
    "                         }})\n",
    "\n",
    "fig.update_layout(\n",
    "    xaxis =  {'showgrid': False,'visible':False},\n",
    "    yaxis = {'showgrid': False,'visible':False},      \n",
    "    title={'text':f\"\",\n",
    "            'y':0.95,\n",
    "            'x':0.5,\n",
    "           'xanchor': 'center',\n",
    "            'yanchor': 'top'},\n",
    "    font=dict(\n",
    "        family=\"Roboto\",\n",
    "        size=22,\n",
    "        color=\"#000\"\n",
    "    )\n",
    ")\n",
    "\n",
    "fig.update_layout(\n",
    "    margin=dict(l=0, r=10, t=30, b=50),\n",
    "    plot_bgcolor='#E0DFED',\n",
    "    paper_bgcolor=\"#E0DFED\",\n",
    "    legend_orientation=\"h\",\n",
    "\n",
    "    updatemenus=[\n",
    "    dict(\n",
    "        type=\"buttons\",\n",
    "        direction=\"right\",\n",
    "        active=0,\n",
    "        x=0.57,\n",
    "        y=-0.1,\n",
    "        buttons=list([\n",
    "            dict(label=\"KPI\",\n",
    "                 method=\"update\",\n",
    "                 args=[{\"visible\": [True, False]},\n",
    "                       {\"title\": \"\"}\n",
    "                      ]),\n",
    "            dict(label=\"Trend\",\n",
    "                 method=\"update\",\n",
    "                 args=[{\"visible\": [False, True]},\n",
    "                       {\"title\": \"Under Investigation Over Time\"},]),\n",
    "        ]),\n",
    "    )\n",
    "])\n"
   ]
  },
  {
   "cell_type": "code",
   "execution_count": null,
   "metadata": {},
   "outputs": [],
   "source": [
    "fig = go.Figure()\n",
    "temp = df.loc[df['Ventilator'].notna()]\n",
    "fig.add_trace(go.Indicator(\n",
    "    mode = \"number+delta\",\n",
    "    value = temp['Ventilator'].tail(1).values[0],))\n",
    "\n",
    "fig.add_trace(go.Scatter(x=temp.Date,y=temp['Ventilator'],marker_color='#54CAF1',visible=False))\n",
    "\n",
    "fig.update_layout(\n",
    "    template = {'data' : {'indicator': [{\n",
    "        'title' : {\"text\": f\"On Ventilator<br><span style='font-size:0.8em;color:gray'>Last Updated: {df.Date.tail(1).values[0].astype('M8[D]')}</span><br>\"},\n",
    "        'mode' : \"number+delta+gauge\",\n",
    "        'delta' : {'reference': df['Ventilator'].iloc[-2],\n",
    "                  'increasing': {'color':'red'},\n",
    "                  'decreasing': {'color':'green'}}}, \n",
    "        ]\n",
    "                         }})\n",
    "\n",
    "fig.update_layout(\n",
    "    xaxis =  {'showgrid': False,'visible':False},\n",
    "    yaxis = {'showgrid': False,'visible':False},      \n",
    "    title={'text':\"\",\n",
    "            'y':0.95,\n",
    "            'x':0.5,\n",
    "           'xanchor': 'center',\n",
    "            'yanchor': 'top'},\n",
    "    font=dict(\n",
    "        family=\"Roboto\",\n",
    "        size=22,\n",
    "        color=\"#000\"\n",
    "    )\n",
    ")\n",
    "\n",
    "fig.update_layout(\n",
    "    margin=dict(l=0, r=10, t=30, b=50),\n",
    "    plot_bgcolor='#E4F7FD',\n",
    "    paper_bgcolor=\"#E4F7FD\",\n",
    "    legend_orientation=\"h\",\n",
    "    updatemenus=[\n",
    "    dict(\n",
    "        type=\"buttons\",\n",
    "        direction=\"right\",\n",
    "        active=0,\n",
    "        x=0.57,\n",
    "        y=-0.1,\n",
    "        buttons=list([\n",
    "            dict(label=\"KPI\",\n",
    "                 method=\"update\",\n",
    "                 args=[{\"visible\": [True, False]},\n",
    "                       {\"title\": \"\"}\n",
    "                      ]),\n",
    "            dict(label=\"Trend\",\n",
    "                 method=\"update\",\n",
    "                 args=[{\"visible\": [False, True]},\n",
    "                       {\"title\": \"On Ventilator Time\"},]),\n",
    "        ]),\n",
    "    )])"
   ]
  },
  {
   "cell_type": "code",
   "execution_count": null,
   "metadata": {},
   "outputs": [],
   "source": [
    "fig = go.Figure()\n",
    "temp = df.loc[df['ICU'].notna()]\n",
    "fig.add_trace(go.Indicator(\n",
    "    mode = \"number+delta\",\n",
    "    value = temp['ICU'].tail(1).values[0],))\n",
    "fig.add_trace(go.Scatter(x=temp.Date,y=temp['ICU'],marker_color='#54CAF1',visible=False))\n",
    "\n",
    "fig.update_layout(\n",
    "    template = {'data' : {'indicator': [{\n",
    "        'title' : {\"text\": f\"In ICU<br><span style='font-size:0.8em;color:gray'>Last Updated: {df.Date.tail(1).values[0].astype('M8[D]')}</span><br>\"},\n",
    "        'mode' : \"number+delta+gauge\",\n",
    "        'delta' : {'reference': df['ICU'].iloc[-2],\n",
    "                  'increasing': {'color':'red'},\n",
    "                  'decreasing': {'color':'green'}}}, \n",
    "        ]\n",
    "                         }})\n",
    "\n",
    "fig.update_layout(\n",
    "    xaxis =  {'showgrid': False,'visible':False},\n",
    "    yaxis = {'showgrid': False,'visible':False},      \n",
    "    title={'text':\"\",\n",
    "            'y':0.95,\n",
    "            'x':0.5,\n",
    "           'xanchor': 'center',\n",
    "            'yanchor': 'top'},\n",
    "    font=dict(\n",
    "        family=\"Roboto\",\n",
    "        size=22,\n",
    "        color=\"#000\"\n",
    "    )\n",
    ")\n",
    "\n",
    "fig.update_layout(\n",
    "    margin=dict(l=0, r=10, t=30, b=50),\n",
    "    plot_bgcolor='#E4F7FD',\n",
    "    paper_bgcolor=\"#E4F7FD\",\n",
    "    legend_orientation=\"h\",\n",
    "    updatemenus=[\n",
    "    dict(\n",
    "        type=\"buttons\",\n",
    "        direction=\"right\",\n",
    "        active=0,\n",
    "        x=0.57,\n",
    "        y=-0.1,\n",
    "        buttons=list([\n",
    "            dict(label=\"KPI\",\n",
    "                 method=\"update\",\n",
    "                 args=[{\"visible\": [True, False]},\n",
    "                       {\"title\": \"\"}\n",
    "                      ]),\n",
    "            dict(label=\"Trend\",\n",
    "                 method=\"update\",\n",
    "                 args=[{\"visible\": [False, True]},\n",
    "                       {\"title\": \"In ICU Over Time\"},]),\n",
    "        ]),\n",
    "    )])"
   ]
  },
  {
   "cell_type": "code",
   "execution_count": null,
   "metadata": {},
   "outputs": [],
   "source": [
    "fig = go.Figure()\n",
    "temp = df.loc[df['Hospitalized'].notna()]\n",
    "fig.add_trace(go.Indicator(\n",
    "    mode = \"number+delta\",\n",
    "    value = temp['Hospitalized'].tail(1).values[0],))\n",
    "fig.add_trace(go.Scatter(x=temp.Date,y=temp['Hospitalized'],marker_color='#54CAF1',visible=False))\n",
    "\n",
    "fig.update_layout(\n",
    "    template = {'data' : {'indicator': [{\n",
    "        'title' : {\"text\": f\"In Hospital<br><span style='font-size:0.5em;color:gray'>Last Updated: {df.Date.tail(1).values[0].astype('M8[D]')}</span><br>\"},\n",
    "        'mode' : \"number+delta+gauge\",\n",
    "        'delta' : {'reference': df['Hospitalized'].iloc[-2],\n",
    "                  'increasing': {'color':'red'},\n",
    "                  'decreasing': {'color':'green'}}}, \n",
    "        ]\n",
    "                         }})\n",
    "\n",
    "fig.update_layout(\n",
    "    xaxis =  {'showgrid': False,'visible':False},\n",
    "    yaxis = {'showgrid': False,'visible':False},      \n",
    "    title={'text':\"\",\n",
    "            'y':0.95,\n",
    "            'x':0.5,\n",
    "           'xanchor': 'center',\n",
    "            'yanchor': 'top'},\n",
    "    font=dict(\n",
    "        family=\"Roboto\",\n",
    "        size=22,\n",
    "        color=\"#000\"\n",
    "    )\n",
    ")\n",
    "\n",
    "fig.update_layout(\n",
    "    margin=dict(l=0, r=10, t=30, b=50),\n",
    "    plot_bgcolor='#E4F7FD',\n",
    "    paper_bgcolor=\"#E4F7FD\",\n",
    "    legend_orientation=\"h\",\n",
    "    updatemenus=[\n",
    "    dict(\n",
    "        type=\"buttons\",\n",
    "        direction=\"right\",\n",
    "        active=0,\n",
    "        x=0.57,\n",
    "        y=-0.1,\n",
    "        buttons=list([\n",
    "            dict(label=\"KPI\",\n",
    "                 method=\"update\",\n",
    "                 args=[{\"visible\": [True, False]},\n",
    "                       {\"title\": \"\"}\n",
    "                      ]),\n",
    "            dict(label=\"Trend\",\n",
    "                 method=\"update\",\n",
    "                 args=[{\"visible\": [False, True]},\n",
    "                       {\"title\": \"Hospitalized Over Time\"},]),\n",
    "        ]),\n",
    "    )])"
   ]
  },
  {
   "cell_type": "code",
   "execution_count": null,
   "metadata": {},
   "outputs": [],
   "source": [
    "fig = go.Figure()\n",
    "\n",
    "fig.add_trace(go.Indicator(\n",
    "    mode = \"number+delta\",\n",
    "    value = df['Positives'].tail(1).values[0],\n",
    "),\n",
    "             )\n",
    "\n",
    "\n",
    "\n",
    "\n",
    "\n",
    "fig.update_layout(\n",
    "    template = {'data' : {'indicator': [{\n",
    "        'title' : {\"text\": f\"Total Cases<br><span style='font-size:0.5em;color:gray'>Last Updated: {df.Date.tail(1).values[0].astype('M8[D]')}</span><br>\"},\n",
    "        'mode' : \"number+delta+gauge\",\n",
    "        'delta' : {'reference': df['Positives'].iloc[-2],\n",
    "                  'increasing': {'color':'red'},\n",
    "                  'decreasing': {'color':'green'}}}, \n",
    "        ]\n",
    "                         }})\n",
    "\n",
    "\n",
    "\n",
    "fig.add_trace(go.Scatter(x=df.Date,y=df['Positives'],marker_color='#497787', visible=False))\n",
    "\n",
    "fig.update_layout(\n",
    "    xaxis =  {'showgrid': False,'visible':False},\n",
    "    yaxis = {'showgrid': False,'visible':False}, \n",
    "    title={'text':f\"\",\n",
    "            'y':0.95,\n",
    "            'x':0.5,\n",
    "           'xanchor': 'center',\n",
    "            'yanchor': 'top'},\n",
    "    font=dict(\n",
    "        family=\"Roboto\",\n",
    "        size=22,\n",
    "        color=\"#000\"\n",
    "    )\n",
    ")\n",
    "\n",
    "fig.update_layout(\n",
    "    margin=dict(l=0, r=10, t=30, b=50),\n",
    "    plot_bgcolor='#DFE7EA',\n",
    "    paper_bgcolor=\"#DFE7EA\",\n",
    "updatemenus=[\n",
    "    dict(\n",
    "        type=\"buttons\",\n",
    "        direction=\"right\",\n",
    "        active=0,\n",
    "        x=0.57,\n",
    "        y=-0.1,\n",
    "        buttons=list([\n",
    "            dict(label=\"KPI\",\n",
    "                 method=\"update\",\n",
    "                 args=[{\"visible\": [True, False]},\n",
    "                       {\"title\": \"\"}\n",
    "                      ]),\n",
    "            dict(label=\"Trend\",\n",
    "                 method=\"update\",\n",
    "                 args=[{\"visible\": [False, True]},\n",
    "                       {\"title\": \"Cases Over Time\"},]),\n",
    "        ]),\n",
    "    )])"
   ]
  },
  {
   "cell_type": "code",
   "execution_count": null,
   "metadata": {},
   "outputs": [],
   "source": [
    "fig = go.Figure()\n",
    "\n",
    "fig.add_trace(go.Indicator(\n",
    "    mode = \"number+delta\",\n",
    "    value = df['New positives'].tail(1).values[0],\n",
    "),\n",
    "             )\n",
    "\n",
    "\n",
    "\n",
    "\n",
    "\n",
    "fig.update_layout(\n",
    "    template = {'data' : {'indicator': [{\n",
    "        'title' : {\"text\": f\"New Cases<br><span style='font-size:0.8em;color:gray'>Last Updated: {df.Date.tail(1).values[0].astype('M8[D]')}</span><br>\"},\n",
    "        'mode' : \"number+delta+gauge\",\n",
    "        'delta' : {'reference': df['New positives'].iloc[-2],\n",
    "                  'increasing': {'color':'red'},\n",
    "                  'decreasing': {'color':'green'}}}, \n",
    "        ]\n",
    "                         }})\n",
    "\n",
    "\n",
    "\n",
    "fig.add_trace(go.Scatter(x=df.Date,y=df['New positives'],marker_color='#497787', visible=False))\n",
    "\n",
    "fig.update_layout(\n",
    "    xaxis =  {'showgrid': False,'visible':False},\n",
    "    yaxis = {'showgrid': False,'visible':False}, \n",
    "    title={'text':f\"\",\n",
    "            'y':0.95,\n",
    "            'x':0.5,\n",
    "           'xanchor': 'center',\n",
    "            'yanchor': 'top'},\n",
    "    font=dict(\n",
    "        family=\"Roboto\",\n",
    "        size=22,\n",
    "        color=\"#000\"\n",
    "    )\n",
    ")\n",
    "\n",
    "fig.update_layout(\n",
    "    margin=dict(l=0, r=10, t=30, b=50),\n",
    "    plot_bgcolor='#DFE7EA',\n",
    "    paper_bgcolor=\"#DFE7EA\",\n",
    "updatemenus=[\n",
    "    dict(\n",
    "        type=\"buttons\",\n",
    "        direction=\"right\",\n",
    "        active=0,\n",
    "        x=0.57,\n",
    "        y=-0.1,\n",
    "        buttons=list([\n",
    "            dict(label=\"KPI\",\n",
    "                 method=\"update\",\n",
    "                 args=[{\"visible\": [True, False]},\n",
    "                       {\"title\": \"\"}\n",
    "                      ]),\n",
    "            dict(label=\"Trend\",\n",
    "                 method=\"update\",\n",
    "                 args=[{\"visible\": [False, True]},\n",
    "                       {\"title\": \"New Cases Over Time\"},]),\n",
    "        ]),\n",
    "    )])"
   ]
  },
  {
   "cell_type": "code",
   "execution_count": null,
   "metadata": {},
   "outputs": [],
   "source": [
    "fig = go.Figure()\n",
    "\n",
    "fig.add_trace(go.Indicator(\n",
    "    mode = \"number+delta\",\n",
    "    value = df['Deaths'].tail(1).values[0],\n",
    "),\n",
    "             )\n",
    "\n",
    "\n",
    "\n",
    "\n",
    "\n",
    "fig.update_layout(\n",
    "    template = {'data' : {'indicator': [{\n",
    "        'title' : {\"text\": f\"Total Deaths<br><span style='font-size:0.8em;color:gray'>Last Updated: {df.Date.tail(1).values[0].astype('M8[D]')}</span><br>\"},\n",
    "        'mode' : \"number+delta+gauge\",\n",
    "        'delta' : {'reference': df['Deaths'].iloc[-2],\n",
    "                  'increasing': {'color':'red'},\n",
    "                  'decreasing': {'color':'green'}}}, \n",
    "        ]\n",
    "                         }})\n",
    "\n",
    "\n",
    "\n",
    "fig.add_trace(go.Scatter(x=df.Date,y=df['Deaths'],marker_color='#497787', visible=False))\n",
    "\n",
    "fig.update_layout(\n",
    "    xaxis =  {'showgrid': False,'visible':False},\n",
    "    yaxis = {'showgrid': False,'visible':False}, \n",
    "    title={'text':f\"\",\n",
    "            'y':0.95,\n",
    "            'x':0.5,\n",
    "           'xanchor': 'center',\n",
    "            'yanchor': 'top'},\n",
    "    font=dict(\n",
    "        family=\"Roboto\",\n",
    "        size=22,\n",
    "        color=\"#000\"\n",
    "    )\n",
    ")\n",
    "\n",
    "fig.update_layout(\n",
    "    margin=dict(l=0, r=10, t=30, b=50),\n",
    "    plot_bgcolor='#DFE7EA',\n",
    "    paper_bgcolor=\"#DFE7EA\",\n",
    "updatemenus=[\n",
    "    dict(\n",
    "        type=\"buttons\",\n",
    "        direction=\"right\",\n",
    "        active=0,\n",
    "        x=0.57,\n",
    "        y=-0.1,\n",
    "        buttons=list([\n",
    "            dict(label=\"KPI\",\n",
    "                 method=\"update\",\n",
    "                 args=[{\"visible\": [True, False]},\n",
    "                       {\"title\": \"\"}\n",
    "                      ]),\n",
    "            dict(label=\"Trend\",\n",
    "                 method=\"update\",\n",
    "                 args=[{\"visible\": [False, True]},\n",
    "                       {\"title\": \"Deaths Over Time\"},]),\n",
    "        ]),\n",
    "    )])"
   ]
  },
  {
   "cell_type": "code",
   "execution_count": null,
   "metadata": {},
   "outputs": [],
   "source": [
    "fig = go.Figure()\n",
    "\n",
    "fig.add_trace(go.Indicator(\n",
    "    mode = \"number+delta\",\n",
    "    value = df['New deaths'].tail(1).values[0],\n",
    "),\n",
    "             )\n",
    "\n",
    "\n",
    "\n",
    "\n",
    "\n",
    "fig.update_layout(\n",
    "    template = {'data' : {'indicator': [{\n",
    "        'title' : {\"text\": f\"New Deaths<br><span style='font-size:0.8em;color:gray'>Last Updated: {df.Date.tail(1).values[0].astype('M8[D]')}</span><br>\"},\n",
    "        'mode' : \"number+delta+gauge\",\n",
    "        'delta' : {'reference': df['New deaths'].iloc[-2],\n",
    "                  'increasing': {'color':'red'},\n",
    "                  'decreasing': {'color':'green'}}}, \n",
    "        ]\n",
    "                         }})\n",
    "\n",
    "\n",
    "\n",
    "fig.add_trace(go.Scatter(x=df.Date,y=df['New deaths'],marker_color='#497787', visible=False))\n",
    "\n",
    "fig.update_layout(\n",
    "    xaxis =  {'showgrid': False,'visible':False},\n",
    "    yaxis = {'showgrid': False,'visible':False}, \n",
    "    title={'text':f\"\",\n",
    "            'y':0.95,\n",
    "            'x':0.5,\n",
    "           'xanchor': 'center',\n",
    "            'yanchor': 'top'},\n",
    "    font=dict(\n",
    "        family=\"Roboto\",\n",
    "        size=22,\n",
    "        color=\"#000\"\n",
    "    )\n",
    ")\n",
    "\n",
    "fig.update_layout(\n",
    "    margin=dict(l=0, r=10, t=30, b=50),\n",
    "    plot_bgcolor='#DFE7EA',\n",
    "    paper_bgcolor=\"#DFE7EA\",\n",
    "updatemenus=[\n",
    "    dict(\n",
    "        type=\"buttons\",\n",
    "        direction=\"right\",\n",
    "        active=0,\n",
    "        x=0.57,\n",
    "        y=-0.1,\n",
    "        buttons=list([\n",
    "            dict(label=\"KPI\",\n",
    "                 method=\"update\",\n",
    "                 args=[{\"visible\": [True, False]},\n",
    "                       {\"title\": \"\"}\n",
    "                      ]),\n",
    "            dict(label=\"Trend\",\n",
    "                 method=\"update\",\n",
    "                 args=[{\"visible\": [False, True]},\n",
    "                       {\"title\": \"New deaths Over Time\"},]),\n",
    "        ]),\n",
    "    )])"
   ]
  },
  {
   "cell_type": "code",
   "execution_count": null,
   "metadata": {},
   "outputs": [],
   "source": [
    "fig = go.Figure()\n",
    "\n",
    "fig.add_trace(go.Indicator(\n",
    "    mode = \"number+delta\",\n",
    "    value = df['Resolved'].tail(1).values[0],\n",
    "),\n",
    "             )\n",
    "\n",
    "\n",
    "\n",
    "\n",
    "\n",
    "fig.update_layout(\n",
    "    template = {'data' : {'indicator': [{\n",
    "        'title' : {\"text\": f\"Recovered Cases<br><span style='font-size:0.8em;color:gray'>Last Updated: {df.Date.tail(1).values[0].astype('M8[D]')}</span><br>\"},\n",
    "        'mode' : \"number+delta+gauge\",\n",
    "        'delta' : {'reference': df['Resolved'].iloc[-2],\n",
    "                  }}, \n",
    "        ]\n",
    "                         }})\n",
    "\n",
    "\n",
    "\n",
    "fig.add_trace(go.Scatter(x=df.Date,y=df['Resolved'],marker_color='#497787', visible=False))\n",
    "\n",
    "fig.update_layout(\n",
    "    xaxis =  {'showgrid': False,'visible':False},\n",
    "    yaxis = {'showgrid': False,'visible':False}, \n",
    "    title={'text':f\"\",\n",
    "            'y':0.95,\n",
    "            'x':0.5,\n",
    "           'xanchor': 'center',\n",
    "            'yanchor': 'top'},\n",
    "    font=dict(\n",
    "        family=\"Roboto\",\n",
    "        size=22,\n",
    "        color=\"#000\"\n",
    "    )\n",
    ")\n",
    "\n",
    "fig.update_layout(\n",
    "    margin=dict(l=0, r=10, t=30, b=50),\n",
    "    plot_bgcolor='#DFE7EA',\n",
    "    paper_bgcolor=\"#DFE7EA\",\n",
    "updatemenus=[\n",
    "    dict(\n",
    "        type=\"buttons\",\n",
    "        direction=\"right\",\n",
    "        active=0,\n",
    "        x=0.57,\n",
    "        y=-0.1,\n",
    "        buttons=list([\n",
    "            dict(label=\"KPI\",\n",
    "                 method=\"update\",\n",
    "                 args=[{\"visible\": [True, False]},\n",
    "                       {\"title\": \"\"}\n",
    "                      ]),\n",
    "            dict(label=\"Trend\",\n",
    "                 method=\"update\",\n",
    "                 args=[{\"visible\": [False, True]},\n",
    "                       {\"title\": \"Recovered Cases Over Time\"},]),\n",
    "        ]),\n",
    "    )])"
   ]
  },
  {
   "cell_type": "code",
   "execution_count": null,
   "metadata": {},
   "outputs": [],
   "source": [
    "# LHIN Population source : https://www.arcgis.com/home/item.html?id=7d11e1ba908840f79e827947a564e7da\n",
    "LHIN= {\n",
    "    \"Erie St. Clair\": 643432,\n",
    "    \"South West\":958298,\n",
    "    \"Waterloo Wellington\":758144,\n",
    "    \"Hamilton Niagara Haldimand Brant\":1414803,\n",
    "    \"Central West\":840086,\n",
    "    \"Mississauga Halton\":1182471,\n",
    "    \"Toronto Central\":1147368,\n",
    "    \"Central\":1798751,\n",
    "    \"Central East\":1607766,\n",
    "    \"South East\":491676,\n",
    "    \"Champlain\":1260528,\n",
    "    \"North Simcoe Muskoka\":462026,\n",
    "    \"North East\":566492,\n",
    "    \"North West\":283760,  \n",
    "}"
   ]
  },
  {
   "cell_type": "code",
   "execution_count": null,
   "metadata": {},
   "outputs": [],
   "source": [
    "PHU = {\n",
    "    \"Erie St. Clair\": ['Chatham-Kent Health Unit', 'Lambton Health Unit', 'Windsor-Essex County Health Unit'],\n",
    "    \"South West\":['Middlesex-London Health Unit', 'Grey Bruce Health Unit', 'Haldimand-Norfolk','Southwestern','Huron County Health Unit'],\n",
    "    \"Waterloo Wellington\":['Wellington-Dufferin-Guelph Health Unit','Grey Bruce Health Unit','Waterloo Health Unit'],\n",
    "    \"Hamilton Niagara Haldimand Brant\":['Brant County Health Unit','City of Hamilton Health Unit','Halton Regional Health Unit','Haldimand-Norfolk','Niagara Regional Area Health Unit'],\n",
    "    \"Central West\":['Wellington-Dufferin-Guelph Health Unit','Toronto Public Health'],\n",
    "    \"Mississauga Halton\":['Peel Regional Health Unit','Halton Regional Health Unit','Toronto Public Health'],\n",
    "    \"Toronto Central\":['City of Toronto Health Unit'],\n",
    "    \"Central\":['York Regional Health Unit','Toronto Public Health'],\n",
    "    \"Central East\":['Peterborough County-City Health Unit','Haliburton, Kawartha','Pine Ridge District Health Unit','Toronto Public Health','Durham Regional Health Unit'],\n",
    "    \"South East\":['Hastings and Prince Edward Counties Health Unit','Leeds, Grenville and Lanark District Health Unit','Kingston, Frontenac, and Lennox and Addington Health Unit','Haliburton, Kawartha, Pine Ridge District Health Unit'],\n",
    "    \"Champlain\":['Leeds Grenville and Lanark','The Eastern Ontario Health Unit','City of Ottawa Health Unit','Renfrew'],\n",
    "    \"North Simcoe Muskoka\":['Simcoe Muskoka District Health Unit','Grey Bruce Health Unit'],\n",
    "    \"North East\":['Northwestern Health Unit','Timiskaming Health Unit','North Bay Parry Sound District Health Unit','The District of Algoma Health Unit','Sudbury and District Health Unit','Porcupine Health Unit'],\n",
    "    \"North West\":['Northwestern Health Unit','Thunder Bay']  \n",
    "}"
   ]
  },
  {
   "cell_type": "code",
   "execution_count": null,
   "metadata": {},
   "outputs": [],
   "source": [
    "Regions = {\n",
    "    \"West\":[\"Erie St. Clair\",\"South West\",\"Waterloo Wellington\",\"Hamilton Niagara Haldimand Brant\"],\n",
    "    \"Central\":[\"Central West\",\"Mississauga Halton\",\"Central\",\"North Simcoe Muskoka\"],\n",
    "    \"Toronto\":[\"Toronto Central\"],\n",
    "    \"East\": [\"Central East\",\"South East\",\"Champlain\"],\n",
    "    \"North\": [\"North East\",\"North West\"]\n",
    "}"
   ]
  },
  {
   "cell_type": "code",
   "execution_count": null,
   "metadata": {},
   "outputs": [],
   "source": [
    "url=\"https://docs.google.com/spreadsheets/d/19LFZWy85MVueUm2jYmXXE6EC3dRpCPGZ05Bqfv5KyGA/export?format=csv&id=19LFZWy85MVueUm2jYmXXE6EC3dRpCPGZ05Bqfv5KyGA&gid=1476137037\"\n",
    "s=requests.get(url).content\n",
    "df = pd.read_csv(io.StringIO(s.decode('utf-8')))\n",
    "df['date'] = pd.to_datetime(df['date'])\n",
    "df.head()"
   ]
  },
  {
   "cell_type": "code",
   "execution_count": null,
   "metadata": {},
   "outputs": [],
   "source": [
    "for item in PHU:\n",
    "    df.loc[df.region.isin(PHU[item]),'LHIN'] = item\n",
    "\n",
    "for item in Regions:\n",
    "    df.loc[df.LHIN.isin(Regions[item]),'Region'] = item\n",
    "\n",
    "\n",
    "    \n",
    "df = df.drop(df.loc[df.region == 'Ontario'].index)\n",
    "\n",
    "regions = df.region.values\n",
    "\n",
    "df.region = [thing.replace(\"Health Unit\",\"\") for thing in regions]\n",
    "\n",
    "fig = go.Figure()\n",
    "\n",
    "df_t = df.groupby('region')['value'].sum().sort_values()\n",
    "\n",
    "fig.add_trace(go.Bar(y=df_t.index, x=df_t.values, orientation='h', text=df_t.values, textposition='inside',marker_color=\"#413C90\"))\n",
    "\n",
    "df_t = df.groupby('LHIN')['value'].sum().sort_values()\n",
    "\n",
    "fig.add_trace(go.Bar(y=df_t.index, x=df_t.values, orientation='h',text=df_t.values, textposition='inside',visible=False,marker_color=\"#413C90\"))\n",
    "\n",
    "df_t = df.groupby('Region')['value'].sum().sort_values()\n",
    "\n",
    "fig.add_trace(go.Bar(y=df_t.index, x=df_t.values, orientation='h',text=df_t.values, textposition='inside',visible=False, marker_color=\"#413C90\"))\n",
    "\n",
    "fig.update_layout(\n",
    "    xaxis =  {'showgrid': False},\n",
    "    yaxis = {'showgrid': False},      \n",
    "    title={'text':f\"Total Cases by Public Health Unit\",\n",
    "            'y':0.98,\n",
    "            'x':0.5,\n",
    "           'xanchor': 'center',\n",
    "            'yanchor': 'top'},\n",
    "    font=dict(\n",
    "        family=\"Roboto\",\n",
    "        color=\"#000\"\n",
    "    ),\n",
    "updatemenus=[\n",
    "    dict(\n",
    "        type=\"buttons\",\n",
    "        direction=\"right\",\n",
    "        active=0,\n",
    "        x=0,\n",
    "        y=-0.1,\n",
    "        buttons=list([\n",
    "            dict(label=\"PHU\",\n",
    "                 method=\"update\",\n",
    "                 args=[{\"visible\": [True, False, False]},\n",
    "                       {\"title\": \"Total Cases by Public Health Unit\"}]),\n",
    "            dict(label=\"LHIN\",\n",
    "                 method=\"update\",\n",
    "                 args=[{\"visible\": [False, True, False]},\n",
    "                       {\"title\": \"Total Cases by LHIN\"}]),\n",
    "            dict(label=\"Region\",\n",
    "                 method=\"update\",\n",
    "                 args=[{\"visible\": [False, False, True]},\n",
    "                       {\"title\": \"Total Cases by LHIN Region\"}]),\n",
    "        ]),\n",
    "    )\n",
    "])\n",
    "\n",
    "fig.update_layout(\n",
    "    margin=dict(l=0, r=10, t=40, b=50),\n",
    "    plot_bgcolor='#E0DFED',\n",
    "    paper_bgcolor=\"#E0DFED\",\n",
    ")"
   ]
  },
  {
   "cell_type": "code",
   "execution_count": null,
   "metadata": {},
   "outputs": [],
   "source": [
    "url = \"https://docs.google.com/spreadsheets/d/19LFZWy85MVueUm2jYmXXE6EC3dRpCPGZ05Bqfv5KyGA/export?format=csv&id=19LFZWy85MVueUm2jYmXXE6EC3dRpCPGZ05Bqfv5KyGA&gid=2137633660\"\n",
    "s=requests.get(url).content\n",
    "df = pd.read_csv(io.StringIO(s.decode('utf-8')))\n",
    "df['date'] = pd.to_datetime(df['date'])\n",
    "df = df.loc[df.region=='Toronto']\n",
    "df = df.sort_values('date')\n",
    "df.tail()"
   ]
  },
  {
   "cell_type": "code",
   "execution_count": null,
   "metadata": {},
   "outputs": [],
   "source": [
    "\n",
    "fig = go.Figure()\n",
    "\n",
    "ttype = df.transportation_type.unique()\n",
    "\n",
    "fig.add_trace(go.Indicator(\n",
    "    mode = \"number+delta\",\n",
    "    value = df['value'].tail(3).values.mean(),\n",
    "    number = {'suffix': \"% of baseline\", \"font\": {\"size\": 70}},\n",
    "),\n",
    "             )\n",
    "\n",
    "fig.update_layout(\n",
    "    template = {'data' : {'indicator': [{\n",
    "        'title' : {\"text\": f\"Toronto Mobility<br><span style='font-size:0.5em;color:gray'>Last Updated: {df.date.tail(1).values[0].astype('M8[D]')}</span><br>\"},\n",
    "        'mode' : \"number+delta+gauge\",\n",
    "        'delta' : {'reference': 100,\n",
    "                  }}, \n",
    "        ]\n",
    "                         }})\n",
    "\n",
    "for thing in ttype:\n",
    "    temp = df.loc[df.transportation_type == thing]\n",
    "    fig.add_trace(go.Scatter(name=thing,x=temp.date,y=temp['value'],opacity=0.5))\n",
    "\n",
    "fig.update_layout(\n",
    "    xaxis =  {'showgrid': False,'visible':True},\n",
    "    yaxis = {'showgrid': False},      \n",
    "    title={'text':f\"\",\n",
    "            'y':0.95,\n",
    "            'x':0.5,\n",
    "           'xanchor': 'center',\n",
    "            'yanchor': 'top'},\n",
    "    font=dict(\n",
    "        family=\"Roboto\",\n",
    "        color=\"#000\"\n",
    "    )\n",
    ")\n",
    "\n",
    "\n",
    "fig.update_layout(\n",
    "    margin=dict(l=0, r=10, t=40, b=50),\n",
    "    plot_bgcolor='#E0DFED',\n",
    "    paper_bgcolor=\"#E0DFED\",\n",
    ")"
   ]
  },
  {
   "cell_type": "code",
   "execution_count": null,
   "metadata": {},
   "outputs": [],
   "source": [
    "url=\"https://docs.google.com/spreadsheets/d/19LFZWy85MVueUm2jYmXXE6EC3dRpCPGZ05Bqfv5KyGA/export?format=csv&id=19LFZWy85MVueUm2jYmXXE6EC3dRpCPGZ05Bqfv5KyGA&gid=812152023\"\n",
    "s=requests.get(url).content\n",
    "df = pd.read_csv(io.StringIO(s.decode('utf-8')))\n",
    "df['date'] = pd.to_datetime(df['date'])\n",
    "df = df.loc[df.region == 'Ontario']\n",
    "df = df.sort_values(['region', 'category', 'date'])\n",
    "df.head()"
   ]
  },
  {
   "cell_type": "code",
   "execution_count": null,
   "metadata": {},
   "outputs": [],
   "source": [
    "df.category.unique()"
   ]
  },
  {
   "cell_type": "code",
   "execution_count": null,
   "metadata": {},
   "outputs": [],
   "source": [
    "fig = go.Figure()\n",
    "\n",
    "ttype = df.category.unique()\n",
    "\n",
    "fig.add_trace(go.Scatter(name=ttype[0],x=df.loc[df.category == ttype[0]].date,y=df.loc[df.category == ttype[0]]['value']))\n",
    "\n",
    "for item in ttype[1:]:\n",
    "    fig.add_trace(go.Scatter(name=item,x=df.loc[df.category == item].date,y=df.loc[df.category == item]['value'],visible=False))\n",
    "\n",
    "\n",
    "fig.update_layout(\n",
    "    xaxis =  {'showgrid': False,'visible':False},\n",
    "    yaxis = {'showgrid': False},      \n",
    "    title={'text':f\"{ttype[0]} {int(df.loc[df.category == ttype[0]]['value'].tail(1))}%\",\n",
    "            'y':0.99,\n",
    "            'x':0.5,\n",
    "           'xanchor': 'center',\n",
    "            'yanchor': 'top'},\n",
    "    font=dict(\n",
    "        family=\"Roboto\",\n",
    "        color=\"#000\"\n",
    "    ),\n",
    "updatemenus=[\n",
    "    dict(\n",
    "        type=\"buttons\",\n",
    "        direction=\"right\",\n",
    "        active=0,\n",
    "        x=0.57,\n",
    "        y=-0.1,\n",
    "        buttons=list([\n",
    "            dict(label=\"Grocery\",\n",
    "                 method=\"update\",\n",
    "                 args=[{\"visible\": [True, False, False, False, False, False]},\n",
    "                       {\"title\": f\"{ttype[0]} {int(df.loc[df.category == ttype[0]]['value'].tail(1))}%\"}]),\n",
    "            dict(label=\"Parks\",\n",
    "                 method=\"update\",\n",
    "                 args=[{\"visible\": [False, True, False, False, False, False]},\n",
    "                       {\"title\": f\"{ttype[1]} {int(df.loc[df.category == ttype[1]]['value'].tail(1))}%\"}]),\n",
    "            dict(label=\"Residential\",\n",
    "                 method=\"update\",\n",
    "                 args=[{\"visible\": [False, False, True, False, False, False]},\n",
    "                       {\"title\": f\"{ttype[2]} {int(df.loc[df.category == ttype[2]]['value'].tail(1))}%\"}]),\n",
    "            dict(label=\"Retail\",\n",
    "                 method=\"update\",\n",
    "                 args=[{\"visible\": [False, False, False, True, False, False]},\n",
    "                       {\"title\": f\"{ttype[3]} {int(df.loc[df.category == ttype[3]]['value'].tail(1))}%\"}]),\n",
    "            \n",
    "            dict(label=\"Transit\",\n",
    "                 method=\"update\",\n",
    "                 args=[{\"visible\": [False, False, False, False, True, False]},\n",
    "                       {\"title\": f\"{ttype[4]} {int(df.loc[df.category == ttype[4]]['value'].tail(1))}%\"}]),\n",
    "            \n",
    "            dict(label=\"Work\",\n",
    "                 method=\"update\",\n",
    "                 args=[{\"visible\": [False, False, False, False, False, True]},\n",
    "                       {\"title\": f\"{ttype[5]} {int(df.loc[df.category == ttype[5]]['value'].tail(1))}%\"}]),\n",
    "        ]),\n",
    "    )\n",
    "])\n",
    "\n",
    "fig.update_layout(\n",
    "    margin=dict(l=0, r=10, t=40, b=50),\n",
    "    plot_bgcolor='#E0DFED',\n",
    "    paper_bgcolor=\"#E0DFED\",\n",
    ")"
   ]
  },
  {
   "cell_type": "code",
   "execution_count": null,
   "metadata": {},
   "outputs": [],
   "source": [
    "url = \"https://docs.google.com/spreadsheets/d/19LFZWy85MVueUm2jYmXXE6EC3dRpCPGZ05Bqfv5KyGA/export?format=csv&id=19LFZWy85MVueUm2jYmXXE6EC3dRpCPGZ05Bqfv5KyGA&gid=1694584755\"\n",
    "s=requests.get(url).content\n",
    "df = pd.read_csv(io.StringIO(s.decode('utf-8')))\n",
    "df['date'] = pd.to_datetime(df['date'])\n",
    "df = df.sort_values(['date','lhin'])\n",
    "df.head()"
   ]
  },
  {
   "cell_type": "code",
   "execution_count": null,
   "metadata": {},
   "outputs": [],
   "source": [
    "last_date = df.tail(1).date.values[0]\n",
    "df = df.loc[df.date == last_date]\n",
    "\n",
    "\n",
    "fig = go.Figure()\n",
    "\n",
    "fig.add_trace(\n",
    "    go.Table(\n",
    "        header=dict(\n",
    "            values=[\"LHIN\", \"Residual Beds\", \"Residual Ventilators\"],\n",
    "            font=dict(size=10),\n",
    "            align=\"left\",\n",
    "            fill_color='#E0DFED'\n",
    "        ),\n",
    "        cells=dict(\n",
    "            values=[df[k].tolist() for k in df[['lhin', 'residual_beds', 'residual_ventilators']].columns[:]],\n",
    "            align = \"left\",\n",
    "        fill_color='#E0DFED')\n",
    "    )\n",
    ")\n",
    "\n",
    "fig.update_layout(\n",
    "    margin=dict(l=0, r=10, t=40, b=50),\n",
    "    plot_bgcolor='#E0DFED',\n",
    "    paper_bgcolor=\"#E0DFED\",\n",
    ")"
   ]
  },
  {
   "cell_type": "code",
   "execution_count": null,
   "metadata": {},
   "outputs": [],
   "source": [
    "df.head()"
   ]
  },
  {
   "cell_type": "code",
   "execution_count": null,
   "metadata": {},
   "outputs": [],
   "source": [
    "last_date = df.tail(1).date.values[0]\n",
    "df = df.loc[df.date == last_date]\n",
    "\n",
    "df.rename(columns={\"confirmed_positive\":\"Confirmed Covid\"},inplace=True)\n",
    "df.rename(columns={\"suspected_covid\":\"Suspected Covid\"},inplace=True)\n",
    "df.rename(columns={\"non_covid\":\"Not Covid\"},inplace=True)\n",
    "\n",
    "fig = go.Figure()\n",
    "\n",
    "for thing in ['Confirmed Covid','Suspected Covid','Not Covid']:\n",
    "    fig.add_trace(go.Bar(name=thing,y=df.lhin, x=df[thing],orientation='h'))\n",
    "\n",
    "fig.update_layout(barmode='stack')\n",
    "\n",
    "fig.update_layout(\n",
    "    margin=dict(l=0, r=10, t=40, b=50),\n",
    "    plot_bgcolor='#E0DFED',\n",
    "    paper_bgcolor=\"#E0DFED\",\n",
    "    legend_orientation=\"h\"\n",
    ")"
   ]
  },
  {
   "cell_type": "code",
   "execution_count": null,
   "metadata": {},
   "outputs": [],
   "source": [
    "url = \"https://docs.google.com/spreadsheets/d/19LFZWy85MVueUm2jYmXXE6EC3dRpCPGZ05Bqfv5KyGA/export?format=csv&id=19LFZWy85MVueUm2jYmXXE6EC3dRpCPGZ05Bqfv5KyGA&gid=1313299474\"\n",
    "s=requests.get(url).content\n",
    "df = pd.read_csv(io.StringIO(s.decode('utf-8')))\n",
    "df['date'] = pd.to_datetime(df['date'])\n",
    "df = df.sort_values(['date'])\n",
    "df.head()"
   ]
  },
  {
   "cell_type": "code",
   "execution_count": null,
   "metadata": {},
   "outputs": [],
   "source": [
    "fig = go.Figure()\n",
    "\n",
    "fig.add_trace(go.Indicator(\n",
    "    mode = \"number+delta\",\n",
    "    value = df['residual_beds'].tail(1).values[0],\n",
    "),\n",
    "             )\n",
    "\n",
    "\n",
    "\n",
    "\n",
    "\n",
    "fig.update_layout(\n",
    "    template = {'data' : {'indicator': [{\n",
    "        'title' : {\"text\": f\"ICU Beds Left<br><span style='font-size:0.8em;color:gray'>Last Updated: {df.date.tail(1).values[0].astype('M8[D]')}</span><br>\"},\n",
    "        'mode' : \"number+delta+gauge\",\n",
    "        'delta' : {'reference': df['residual_beds'].iloc[-2],\n",
    "                  }}, \n",
    "        ]\n",
    "                         }})\n",
    "\n",
    "\n",
    "\n",
    "fig.add_trace(go.Scatter(x=df.date,y=df['residual_beds'],marker_color='#497787', visible=False))\n",
    "\n",
    "fig.update_layout(\n",
    "    xaxis =  {'showgrid': False,'visible':False},\n",
    "    yaxis = {'showgrid': False,'visible':False}, \n",
    "    title={'text':f\"\",\n",
    "            'y':0.95,\n",
    "            'x':0.5,\n",
    "           'xanchor': 'center',\n",
    "            'yanchor': 'top'},\n",
    "    font=dict(\n",
    "        family=\"Roboto\",\n",
    "        size=22,\n",
    "        color=\"#000\"\n",
    "    )\n",
    ")\n",
    "\n",
    "fig.update_layout(\n",
    "    margin=dict(l=0, r=10, t=30, b=50),\n",
    "    plot_bgcolor='#DFE7EA',\n",
    "    paper_bgcolor=\"#DFE7EA\",\n",
    "updatemenus=[\n",
    "    dict(\n",
    "        type=\"buttons\",\n",
    "        direction=\"right\",\n",
    "        active=0,\n",
    "        x=0.57,\n",
    "        y=-0.1,\n",
    "        buttons=list([\n",
    "            dict(label=\"KPI\",\n",
    "                 method=\"update\",\n",
    "                 args=[{\"visible\": [True, False]},\n",
    "                       {\"title\": \"\"}\n",
    "                      ]),\n",
    "            dict(label=\"Trend\",\n",
    "                 method=\"update\",\n",
    "                 args=[{\"visible\": [False, True]},\n",
    "                       {\"title\": \"Residual Beds Over Time\"},]),\n",
    "        ]),\n",
    "    )])"
   ]
  },
  {
   "cell_type": "code",
   "execution_count": null,
   "metadata": {},
   "outputs": [],
   "source": [
    "fig = go.Figure()\n",
    "\n",
    "fig.add_trace(go.Indicator(\n",
    "    mode = \"number+delta\",\n",
    "    value = df['residual_ventilators'].tail(1).values[0],\n",
    "),\n",
    "             )\n",
    "\n",
    "\n",
    "\n",
    "\n",
    "\n",
    "fig.update_layout(\n",
    "    template = {'data' : {'indicator': [{\n",
    "        'title' : {\"text\": f\"Ventilators Left<br><span style='font-size:0.8em;color:gray'>Last Updated: {df.date.tail(1).values[0].astype('M8[D]')}</span><br>\"},\n",
    "        'mode' : \"number+delta+gauge\",\n",
    "        'delta' : {'reference': df['residual_ventilators'].iloc[-2],\n",
    "                  }}, \n",
    "        ]\n",
    "                         }})\n",
    "\n",
    "\n",
    "\n",
    "fig.add_trace(go.Scatter(x=df.date,y=df['residual_ventilators'],marker_color='#497787', visible=False))\n",
    "\n",
    "fig.update_layout(\n",
    "    xaxis =  {'showgrid': False,'visible':False},\n",
    "    yaxis = {'showgrid': False,'visible':False}, \n",
    "    title={'text':f\"\",\n",
    "            'y':0.95,\n",
    "            'x':0.5,\n",
    "           'xanchor': 'center',\n",
    "            'yanchor': 'top'},\n",
    "    font=dict(\n",
    "        family=\"Roboto\",\n",
    "        size=22,\n",
    "        color=\"#000\"\n",
    "    )\n",
    ")\n",
    "\n",
    "fig.update_layout(\n",
    "    margin=dict(l=0, r=10, t=30, b=50),\n",
    "    plot_bgcolor='#DFE7EA',\n",
    "    paper_bgcolor=\"#DFE7EA\",\n",
    "updatemenus=[\n",
    "    dict(\n",
    "        type=\"buttons\",\n",
    "        direction=\"right\",\n",
    "        active=0,\n",
    "        x=0.57,\n",
    "        y=-0.1,\n",
    "        buttons=list([\n",
    "            dict(label=\"KPI\",\n",
    "                 method=\"update\",\n",
    "                 args=[{\"visible\": [True, False]},\n",
    "                       {\"title\": \"\"}\n",
    "                      ]),\n",
    "            dict(label=\"Trend\",\n",
    "                 method=\"update\",\n",
    "                 args=[{\"visible\": [False, True]},\n",
    "                       {\"title\": \"Residual Ventilators Over Time\"},]),\n",
    "        ]),\n",
    "    )])"
   ]
  },
  {
   "cell_type": "code",
   "execution_count": null,
   "metadata": {},
   "outputs": [],
   "source": [
    "url = \"https://docs.google.com/spreadsheets/d/1PTVSFZwSVWldmDpFEO_xXxTB-xSFtGq3pDPUKeLDEec/export?format=csv&id=1PTVSFZwSVWldmDpFEO_xXxTB-xSFtGq3pDPUKeLDEec&gid=0\"\n",
    "s=requests.get(url).content\n",
    "df = pd.read_csv(io.StringIO(s.decode('utf-8')))\n",
    "df.head()"
   ]
  },
  {
   "cell_type": "code",
   "execution_count": null,
   "metadata": {},
   "outputs": [],
   "source": [
    "df.SES.replace(1,\"1 (least deprived)\",inplace=True)\n",
    "df.SES.replace(5,\"5 (most deprived)\",inplace=True)\n",
    "\n",
    "\n",
    "fig = go.Figure()\n",
    "\n",
    "types = df['case status'].unique()\n",
    "\n",
    "socio = [\"1 (least deprived)\",2,3,4,\"5 (most deprived)\"]\n",
    "\n",
    "colors = ['blue', 'red']\n",
    "\n",
    "colors = ['#B9DDF1','#8BBADC','#6798C1','#4776A4','#2A5783']\n",
    "\n",
    "for ttype, color in zip(socio,colors):\n",
    "    temp = df.loc[df.SES == ttype]\n",
    "    fig.add_trace(go.Bar(name=ttype,x=types,y=temp['value'].values,text=temp['value'].values,textposition='auto',marker_color=color))\n",
    "\n",
    "\n",
    "fig.update_layout(barmode='stack')\n",
    "\n",
    "fig.update_layout(\n",
    "    margin=dict(l=0, r=10, t=40, b=50),\n",
    "    plot_bgcolor='#E0DFED',\n",
    "    paper_bgcolor=\"#E0DFED\",\n",
    "    legend_orientation=\"h\"\n",
    ")\n",
    "\n",
    "fig.update_layout(\n",
    "    xaxis =  {'showgrid': False,'visible':True},\n",
    "    yaxis = {'showgrid': True,'visible':True}, \n",
    "    title={'text':f\"Distribution of COVID19 Cases by Neighbourhood Socioeconmic Status\",\n",
    "            'y':0.95,\n",
    "            'x':0.5,\n",
    "           'xanchor': 'center',\n",
    "            'yanchor': 'top'},\n",
    "    font=dict(\n",
    "        family=\"Roboto\",\n",
    "        color=\"#000\"\n",
    "    )\n",
    ")"
   ]
  },
  {
   "cell_type": "code",
   "execution_count": null,
   "metadata": {},
   "outputs": [],
   "source": [
    "url = \"https://docs.google.com/spreadsheets/d/19LFZWy85MVueUm2jYmXXE6EC3dRpCPGZ05Bqfv5KyGA/export?format=csv&id=19LFZWy85MVueUm2jYmXXE6EC3dRpCPGZ05Bqfv5KyGA&gid=2041757828\"\n",
    "s=requests.get(url).content\n",
    "df = pd.read_csv(io.StringIO(s.decode('utf-8')))\n",
    "df.head()"
   ]
  },
  {
   "cell_type": "code",
   "execution_count": null,
   "metadata": {},
   "outputs": [],
   "source": [
    "Canada = ['Ontario', 'BC', 'Alberta', 'Quebec', 'Saskatchewan',\n",
    "       'Nova Scotia', 'NL', 'New Brunswick', 'Manitoba', 'Canada']\n",
    "International = ['Ontario','Canada',\n",
    "       'Italy', 'Korea, South', 'Spain', 'United Kingdom', 'France', 'US']\n",
    "\n",
    "fig = go.Figure()\n",
    "\n",
    "for item in Canada:\n",
    "    temp = df.loc[df.region == item]\n",
    "    fig.add_trace(go.Scatter(name=item,x=temp.date_shifted,y=temp.average))\n",
    "\n",
    "fig.update_layout(\n",
    "    xaxis =  {'showgrid': False,'visible':True},\n",
    "    yaxis = {'showgrid': True,'visible':True, 'type': 'log'}, \n",
    "    title={'text':f\"Provincial Comparison: COVID19 Reported Cases Per Day\",\n",
    "            'y':0.95,\n",
    "            'x':0.5,\n",
    "           'xanchor': 'center',\n",
    "            'yanchor': 'top'},\n",
    "    font=dict(\n",
    "        family=\"Roboto\",\n",
    "        color=\"#000\"\n",
    "    )\n",
    ")\n",
    "\n",
    "fig.update_layout(\n",
    "    margin=dict(l=0, r=10, t=40, b=50),\n",
    "    plot_bgcolor='#DFE7EA',\n",
    "    paper_bgcolor=\"#DFE7EA\",\n",
    "    legend_orientation=\"h\"\n",
    ")"
   ]
  },
  {
   "cell_type": "code",
   "execution_count": null,
   "metadata": {},
   "outputs": [],
   "source": [
    "fig = go.Figure()\n",
    "\n",
    "for item in International:\n",
    "    temp = df.loc[df.region == item]\n",
    "    fig.add_trace(go.Scatter(name=item,x=temp.date_shifted,y=temp.average))\n",
    "\n",
    "fig.update_layout(\n",
    "    xaxis =  {'showgrid': False,'visible':True},\n",
    "    yaxis = {'showgrid': True,'visible':True, 'type': 'log'}, \n",
    "    title={'text':f\"International Comparison: COVID19 Reported Cases Per Day\",\n",
    "            'y':0.95,\n",
    "            'x':0.5,\n",
    "           'xanchor': 'center',\n",
    "            'yanchor': 'top'},\n",
    "    font=dict(\n",
    "        family=\"Roboto\",\n",
    "        color=\"#000\"\n",
    "    )\n",
    ")\n",
    "\n",
    "fig.update_layout(\n",
    "    margin=dict(l=0, r=10, t=40, b=50),\n",
    "    plot_bgcolor='#E0DFED',\n",
    "    paper_bgcolor=\"#E0DFED\",\n",
    "    legend_orientation=\"h\"\n",
    ")"
   ]
  },
  {
   "cell_type": "code",
   "execution_count": null,
   "metadata": {},
   "outputs": [],
   "source": [
    "url = \"https://docs.google.com/spreadsheets/d/19LFZWy85MVueUm2jYmXXE6EC3dRpCPGZ05Bqfv5KyGA/export?format=csv&id=19LFZWy85MVueUm2jYmXXE6EC3dRpCPGZ05Bqfv5KyGA&gid=169560279\"\n",
    "s=requests.get(url).content\n",
    "df = pd.read_csv(io.StringIO(s.decode('utf-8')))\n",
    "df.head()"
   ]
  },
  {
   "cell_type": "code",
   "execution_count": null,
   "metadata": {},
   "outputs": [],
   "source": [
    "Canada = ['Ontario', 'BC', 'Alberta', 'Quebec', 'Saskatchewan',\n",
    "       'Nova Scotia', 'NL', 'New Brunswick', 'Manitoba', 'Canada']\n",
    "International = ['Ontario','Canada',\n",
    "       'Italy', 'Korea, South', 'Spain', 'United Kingdom', 'France', 'US']\n",
    "\n",
    "fig = go.Figure()\n",
    "\n",
    "for item in Canada:\n",
    "    temp = df.loc[df.region == item]\n",
    "    fig.add_trace(go.Scatter(name=item,x=temp.date_shifted,y=temp.average))\n",
    "\n",
    "fig.update_layout(\n",
    "    xaxis =  {'showgrid': False,'visible':True},\n",
    "    yaxis = {'showgrid': True,'visible':True, 'type': 'log'}, \n",
    "    title={'text':f\"Provincial Comparison: COVID19 Reported Deaths Per Day\",\n",
    "            'y':0.95,\n",
    "            'x':0.5,\n",
    "           'xanchor': 'center',\n",
    "            'yanchor': 'top'},\n",
    "    font=dict(\n",
    "        family=\"Roboto\",\n",
    "        color=\"#000\"\n",
    "    )\n",
    ")\n",
    "\n",
    "fig.update_layout(\n",
    "    margin=dict(l=0, r=10, t=40, b=50),\n",
    "    plot_bgcolor='#DFE7EA',\n",
    "    paper_bgcolor=\"#DFE7EA\",\n",
    "    legend_orientation=\"h\"\n",
    ")"
   ]
  },
  {
   "cell_type": "code",
   "execution_count": null,
   "metadata": {},
   "outputs": [],
   "source": [
    "fig = go.Figure()\n",
    "\n",
    "for item in International:\n",
    "    temp = df.loc[df.region == item]\n",
    "    fig.add_trace(go.Scatter(name=item,x=temp.date_shifted,y=temp.average))\n",
    "\n",
    "fig.update_layout(\n",
    "    xaxis =  {'showgrid': False,'visible':True},\n",
    "    yaxis = {'showgrid': True,'visible':True, 'type': 'log'}, \n",
    "    title={'text':f\"International Comparison: COVID19 Reported Deaths Per Day\",\n",
    "            'y':0.95,\n",
    "            'x':0.5,\n",
    "           'xanchor': 'center',\n",
    "            'yanchor': 'top'},\n",
    "    font=dict(\n",
    "        family=\"Roboto\",\n",
    "        color=\"#000\"\n",
    "    )\n",
    ")\n",
    "\n",
    "fig.update_layout(\n",
    "    margin=dict(l=0, r=10, t=40, b=50),\n",
    "    plot_bgcolor='#E0DFED',\n",
    "    paper_bgcolor=\"#E0DFED\",\n",
    "    legend_orientation=\"h\"\n",
    ")"
   ]
  },
  {
   "cell_type": "code",
   "execution_count": null,
   "metadata": {},
   "outputs": [],
   "source": [
    "url = \" https://docs.google.com/spreadsheets/d/19LFZWy85MVueUm2jYmXXE6EC3dRpCPGZ05Bqfv5KyGA/export?format=csv&id=19LFZWy85MVueUm2jYmXXE6EC3dRpCPGZ05Bqfv5KyGA&gid=1167743117\"\n",
    "s=requests.get(url).content\n",
    "df = pd.read_csv(io.StringIO(s.decode('utf-8')))\n",
    "df.head()"
   ]
  },
  {
   "cell_type": "code",
   "execution_count": null,
   "metadata": {},
   "outputs": [],
   "source": [
    "df = df.loc[df.region == 'Ontario']\n",
    "\n",
    "fig = go.Figure()\n",
    "\n",
    "fig.add_trace(go.Bar(x=df.date,y=df.daily_deaths,text=df.daily_deaths,textposition='auto', marker_color='#4F4B99'))\n",
    "\n",
    "fig.update_layout(\n",
    "    title={'text':\"Daily Deaths in Ontario: Comparison of COVID-19 and Estimates of non-COVID-19 Leading Causes\",\n",
    "            'y':0.95,\n",
    "            'x':0.5,\n",
    "           'xanchor': 'center',\n",
    "            'yanchor': 'top'},\n",
    "    font=dict(\n",
    "        family=\"Roboto\",\n",
    "        color=\"#000\"\n",
    "    )\n",
    ")\n",
    "\n",
    "fig.update_layout(\n",
    "    margin=dict(l=0, r=10, t=40, b=50),\n",
    "    plot_bgcolor='#E0DFED',\n",
    "    paper_bgcolor=\"#E0DFED\",\n",
    "    showlegend=False\n",
    ")\n",
    "\n",
    "fig.add_shape(\n",
    "        # Line Horizontal\n",
    "            type=\"line\",\n",
    "            x0=df.date.head(1).values[0],\n",
    "            y0=8,\n",
    "            x1=df.date.tail(1).values[0],\n",
    "            y1=8,\n",
    "            line=dict(\n",
    "                color=\"grey\",\n",
    "                width=1,\n",
    "            ),\n",
    "    )\n",
    "\n",
    "fig.add_shape(\n",
    "        # Line Horizontal\n",
    "            type=\"line\",\n",
    "            x0=df.date.head(1).values[0],\n",
    "            y0=14,\n",
    "            x1=df.date.tail(1).values[0],\n",
    "            y1=14,\n",
    "            line=dict(\n",
    "                color=\"grey\",\n",
    "                width=1,\n",
    "            ),\n",
    "    )\n",
    "\n",
    "fig.add_shape(\n",
    "        # Line Horizontal\n",
    "            type=\"line\",\n",
    "            x0=df.date.head(1).values[0],\n",
    "            y0=16,\n",
    "            x1=df.date.tail(1).values[0],\n",
    "            y1=16,\n",
    "            line=dict(\n",
    "                color=\"grey\",\n",
    "                width=1,\n",
    "            ),\n",
    "    )\n",
    "\n",
    "fig.add_shape(\n",
    "        # Line Horizontal\n",
    "            type=\"line\",\n",
    "            x0=df.date.head(1).values[0],\n",
    "            y0=56,\n",
    "            x1=df.date.tail(1).values[0],\n",
    "            y1=56,\n",
    "            line=dict(\n",
    "                color=\"grey\",\n",
    "                width=1,\n",
    "            ),\n",
    "    )\n",
    "\n",
    "fig.add_shape(\n",
    "        # Line Horizontal\n",
    "            type=\"line\",\n",
    "            x0=df.date.head(1).values[0],\n",
    "            y0=83,\n",
    "            x1=df.date.tail(1).values[0],\n",
    "            y1=83,\n",
    "            line=dict(\n",
    "                color=\"grey\",\n",
    "                width=1,\n",
    "            ),\n",
    "    )\n",
    "\n",
    "fig.update_shapes(dict(xref='x', yref='y'))\n",
    "\n",
    "fig.add_trace(go.Scatter(\n",
    "    x=[df.date.head(3).values[1], df.date.head(3).values[1], df.date.head(3).values[1],df.date.head(3).values[1],df.date.head(3).values[1],df.date.head(3).values[1]],\n",
    "    y=[8+1,14+1,16+1,56+1,83+1],\n",
    "    text=[\"Diabetes\",\"Cerebrovascular Disease\",\"Accidents / Injuries\",\"Heart Disease\",\"All Cancers\"],\n",
    "    mode=\"text\",\n",
    "))"
   ]
  },
  {
   "cell_type": "code",
   "execution_count": null,
   "metadata": {},
   "outputs": [],
   "source": [
    "url = \"https://docs.google.com/spreadsheets/d/1pWmFfseTzrTX06Ay2zCnfdCG0VEJrMVWh-tAU9anZ9U/export?format=csv&id=1pWmFfseTzrTX06Ay2zCnfdCG0VEJrMVWh-tAU9anZ9U&gid=0\"\n",
    "s=requests.get(url).content\n",
    "df = pd.read_csv(io.StringIO(s.decode('utf-8')))\n",
    "df['Date'] = pd.to_datetime(df['Date'])\n",
    "df.head()"
   ]
  },
  {
   "cell_type": "code",
   "execution_count": null,
   "metadata": {},
   "outputs": [],
   "source": [
    "fig = go.Figure()\n",
    "\n",
    "fig.add_trace(go.Indicator(\n",
    "    mode = \"number+delta\",\n",
    "    value = df['LTC Deaths'].tail(1).values[0],\n",
    "),\n",
    "             )\n",
    "\n",
    "\n",
    "\n",
    "\n",
    "\n",
    "fig.update_layout(\n",
    "    template = {'data' : {'indicator': [{\n",
    "        'title' : {\"text\": f\"LTC Deaths<br><span style='font-size:0.8em;color:gray'>Last Updated: {df.Date.tail(1).values[0].astype('M8[D]')}</span><br>\"},\n",
    "        'mode' : \"number+delta+gauge\",\n",
    "        'delta' : {'reference': df['LTC Deaths'].iloc[-2],\n",
    "                  'increasing': {'color':'red'},\n",
    "                  'decreasing': {'color':'green'}}}, \n",
    "        ]\n",
    "                         }})\n",
    "\n",
    "\n",
    "\n",
    "fig.add_trace(go.Scatter(x=df.Date,y=df['LTC Deaths'],marker_color='#497787', visible=False))\n",
    "\n",
    "fig.update_layout(\n",
    "    xaxis =  {'showgrid': False,'visible':False},\n",
    "    yaxis = {'showgrid': False,'visible':False}, \n",
    "    title={'text':f\"\",\n",
    "            'y':0.95,\n",
    "            'x':0.5,\n",
    "           'xanchor': 'center',\n",
    "            'yanchor': 'top'},\n",
    "    font=dict(\n",
    "        family=\"Roboto\",\n",
    "        color=\"#000\"\n",
    "    )\n",
    ")\n",
    "\n",
    "fig.update_layout(\n",
    "    margin=dict(l=0, r=10, t=30, b=50),\n",
    "    plot_bgcolor='#DFE7EA',\n",
    "    paper_bgcolor=\"#DFE7EA\",\n",
    "updatemenus=[\n",
    "    dict(\n",
    "        type=\"buttons\",\n",
    "        direction=\"right\",\n",
    "        active=0,\n",
    "        x=0.57,\n",
    "        y=-0.1,\n",
    "        buttons=list([\n",
    "            dict(label=\"KPI\",\n",
    "                 method=\"update\",\n",
    "                 args=[{\"visible\": [True, False]},\n",
    "                       {\"title\": \"\"}\n",
    "                      ]),\n",
    "            dict(label=\"Trend\",\n",
    "                 method=\"update\",\n",
    "                 args=[{\"visible\": [False, True]},\n",
    "                       {\"title\": \"LTC Deaths Over Time\"},]),\n",
    "        ]),\n",
    "    )])"
   ]
  },
  {
   "cell_type": "code",
   "execution_count": null,
   "metadata": {},
   "outputs": [],
   "source": [
    "fig = go.Figure()\n",
    "\n",
    "fig.add_trace(go.Indicator(\n",
    "    mode = \"number+delta\",\n",
    "    value = df['LTC Cases Total'].tail(1).values[0],\n",
    "),\n",
    "             )\n",
    "\n",
    "\n",
    "\n",
    "\n",
    "\n",
    "fig.update_layout(\n",
    "    template = {'data' : {'indicator': [{\n",
    "        'title' : {\"text\": f\"LTC Cases<br><span style='font-size:0.8em;color:gray'>Last Updated: {df.Date.tail(1).values[0].astype('M8[D]')}</span><br>\"},\n",
    "        'mode' : \"number+delta+gauge\",\n",
    "        'delta' : {'reference': df['LTC Cases Total'].iloc[-2],\n",
    "                  'increasing': {'color':'red'},\n",
    "                  'decreasing': {'color':'green'}}}, \n",
    "        ]\n",
    "                         }})\n",
    "\n",
    "\n",
    "\n",
    "fig.add_trace(go.Scatter(x=df.Date,y=df['LTC Cases Total'],marker_color='#497787', visible=False))\n",
    "\n",
    "fig.update_layout(\n",
    "    xaxis =  {'showgrid': False,'visible':False},\n",
    "    yaxis = {'showgrid': False,'visible':False}, \n",
    "    title={'text':f\"\",\n",
    "            'y':0.95,\n",
    "            'x':0.5,\n",
    "           'xanchor': 'center',\n",
    "            'yanchor': 'top'},\n",
    "    font=dict(\n",
    "        family=\"Roboto\",\n",
    "        color=\"#000\"\n",
    "    )\n",
    ")\n",
    "\n",
    "fig.update_layout(\n",
    "    margin=dict(l=0, r=10, t=30, b=50),\n",
    "    plot_bgcolor='#DFE7EA',\n",
    "    paper_bgcolor=\"#DFE7EA\",\n",
    "updatemenus=[\n",
    "    dict(\n",
    "        type=\"buttons\",\n",
    "        direction=\"right\",\n",
    "        active=0,\n",
    "        x=0.57,\n",
    "        y=-0.1,\n",
    "        buttons=list([\n",
    "            dict(label=\"KPI\",\n",
    "                 method=\"update\",\n",
    "                 args=[{\"visible\": [True, False]},\n",
    "                       {\"title\": \"\"}\n",
    "                      ]),\n",
    "            dict(label=\"Trend\",\n",
    "                 method=\"update\",\n",
    "                 args=[{\"visible\": [False, True]},\n",
    "                       {\"title\": \"LTC Cases Over Time\"},]),\n",
    "        ]),\n",
    "    )])"
   ]
  },
  {
   "cell_type": "code",
   "execution_count": null,
   "metadata": {},
   "outputs": [],
   "source": [
    "fig = go.Figure()\n",
    "\n",
    "fig.add_trace(go.Indicator(\n",
    "    mode = \"number\",\n",
    "),\n",
    "             )\n",
    "\n",
    "\n",
    "fig.update_layout(\n",
    "    xaxis =  {'showgrid': False,'visible':False},\n",
    "    yaxis = {'showgrid': False,'visible':False}, \n",
    "    title={'text':f\"\",\n",
    "            'y':0.95,\n",
    "            'x':0.5,\n",
    "           'xanchor': 'center',\n",
    "            'yanchor': 'top'},\n",
    "    font=dict(\n",
    "        family=\"Roboto\",\n",
    "        color=\"#FFF\"\n",
    "    )\n",
    ")\n",
    "\n",
    "fig.update_layout(\n",
    "    margin=dict(l=0, r=0, t=0, b=0),\n",
    "    plot_bgcolor='#FFF',\n",
    "    paper_bgcolor=\"#FFF\",\n",
    ")"
   ]
  },
  {
   "cell_type": "code",
   "execution_count": null,
   "metadata": {},
   "outputs": [],
   "source": [
    "fig = go.Figure()\n",
    "\n",
    "fig.add_trace(go.Indicator(\n",
    "    mode = \"number+delta\",\n",
    "    value = df['Staff'].tail(1).values[0],\n",
    "),\n",
    "             )\n",
    "\n",
    "\n",
    "\n",
    "\n",
    "\n",
    "fig.update_layout(\n",
    "    template = {'data' : {'indicator': [{\n",
    "        'title' : {\"text\": f\"LTC Staff Infected<br><span style='font-size:0.8em;color:gray'>Last Updated: {df.Date.tail(1).values[0].astype('M8[D]')}</span><br>\"},\n",
    "        'mode' : \"number+delta+gauge\",\n",
    "        'delta' : {'reference': df['Staff'].iloc[-2],\n",
    "                  'increasing': {'color':'red'},\n",
    "                  'decreasing': {'color':'green'}}}, \n",
    "        ]\n",
    "                         }})\n",
    "\n",
    "\n",
    "\n",
    "fig.add_trace(go.Scatter(x=df.Date,y=df['Staff'],marker_color='#497787', visible=False))\n",
    "\n",
    "fig.update_layout(\n",
    "    xaxis =  {'showgrid': False,'visible':False},\n",
    "    yaxis = {'showgrid': False,'visible':False}, \n",
    "    title={'text':f\"\",\n",
    "            'y':0.95,\n",
    "            'x':0.5,\n",
    "           'xanchor': 'center',\n",
    "            'yanchor': 'top'},\n",
    "    font=dict(\n",
    "        family=\"Roboto\",\n",
    "        color=\"#000\"\n",
    "    )\n",
    ")\n",
    "\n",
    "fig.update_layout(\n",
    "    margin=dict(l=0, r=10, t=30, b=50),\n",
    "    plot_bgcolor='#DFE7EA',\n",
    "    paper_bgcolor=\"#DFE7EA\",\n",
    "updatemenus=[\n",
    "    dict(\n",
    "        type=\"buttons\",\n",
    "        direction=\"right\",\n",
    "        active=0,\n",
    "        x=0.57,\n",
    "        y=-0.1,\n",
    "        buttons=list([\n",
    "            dict(label=\"KPI\",\n",
    "                 method=\"update\",\n",
    "                 args=[{\"visible\": [True, False]},\n",
    "                       {\"title\": \"\"}\n",
    "                      ]),\n",
    "            dict(label=\"Trend\",\n",
    "                 method=\"update\",\n",
    "                 args=[{\"visible\": [False, True]},\n",
    "                       {\"title\": \"LTC Staff Infections Over Time\"},]),\n",
    "        ]),\n",
    "    )])"
   ]
  },
  {
   "cell_type": "code",
   "execution_count": null,
   "metadata": {},
   "outputs": [],
   "source": [
    "fig = go.Figure()\n",
    "\n",
    "fig.add_trace(go.Indicator(\n",
    "    mode = \"number+delta\",\n",
    "    value = df['Hospital Staff'].tail(1).values[0],\n",
    "),\n",
    "             )\n",
    "\n",
    "\n",
    "\n",
    "\n",
    "\n",
    "fig.update_layout(\n",
    "    template = {'data' : {'indicator': [{\n",
    "        'title' : {\"text\": f\"Hospital Staff Infected<br><span style='font-size:0.8em;color:gray'>Last Updated: {df.Date.tail(1).values[0].astype('M8[D]')}</span><br>\"},\n",
    "        'mode' : \"number+delta+gauge\",\n",
    "        'delta' : {'reference': df['Hospital Staff'].iloc[-2],\n",
    "                  'increasing': {'color':'red'},\n",
    "                  'decreasing': {'color':'green'}}}, \n",
    "        ]\n",
    "                         }})\n",
    "\n",
    "\n",
    "\n",
    "fig.add_trace(go.Scatter(x=df.Date,y=df['Hospital Staff'],marker_color='#497787', visible=False))\n",
    "\n",
    "fig.update_layout(\n",
    "    xaxis =  {'showgrid': False,'visible':False},\n",
    "    yaxis = {'showgrid': False,'visible':False}, \n",
    "    title={'text':f\"\",\n",
    "            'y':0.95,\n",
    "            'x':0.5,\n",
    "           'xanchor': 'center',\n",
    "            'yanchor': 'top'},\n",
    "    font=dict(\n",
    "        family=\"Roboto\",\n",
    "        color=\"#000\"\n",
    "    )\n",
    ")\n",
    "\n",
    "fig.update_layout(\n",
    "    margin=dict(l=0, r=10, t=30, b=50),\n",
    "    plot_bgcolor='#DFE7EA',\n",
    "    paper_bgcolor=\"#DFE7EA\",\n",
    "updatemenus=[\n",
    "    dict(\n",
    "        type=\"buttons\",\n",
    "        direction=\"right\",\n",
    "        active=0,\n",
    "        x=0.57,\n",
    "        y=-0.1,\n",
    "        buttons=list([\n",
    "            dict(label=\"KPI\",\n",
    "                 method=\"update\",\n",
    "                 args=[{\"visible\": [True, False]},\n",
    "                       {\"title\": \"\"}\n",
    "                      ]),\n",
    "            dict(label=\"Trend\",\n",
    "                 method=\"update\",\n",
    "                 args=[{\"visible\": [False, True]},\n",
    "                       {\"title\": \"Hospital Staff Infections Over Time\"},]),\n",
    "        ]),\n",
    "    )])"
   ]
  },
  {
   "cell_type": "code",
   "execution_count": null,
   "metadata": {},
   "outputs": [],
   "source": [
    "import pandas as pd\n",
    "import numpy as np\n",
    "\n",
    "from matplotlib import pyplot as plt\n",
    "from matplotlib.dates import date2num, num2date\n",
    "from matplotlib import dates as mdates\n",
    "from matplotlib import ticker\n",
    "from matplotlib.colors import ListedColormap\n",
    "from matplotlib.patches import Patch\n",
    "\n",
    "from scipy import stats as sps\n",
    "from scipy.interpolate import interp1d\n",
    "\n",
    "from IPython.display import clear_output\n",
    "\n",
    "%config InlineBackend.figure_format = 'retina'"
   ]
  },
  {
   "cell_type": "code",
   "execution_count": null,
   "metadata": {},
   "outputs": [],
   "source": [
    "url = \"https://raw.githubusercontent.com/ishaberry/Covid19Canada/master/cases.csv\"\n",
    "s=requests.get(url).content\n",
    "cases_df = pd.read_csv(io.StringIO(s.decode('utf-8')))\n",
    "cases_df['date'] = pd.to_datetime(cases_df['date_report'])\n",
    "cases_df.head()"
   ]
  },
  {
   "cell_type": "code",
   "execution_count": null,
   "metadata": {},
   "outputs": [],
   "source": [
    "province_df = cases_df.groupby(['province', 'date'])['case_id'].count()\n",
    "province_df.index.rename(['health_region', 'date'], inplace=True)\n",
    "hr_df = cases_df.groupby(['health_region', 'date'])['case_id'].count()\n",
    "canada_df = pd.concat((province_df, hr_df))\n",
    "canada_df.head()"
   ]
  },
  {
   "cell_type": "code",
   "execution_count": null,
   "metadata": {},
   "outputs": [],
   "source": [
    "prov_name = 'Ontario'\n",
    "\n",
    "def prepare_cases(cases):\n",
    "    new_cases = cases\n",
    "\n",
    "    smoothed = new_cases.rolling(7,\n",
    "        win_type='gaussian',\n",
    "        min_periods=1,\n",
    "        center=False).mean(std=2).round()\n",
    "    \n",
    "    zeros = smoothed.index[smoothed.eq(0)]\n",
    "    if len(zeros) == 0:\n",
    "        idx_start = 0\n",
    "    else:\n",
    "        last_zero = zeros.max()\n",
    "        idx_start = smoothed.index.get_loc(last_zero) + 1\n",
    "    smoothed = smoothed.iloc[idx_start:]\n",
    "    original = new_cases.loc[smoothed.index]\n",
    "    \n",
    "    return original, smoothed\n",
    "\n",
    "cases = canada_df.xs(prov_name).rename(f\"{prov_name} cases\")\n",
    "\n",
    "original, smoothed = prepare_cases(cases)\n",
    "\n",
    "original.plot(title=f\"{prov_name} New Cases per Day\",\n",
    "               c='k',\n",
    "               linestyle=':',\n",
    "               alpha=.5,\n",
    "               label='Actual',\n",
    "               legend=True,\n",
    "             figsize=(600/72, 400/72))\n",
    "\n",
    "ax = smoothed.plot(label='Smoothed',\n",
    "                   legend=True)\n",
    "ax.get_figure().set_facecolor('w')"
   ]
  },
  {
   "cell_type": "code",
   "execution_count": null,
   "metadata": {},
   "outputs": [],
   "source": [
    "url = \"https://docs.google.com/spreadsheets/d/19LFZWy85MVueUm2jYmXXE6EC3dRpCPGZ05Bqfv5KyGA/export?format=csv&id=19LFZWy85MVueUm2jYmXXE6EC3dRpCPGZ05Bqfv5KyGA&gid=1086007065\"\n",
    "s=requests.get(url).content\n",
    "df = pd.read_csv(io.StringIO(s.decode('utf-8')))\n",
    "df['date'] = pd.to_datetime(df['date'])\n",
    "df.head()"
   ]
  },
  {
   "cell_type": "code",
   "execution_count": null,
   "metadata": {},
   "outputs": [],
   "source": [
    "df = df.loc[df.region == 'Ontario']\n",
    "\n",
    "fig = go.Figure()\n",
    "\n",
    "fig.add_trace(go.Indicator(\n",
    "    mode = \"number+delta\",\n",
    "    value = df['ML'].tail(1).values[0],\n",
    "    number = {'font': {'size': 60}},))\n",
    "\n",
    "fig.add_trace(go.Scatter(x=df.date,y=df.ML,marker_color='#5E5AA1',visible=True,opacity=0.5))\n",
    "\n",
    "fig.add_trace(go.Scatter(x=df.date,y=df.Low,\n",
    "    fill=None,\n",
    "    mode='lines',\n",
    "    line_color='#4F4B99',opacity=0.1\n",
    "    ))\n",
    "fig.add_trace(go.Scatter(x=df.date,y=df.High,\n",
    "    fill='tonexty', \n",
    "    mode='lines', line_color='#4F4B99',opacity=0.1))\n",
    "\n",
    "\n",
    "fig.update_layout(\n",
    "    showlegend=False,\n",
    "    template = {'data' : {'indicator': [{\n",
    "        'title' : {\"text\": f\"<span style='font-size:0.8em>R<sub>t</sub> value</span><br><span style='font-size:0.8em;color:gray'>Last Updated: {df.date.tail(1).values[0].astype('M8[D]')}</span><br>\"},\n",
    "        'mode' : \"number+delta+gauge\",\n",
    "        'delta' : {'reference': df['ML'].tail(2).values[0],\n",
    "                  'increasing': {'color':'red'},\n",
    "                  'decreasing': {'color':'green'}}}, \n",
    "        ]\n",
    "                         }})\n",
    "\n",
    "\n",
    "fig.update_layout(\n",
    "    xaxis =  {'showgrid': False,'visible':True},\n",
    "    yaxis = {'showgrid': False,'visible':True},      \n",
    "    title={'text':f\"\",\n",
    "            'y':0.95,\n",
    "            'x':0.5,\n",
    "           'xanchor': 'center',\n",
    "            'yanchor': 'top'},\n",
    "    font=dict(\n",
    "        family=\"Roboto\",\n",
    "        color=\"#000\"\n",
    "    )\n",
    ")\n",
    "\n",
    "fig.add_shape(\n",
    "            type=\"line\",\n",
    "            xref=\"paper\",\n",
    "            yref=\"y\",\n",
    "            x0=0,\n",
    "            y0=1,\n",
    "            x1=1,\n",
    "            y1=1,\n",
    "            line=dict(\n",
    "                color=\"red\",\n",
    "                width=2,\n",
    "            ),\n",
    "        )\n",
    "\n",
    "fig.update_layout(\n",
    "    margin=dict(l=0, r=10, t=30, b=50),\n",
    "    plot_bgcolor='#E0DFED',\n",
    "    paper_bgcolor=\"#E0DFED\",\n",
    "    legend_orientation=\"h\",\n",
    "    )\n",
    "\n"
   ]
  },
  {
   "cell_type": "code",
   "execution_count": null,
   "metadata": {},
   "outputs": [],
   "source": [
    "url = \"https://docs.google.com/spreadsheets/d/1pWmFfseTzrTX06Ay2zCnfdCG0VEJrMVWh-tAU9anZ9U/export?format=csv&id=1pWmFfseTzrTX06Ay2zCnfdCG0VEJrMVWh-tAU9anZ9U&gid=689073638\"\n",
    "s=requests.get(url).content\n",
    "df = pd.read_csv(io.StringIO(s.decode('utf-8')))\n",
    "df['Date'] = pd.to_datetime(df['Date'])\n",
    "df.head()"
   ]
  },
  {
   "cell_type": "code",
   "execution_count": null,
   "metadata": {},
   "outputs": [],
   "source": [
    "df.groupby('Date')['LTC Home'].count()"
   ]
  },
  {
   "cell_type": "code",
   "execution_count": null,
   "metadata": {},
   "outputs": [],
   "source": [
    "df = df.loc[df.PHU == 'York Region Public Health']\n",
    "\n",
    "fig = go.Figure()\n",
    "\n",
    "fig.add_trace(go.Indicator(\n",
    "    mode = \"number\",\n",
    "    value = df.groupby('Date')['LTC Home'].count().tail(1).values[0],\n",
    "    number = {'font': {'size': 60}},))\n",
    "\n",
    "\n",
    "\n",
    "fig.update_layout(\n",
    "    showlegend=False,\n",
    "    template = {'data' : {'indicator': [{\n",
    "        'title' : {\"text\": f\"Number of LTC Home Outbreak<br><span style='font-size:0.8em;color:gray'>Last Updated: {df.Date.tail(1).values[0].astype('M8[D]')}</span><br>\"},\n",
    "        'mode' : \"number\",\n",
    "    }, \n",
    "        ]\n",
    "                         }})\n",
    "\n",
    "\n",
    "fig.update_layout(\n",
    "    xaxis =  {'showgrid': False,'visible':True},\n",
    "    yaxis = {'showgrid': False,'visible':True},      \n",
    "    title={'text':f\"\",\n",
    "            'y':0.95,\n",
    "            'x':0.5,\n",
    "           'xanchor': 'center',\n",
    "            'yanchor': 'top'},\n",
    "    font=dict(\n",
    "        family=\"Roboto\",\n",
    "        color=\"#000\"\n",
    "    )\n",
    ")\n",
    "\n",
    "fig.update_layout(\n",
    "    margin=dict(l=0, r=10, t=30, b=50),\n",
    "    plot_bgcolor='#E0DFED',\n",
    "    paper_bgcolor=\"#E0DFED\",\n",
    "    legend_orientation=\"h\",\n",
    "    )\n",
    "\n"
   ]
  },
  {
   "cell_type": "code",
   "execution_count": null,
   "metadata": {},
   "outputs": [],
   "source": [
    "df = df.loc[df.PHU == 'York Region Public Health']\n",
    "\n",
    "fig = go.Figure()\n",
    "\n",
    "fig.add_trace(go.Indicator(\n",
    "    mode = \"number\",\n",
    "    value = df.groupby('Date')['Confirmed Resident Cases'].sum().tail(1).values[0],\n",
    "    number = {'font': {'size': 60}},))\n",
    "\n",
    "\n",
    "\n",
    "fig.update_layout(\n",
    "    showlegend=False,\n",
    "    template = {'data' : {'indicator': [{\n",
    "        'title' : {\"text\": f\"Confirmed Resident Cases<br><span style='font-size:0.8em;color:gray'>Last Updated: {df.Date.tail(1).values[0].astype('M8[D]')}</span><br>\"},\n",
    "        'mode' : \"number\",\n",
    "    }, \n",
    "        ]\n",
    "                         }})\n",
    "\n",
    "\n",
    "fig.update_layout(\n",
    "    xaxis =  {'showgrid': False,'visible':True},\n",
    "    yaxis = {'showgrid': False,'visible':True},      \n",
    "    title={'text':f\"\",\n",
    "            'y':0.95,\n",
    "            'x':0.5,\n",
    "           'xanchor': 'center',\n",
    "            'yanchor': 'top'},\n",
    "    font=dict(\n",
    "        family=\"Roboto\",\n",
    "        color=\"#000\"\n",
    "    )\n",
    ")\n",
    "\n",
    "fig.update_layout(\n",
    "    margin=dict(l=0, r=10, t=30, b=50),\n",
    "    plot_bgcolor='#E4F7FD',\n",
    "    paper_bgcolor=\"#E4F7FD\",\n",
    "    legend_orientation=\"h\",\n",
    "    )\n",
    "\n"
   ]
  },
  {
   "cell_type": "code",
   "execution_count": null,
   "metadata": {},
   "outputs": [],
   "source": [
    "df = df.loc[df.PHU == 'York Region Public Health']\n",
    "\n",
    "fig = go.Figure()\n",
    "\n",
    "fig.add_trace(go.Indicator(\n",
    "    mode = \"number\",\n",
    "    value = df.groupby('Date')['Confirmed Staff Cases'].sum().tail(1).values[0],\n",
    "    number = {'font': {'size': 60}},))\n",
    "\n",
    "\n",
    "\n",
    "fig.update_layout(\n",
    "    showlegend=False,\n",
    "    template = {'data' : {'indicator': [{\n",
    "        'title' : {\"text\": f\"Confirmed Staff Cases<br><span style='font-size:0.8em;color:gray'>Last Updated: {df.Date.tail(1).values[0].astype('M8[D]')}</span><br>\"},\n",
    "        'mode' : \"number\",\n",
    "    }, \n",
    "        ]\n",
    "                         }})\n",
    "\n",
    "\n",
    "fig.update_layout(\n",
    "    xaxis =  {'showgrid': False,'visible':True},\n",
    "    yaxis = {'showgrid': False,'visible':True},      \n",
    "    title={'text':f\"\",\n",
    "            'y':0.95,\n",
    "            'x':0.5,\n",
    "           'xanchor': 'center',\n",
    "            'yanchor': 'top'},\n",
    "    font=dict(\n",
    "        family=\"Roboto\",\n",
    "        color=\"#000\"\n",
    "    )\n",
    ")\n",
    "\n",
    "fig.update_layout(\n",
    "    margin=dict(l=0, r=10, t=30, b=50),\n",
    "    plot_bgcolor='#E0DFED',\n",
    "    paper_bgcolor=\"#E0DFED\",\n",
    "    legend_orientation=\"h\",\n",
    "    )\n",
    "\n"
   ]
  },
  {
   "cell_type": "code",
   "execution_count": null,
   "metadata": {},
   "outputs": [],
   "source": [
    "url = \"https://docs.google.com/spreadsheets/d/1pWmFfseTzrTX06Ay2zCnfdCG0VEJrMVWh-tAU9anZ9U/export?format=csv&id=1pWmFfseTzrTX06Ay2zCnfdCG0VEJrMVWh-tAU9anZ9U&gid=0\"\n",
    "s=requests.get(url).content\n",
    "df = pd.read_csv(io.StringIO(s.decode('utf-8')))\n",
    "df['Date'] = pd.to_datetime(df['Date'])\n",
    "df = df[['Date', 'New Cases']]\n",
    "df = df.dropna()\n",
    "df.head()"
   ]
  },
  {
   "cell_type": "code",
   "execution_count": null,
   "metadata": {},
   "outputs": [],
   "source": [
    "import numpy as np\n",
    "from scipy import stats as sps\n",
    "from scipy.interpolate import interp1d"
   ]
  },
  {
   "cell_type": "code",
   "execution_count": null,
   "metadata": {},
   "outputs": [],
   "source": [
    "def prepare_cases(cases):\n",
    "    # modification - Isha Berry et al.'s data already come in daily\n",
    "    #new_cases = cases.diff()\n",
    "    new_cases = cases\n",
    "\n",
    "    smoothed = new_cases.rolling(7,\n",
    "        win_type='gaussian',\n",
    "        min_periods=1,\n",
    "        # Alf: switching to right-aligned instead of centred to prevent leakage of\n",
    "        # information from the future\n",
    "        #center=True).mean(std=2).round()\n",
    "        center=False).mean(std=2).round()\n",
    "\n",
    "    zeros = smoothed.index[smoothed.eq(0)]\n",
    "    if len(zeros) == 0:\n",
    "        idx_start = 0\n",
    "    else:\n",
    "        last_zero = zeros.max()\n",
    "        idx_start = smoothed.index.get_loc(last_zero) + 1\n",
    "    smoothed = smoothed.iloc[idx_start:]\n",
    "    original = new_cases.loc[smoothed.index]\n",
    "    return original, smoothed\n",
    "\n",
    "# We create an array for every possible value of Rt\n",
    "R_T_MAX = 12\n",
    "r_t_range = np.linspace(0, R_T_MAX, R_T_MAX*100+1)\n",
    "\n",
    "# Gamma is 1/serial interval\n",
    "# https://wwwnc.cdc.gov/eid/article/26/6/20-0357_article\n",
    "GAMMA = 1/4\n",
    "\n",
    "def get_posteriors(sr, window=7, min_periods=1):\n",
    "    lam = sr[:-1].values * np.exp(GAMMA * (r_t_range[:, None] - 1))\n",
    "\n",
    "    # Note: if you want to have a Uniform prior you can use the following line instead.\n",
    "    # I chose the gamma distribution because of our prior knowledge of the likely value\n",
    "    # of R_t.\n",
    "\n",
    "    # prior0 = np.full(len(r_t_range), np.log(1/len(r_t_range)))\n",
    "    prior0 = np.log(sps.gamma(a=3).pdf(r_t_range) + 1e-14)\n",
    "\n",
    "    likelihoods = pd.DataFrame(\n",
    "        # Short-hand way of concatenating the prior and likelihoods\n",
    "        data = np.c_[prior0, sps.poisson.logpmf(sr[1:].values, lam)],\n",
    "        index = r_t_range,\n",
    "        columns = sr.index)\n",
    "\n",
    "    # Perform a rolling sum of log likelihoods. This is the equivalent\n",
    "    # of multiplying the original distributions. Exponentiate to move\n",
    "    # out of log.\n",
    "    posteriors = likelihoods.rolling(window,\n",
    "                                     axis=1,\n",
    "                                     min_periods=min_periods).sum()\n",
    "    posteriors = np.exp(posteriors)\n",
    "\n",
    "    # Normalize to 1.0\n",
    "    posteriors = posteriors.div(posteriors.sum(axis=0), axis=1)\n",
    "\n",
    "    return posteriors\n",
    "\n",
    "def highest_density_interval(pmf, p=.95):\n",
    "    # If we pass a DataFrame, just call this recursively on the columns\n",
    "    if(isinstance(pmf, pd.DataFrame)):\n",
    "        return pd.DataFrame([highest_density_interval(pmf[col]) for col in pmf],\n",
    "                            index=pmf.columns)\n",
    "\n",
    "    cumsum = np.cumsum(pmf.values)\n",
    "    best = None\n",
    "    for i, value in enumerate(cumsum):\n",
    "        for j, high_value in enumerate(cumsum[i+1:]):\n",
    "            if (high_value-value > p) and (not best or j<best[1]-best[0]):\n",
    "                best = (i, i+j+1)\n",
    "                break\n",
    "\n",
    "    low = pmf.index[best[0]]\n",
    "    high = pmf.index[best[1]]\n",
    "    return pd.Series([low, high], index=['Low', 'High'])\n",
    "\n",
    "results = None\n",
    "\n",
    "new, smoothed = prepare_cases(df.set_index('Date')['New Cases'])\n",
    "try:\n",
    "    posteriors = get_posteriors(smoothed)\n",
    "except Exception as e:\n",
    "    print(e)\n",
    "hdis = highest_density_interval(posteriors)\n",
    "most_likely = posteriors.idxmax().rename('ML')\n",
    "result = pd.concat([most_likely, hdis], axis=1).reset_index()\n",
    "if results is None:\n",
    "    results = result\n",
    "else:\n",
    "    results = results.append(result)\n"
   ]
  },
  {
   "cell_type": "code",
   "execution_count": null,
   "metadata": {},
   "outputs": [],
   "source": [
    "df = results"
   ]
  },
  {
   "cell_type": "code",
   "execution_count": null,
   "metadata": {},
   "outputs": [],
   "source": [
    "fig = go.Figure()\n",
    "\n",
    "fig.add_trace(go.Indicator(\n",
    "    mode = \"number+delta\",\n",
    "    value = df['ML'].tail(1).values[0],\n",
    "    number = {'font': {'size': 60}},))\n",
    "\n",
    "fig.add_trace(go.Scatter(x=df.Date,y=df.ML,marker_color='#5E5AA1',visible=True,opacity=0.5))\n",
    "\n",
    "fig.add_trace(go.Scatter(x=df.Date,y=df.Low,\n",
    "    fill=None,\n",
    "    mode='lines',\n",
    "    line_color='#4F4B99',opacity=0.1\n",
    "    ))\n",
    "fig.add_trace(go.Scatter(x=df.Date,y=df.High,\n",
    "    fill='tonexty', \n",
    "    mode='lines', line_color='#4F4B99',opacity=0.1))\n",
    "\n",
    "\n",
    "fig.update_layout(\n",
    "    showlegend=False,\n",
    "    template = {'data' : {'indicator': [{\n",
    "        'title' : {\"text\": f\"<span style='font-size:0.8em>R<sub>t</sub> value</span><br><span style='font-size:0.8em;color:gray'>Last Updated: {df.Date.tail(1).values[0].astype('M8[D]')}</span><br>\"},\n",
    "        'mode' : \"number+delta+gauge\",\n",
    "        'delta' : {'reference': df['ML'].tail(2).values[0],\n",
    "                  'increasing': {'color':'red'},\n",
    "                  'decreasing': {'color':'green'}}}, \n",
    "        ]\n",
    "                         }})\n",
    "\n",
    "\n",
    "fig.update_layout(\n",
    "    xaxis =  {'showgrid': False,'visible':True},\n",
    "    yaxis = {'showgrid': False,'visible':True},      \n",
    "    title={'text':f\"\",\n",
    "            'y':0.95,\n",
    "            'x':0.5,\n",
    "           'xanchor': 'center',\n",
    "            'yanchor': 'top'},\n",
    "    font=dict(\n",
    "        family=\"Roboto\",\n",
    "        color=\"#000\"\n",
    "    )\n",
    ")\n",
    "\n",
    "fig.add_shape(\n",
    "            type=\"line\",\n",
    "            xref=\"paper\",\n",
    "            yref=\"y\",\n",
    "            x0=0,\n",
    "            y0=1,\n",
    "            x1=1,\n",
    "            y1=1,\n",
    "            line=dict(\n",
    "                color=\"red\",\n",
    "                width=2,\n",
    "            ),\n",
    "        )\n",
    "\n",
    "fig.update_layout(\n",
    "    margin=dict(l=0, r=10, t=30, b=50),\n",
    "    plot_bgcolor='#E0DFED',\n",
    "    paper_bgcolor=\"#E0DFED\",\n",
    "    legend_orientation=\"h\",\n",
    "    )\n",
    "\n"
   ]
  },
  {
   "cell_type": "code",
   "execution_count": 7,
   "metadata": {},
   "outputs": [],
   "source": [
    "import json\n",
    "import plotly.express as px"
   ]
  },
  {
   "cell_type": "code",
   "execution_count": 8,
   "metadata": {},
   "outputs": [
    {
     "data": {
      "text/html": [
       "<div>\n",
       "<style scoped>\n",
       "    .dataframe tbody tr th:only-of-type {\n",
       "        vertical-align: middle;\n",
       "    }\n",
       "\n",
       "    .dataframe tbody tr th {\n",
       "        vertical-align: top;\n",
       "    }\n",
       "\n",
       "    .dataframe thead th {\n",
       "        text-align: right;\n",
       "    }\n",
       "</style>\n",
       "<table border=\"1\" class=\"dataframe\">\n",
       "  <thead>\n",
       "    <tr style=\"text-align: right;\">\n",
       "      <th></th>\n",
       "      <th>PHU Locations</th>\n",
       "      <th>Latitude</th>\n",
       "      <th>Longitude</th>\n",
       "    </tr>\n",
       "  </thead>\n",
       "  <tbody>\n",
       "    <tr>\n",
       "      <th>0</th>\n",
       "      <td>York Regional Health Unit</td>\n",
       "      <td>44.00481</td>\n",
       "      <td>-79.4973</td>\n",
       "    </tr>\n",
       "    <tr>\n",
       "      <th>1</th>\n",
       "      <td>Windsor-Essex County Health Unit</td>\n",
       "      <td>42.12471</td>\n",
       "      <td>-82.7734</td>\n",
       "    </tr>\n",
       "    <tr>\n",
       "      <th>2</th>\n",
       "      <td>Wellington-Dufferin-Guelph Health Unit</td>\n",
       "      <td>43.85650</td>\n",
       "      <td>-80.3925</td>\n",
       "    </tr>\n",
       "    <tr>\n",
       "      <th>3</th>\n",
       "      <td>Waterloo Health Unit</td>\n",
       "      <td>43.45118</td>\n",
       "      <td>-80.5101</td>\n",
       "    </tr>\n",
       "    <tr>\n",
       "      <th>4</th>\n",
       "      <td>Timiskaming Health Unit</td>\n",
       "      <td>47.63172</td>\n",
       "      <td>-79.9219</td>\n",
       "    </tr>\n",
       "  </tbody>\n",
       "</table>\n",
       "</div>"
      ],
      "text/plain": [
       "                            PHU Locations  Latitude  Longitude\n",
       "0               York Regional Health Unit  44.00481   -79.4973\n",
       "1        Windsor-Essex County Health Unit  42.12471   -82.7734\n",
       "2  Wellington-Dufferin-Guelph Health Unit  43.85650   -80.3925\n",
       "3                    Waterloo Health Unit  43.45118   -80.5101\n",
       "4                 Timiskaming Health Unit  47.63172   -79.9219"
      ]
     },
     "execution_count": 8,
     "metadata": {},
     "output_type": "execute_result"
    }
   ],
   "source": [
    "url = \"https://docs.google.com/spreadsheets/u/0/d/1TH8vQCljcNGWzq4MXRNXGp243izKGpWq5adeEbjNBlU/export?format=csv&id=1TH8vQCljcNGWzq4MXRNXGp243izKGpWq5adeEbjNBlU&gid=0\"\n",
    "s=requests.get(url).content\n",
    "loc = pd.read_csv(io.StringIO(s.decode('utf-8')))\n",
    "loc.head()"
   ]
  },
  {
   "cell_type": "code",
   "execution_count": 25,
   "metadata": {},
   "outputs": [
    {
     "data": {
      "text/html": [
       "<div>\n",
       "<style scoped>\n",
       "    .dataframe tbody tr th:only-of-type {\n",
       "        vertical-align: middle;\n",
       "    }\n",
       "\n",
       "    .dataframe tbody tr th {\n",
       "        vertical-align: top;\n",
       "    }\n",
       "\n",
       "    .dataframe thead th {\n",
       "        text-align: right;\n",
       "    }\n",
       "</style>\n",
       "<table border=\"1\" class=\"dataframe\">\n",
       "  <thead>\n",
       "    <tr style=\"text-align: right;\">\n",
       "      <th></th>\n",
       "      <th>region</th>\n",
       "      <th>cases</th>\n",
       "      <th>deaths</th>\n",
       "      <th>outbreaks</th>\n",
       "      <th>critical_care_beds</th>\n",
       "      <th>critical_care_patients</th>\n",
       "      <th>vented_beds</th>\n",
       "      <th>vented_patients</th>\n",
       "      <th>suspected_covid</th>\n",
       "      <th>suspected_covid_ventilator</th>\n",
       "      <th>confirmed_positive</th>\n",
       "      <th>confirmed_negative</th>\n",
       "      <th>confirmed_positive_ventilator</th>\n",
       "      <th>non_covid</th>\n",
       "      <th>residual_beds</th>\n",
       "      <th>residual_ventilators</th>\n",
       "      <th>PHU Locations</th>\n",
       "      <th>Latitude</th>\n",
       "      <th>Longitude</th>\n",
       "    </tr>\n",
       "  </thead>\n",
       "  <tbody>\n",
       "    <tr>\n",
       "      <th>0</th>\n",
       "      <td>The District of Algoma Health Unit</td>\n",
       "      <td>13</td>\n",
       "      <td>0</td>\n",
       "      <td>0</td>\n",
       "      <td>102</td>\n",
       "      <td>59</td>\n",
       "      <td>128</td>\n",
       "      <td>18</td>\n",
       "      <td>15</td>\n",
       "      <td>0</td>\n",
       "      <td>2</td>\n",
       "      <td>0</td>\n",
       "      <td>1</td>\n",
       "      <td>42</td>\n",
       "      <td>43</td>\n",
       "      <td>110</td>\n",
       "      <td>The District of Algoma Health Unit</td>\n",
       "      <td>46.35371</td>\n",
       "      <td>-83.1094</td>\n",
       "    </tr>\n",
       "    <tr>\n",
       "      <th>1</th>\n",
       "      <td>Brant County Health Unit</td>\n",
       "      <td>96</td>\n",
       "      <td>3</td>\n",
       "      <td>1</td>\n",
       "      <td>271</td>\n",
       "      <td>186</td>\n",
       "      <td>349</td>\n",
       "      <td>62</td>\n",
       "      <td>29</td>\n",
       "      <td>0</td>\n",
       "      <td>8</td>\n",
       "      <td>0</td>\n",
       "      <td>7</td>\n",
       "      <td>149</td>\n",
       "      <td>85</td>\n",
       "      <td>287</td>\n",
       "      <td>Brant County Health Unit</td>\n",
       "      <td>43.07961</td>\n",
       "      <td>-80.3479</td>\n",
       "    </tr>\n",
       "    <tr>\n",
       "      <th>2</th>\n",
       "      <td>Durham Regional Health Unit</td>\n",
       "      <td>995</td>\n",
       "      <td>113</td>\n",
       "      <td>7</td>\n",
       "      <td>163</td>\n",
       "      <td>126</td>\n",
       "      <td>230</td>\n",
       "      <td>69</td>\n",
       "      <td>41</td>\n",
       "      <td>0</td>\n",
       "      <td>22</td>\n",
       "      <td>0</td>\n",
       "      <td>20</td>\n",
       "      <td>63</td>\n",
       "      <td>37</td>\n",
       "      <td>161</td>\n",
       "      <td>Durham Regional Health Unit</td>\n",
       "      <td>44.00116</td>\n",
       "      <td>-78.8934</td>\n",
       "    </tr>\n",
       "    <tr>\n",
       "      <th>3</th>\n",
       "      <td>Grey Bruce Health Unit</td>\n",
       "      <td>82</td>\n",
       "      <td>0</td>\n",
       "      <td>2</td>\n",
       "      <td>187</td>\n",
       "      <td>118</td>\n",
       "      <td>209</td>\n",
       "      <td>34</td>\n",
       "      <td>23</td>\n",
       "      <td>0</td>\n",
       "      <td>9</td>\n",
       "      <td>0</td>\n",
       "      <td>8</td>\n",
       "      <td>86</td>\n",
       "      <td>69</td>\n",
       "      <td>175</td>\n",
       "      <td>Grey Bruce Health Unit</td>\n",
       "      <td>44.32925</td>\n",
       "      <td>-81.0005</td>\n",
       "    </tr>\n",
       "    <tr>\n",
       "      <th>4</th>\n",
       "      <td>Haldimand-Norfolk Health Unit</td>\n",
       "      <td>194</td>\n",
       "      <td>30</td>\n",
       "      <td>1</td>\n",
       "      <td>458</td>\n",
       "      <td>304</td>\n",
       "      <td>558</td>\n",
       "      <td>96</td>\n",
       "      <td>52</td>\n",
       "      <td>0</td>\n",
       "      <td>17</td>\n",
       "      <td>0</td>\n",
       "      <td>15</td>\n",
       "      <td>235</td>\n",
       "      <td>154</td>\n",
       "      <td>462</td>\n",
       "      <td>Haldimand-Norfolk Health Unit</td>\n",
       "      <td>42.72988</td>\n",
       "      <td>-80.3315</td>\n",
       "    </tr>\n",
       "  </tbody>\n",
       "</table>\n",
       "</div>"
      ],
      "text/plain": [
       "                               region  cases  deaths  outbreaks  \\\n",
       "0  The District of Algoma Health Unit     13       0          0   \n",
       "1            Brant County Health Unit     96       3          1   \n",
       "2         Durham Regional Health Unit    995     113          7   \n",
       "3              Grey Bruce Health Unit     82       0          2   \n",
       "4       Haldimand-Norfolk Health Unit    194      30          1   \n",
       "\n",
       "   critical_care_beds  critical_care_patients  vented_beds  vented_patients  \\\n",
       "0                 102                      59          128               18   \n",
       "1                 271                     186          349               62   \n",
       "2                 163                     126          230               69   \n",
       "3                 187                     118          209               34   \n",
       "4                 458                     304          558               96   \n",
       "\n",
       "   suspected_covid  suspected_covid_ventilator  confirmed_positive  \\\n",
       "0               15                           0                   2   \n",
       "1               29                           0                   8   \n",
       "2               41                           0                  22   \n",
       "3               23                           0                   9   \n",
       "4               52                           0                  17   \n",
       "\n",
       "   confirmed_negative  confirmed_positive_ventilator  non_covid  \\\n",
       "0                   0                              1         42   \n",
       "1                   0                              7        149   \n",
       "2                   0                             20         63   \n",
       "3                   0                              8         86   \n",
       "4                   0                             15        235   \n",
       "\n",
       "   residual_beds  residual_ventilators                       PHU Locations  \\\n",
       "0             43                   110  The District of Algoma Health Unit   \n",
       "1             85                   287            Brant County Health Unit   \n",
       "2             37                   161         Durham Regional Health Unit   \n",
       "3             69                   175              Grey Bruce Health Unit   \n",
       "4            154                   462       Haldimand-Norfolk Health Unit   \n",
       "\n",
       "   Latitude  Longitude  \n",
       "0  46.35371   -83.1094  \n",
       "1  43.07961   -80.3479  \n",
       "2  44.00116   -78.8934  \n",
       "3  44.32925   -81.0005  \n",
       "4  42.72988   -80.3315  "
      ]
     },
     "execution_count": 25,
     "metadata": {},
     "output_type": "execute_result"
    }
   ],
   "source": [
    "url = \"https://docs.google.com/spreadsheets/d/19LFZWy85MVueUm2jYmXXE6EC3dRpCPGZ05Bqfv5KyGA/export?format=csv&id=19LFZWy85MVueUm2jYmXXE6EC3dRpCPGZ05Bqfv5KyGA&gid=166537997\"\n",
    "s=requests.get(url).content\n",
    "df = pd.read_csv(io.StringIO(s.decode('utf-8')))\n",
    "df = df.merge(loc, left_on='region', right_on='PHU Locations')\n",
    "df.head()"
   ]
  },
  {
   "cell_type": "code",
   "execution_count": 10,
   "metadata": {},
   "outputs": [],
   "source": [
    "phu = json.load(open(\"HR_035a18m_e.geojson\"))"
   ]
  },
  {
   "cell_type": "code",
   "execution_count": 34,
   "metadata": {},
   "outputs": [
    {
     "data": {
      "application/vnd.plotly.v1+json": {
       "config": {
        "plotlyServerURL": "https://plot.ly"
       },
       "data": [
        {
         "hoverinfo": "text",
         "lat": [
          46.35371,
          43.079609999999995,
          44.00116,
          44.32925,
          42.72988,
          44.865120000000005,
          43.44742,
          43.255179999999996,
          44.17225,
          43.67785,
          42.46829,
          44.241479999999996,
          42.77125,
          44.546009999999995,
          43.002990000000004,
          43.04017,
          45.94494,
          51.37178,
          45.26278,
          43.67018,
          43.54681,
          52.068529999999996,
          45.59126,
          45.0294,
          44.68213,
          46.733740000000004,
          50.90563,
          47.63172,
          43.45118,
          43.8565,
          42.12471,
          44.00481,
          43.6644
         ],
         "lon": [
          -83.1094,
          -80.3479,
          -78.8934,
          -81.0005,
          -80.3315,
          -78.8489,
          -79.8003,
          -79.8202,
          -77.3465,
          -81.3211,
          -82.1172,
          -76.618,
          -82.0931,
          -75.8915,
          -81.643,
          -79.2114,
          -79.6729,
          -92.8951,
          -75.5895,
          -79.7161,
          -81.0996,
          -83.3643,
          -77.5356,
          -74.9943,
          -79.8528,
          -80.8813,
          -88.5365,
          -79.9219,
          -80.5101,
          -80.3925,
          -82.7734,
          -79.4973,
          -79.3685
         ],
         "marker": {
          "color": "red",
          "opacity": 0.5,
          "size": [
           1.3,
           9.6,
           99.5,
           8.2,
           19.4,
           15.8,
           46.1,
           43.9,
           4.1,
           4.7,
           8.5,
           6.1,
           18.3,
           33.1,
           40.9,
           49.4,
           1.5,
           1.6,
           137.2,
           251.1,
           0,
           6,
           1.6,
           9.4,
           28.3,
           5.8,
           7.1,
           1.8,
           77.3,
           28.1,
           60.4,
           156.8,
           579.6
          ],
          "sizemin": 4,
          "sizemode": "area"
         },
         "mode": "markers",
         "name": "Cases",
         "text": [
          "<b>The District of Algoma Health Unit</b><br>Confirmed: 13<br>Deaths: 0<br># of LTC Outbreaks: 0",
          "<b>Brant County Health Unit</b><br>Confirmed: 96<br>Deaths: 3<br># of LTC Outbreaks: 1",
          "<b>Durham Regional Health Unit</b><br>Confirmed: 995<br>Deaths: 113<br># of LTC Outbreaks: 7",
          "<b>Grey Bruce Health Unit</b><br>Confirmed: 82<br>Deaths: 0<br># of LTC Outbreaks: 2",
          "<b>Haldimand-Norfolk Health Unit</b><br>Confirmed: 194<br>Deaths: 30<br># of LTC Outbreaks: 1",
          "<b>Haliburton, Kawartha, Pine Ridge District Health Unit</b><br>Confirmed: 158<br>Deaths: 32<br># of LTC Outbreaks: 1",
          "<b>Halton Regional Health Unit</b><br>Confirmed: 461<br>Deaths: 22<br># of LTC Outbreaks: 4",
          "<b>City of Hamilton Health Unit</b><br>Confirmed: 439<br>Deaths: 20<br># of LTC Outbreaks: 3",
          "<b>Hastings and Prince Edward Counties Health Unit</b><br>Confirmed: 41<br>Deaths: 4<br># of LTC Outbreaks: 2",
          "<b>Huron County Health Unit</b><br>Confirmed: 47<br>Deaths: 5<br># of LTC Outbreaks: 0",
          "<b>Chatham-Kent Health Unit</b><br>Confirmed: 85<br>Deaths: 1<br># of LTC Outbreaks: 0",
          "<b>Kingston, Frontenac, and Lennox and Addington Health Unit</b><br>Confirmed: 61<br>Deaths: 0<br># of LTC Outbreaks: 0",
          "<b>Lambton Health Unit</b><br>Confirmed: 183<br>Deaths: 14<br># of LTC Outbreaks: 1",
          "<b>Leeds, Grenville and Lanark District Health Unit</b><br>Confirmed: 331<br>Deaths: 40<br># of LTC Outbreaks: 4",
          "<b>Middlesex-London Health Unit</b><br>Confirmed: 409<br>Deaths: 39<br># of LTC Outbreaks: 4",
          "<b>Niagara Regional Area Health Unit</b><br>Confirmed: 494<br>Deaths: 45<br># of LTC Outbreaks: 4",
          "<b>North Bay Parry Sound District Health Unit</b><br>Confirmed: 15<br>Deaths: 0<br># of LTC Outbreaks: 0",
          "<b>Northwestern Health Unit</b><br>Confirmed: 16<br>Deaths: 0<br># of LTC Outbreaks: 0",
          "<b>City of Ottawa Health Unit</b><br>Confirmed: 1372<br>Deaths: 76<br># of LTC Outbreaks: 3",
          "<b>Peel Regional Health Unit</b><br>Confirmed: 2511<br>Deaths: 119<br># of LTC Outbreaks: 14",
          "<b>Perth District Health Unit</b><br>Confirmed: 0<br>Deaths: 0<br># of LTC Outbreaks: 0",
          "<b>Porcupine Health Unit</b><br>Confirmed: 60<br>Deaths: 4<br># of LTC Outbreaks: 0",
          "<b>Renfrew County and District Health Unit</b><br>Confirmed: 16<br>Deaths: 1<br># of LTC Outbreaks: 0",
          "<b>The Eastern Ontario Health Unit</b><br>Confirmed: 94<br>Deaths: 0<br># of LTC Outbreaks: 0",
          "<b>Simcoe Muskoka District Health Unit</b><br>Confirmed: 283<br>Deaths: 20<br># of LTC Outbreaks: 4",
          "<b>Sudbury and District Health Unit</b><br>Confirmed: 58<br>Deaths: 1<br># of LTC Outbreaks: 1",
          "<b>Thunder Bay District Health Unit</b><br>Confirmed: 71<br>Deaths: 1<br># of LTC Outbreaks: 0",
          "<b>Timiskaming Health Unit</b><br>Confirmed: 18<br>Deaths: 0<br># of LTC Outbreaks: 0",
          "<b>Waterloo Health Unit</b><br>Confirmed: 773<br>Deaths: 72<br># of LTC Outbreaks: 5",
          "<b>Wellington-Dufferin-Guelph Health Unit</b><br>Confirmed: 281<br>Deaths: 22<br># of LTC Outbreaks: 5",
          "<b>Windsor-Essex County Health Unit</b><br>Confirmed: 604<br>Deaths: 50<br># of LTC Outbreaks: 4",
          "<b>York Regional Health Unit</b><br>Confirmed: 1568<br>Deaths: 107<br># of LTC Outbreaks: 12",
          "<b>City of Toronto Health Unit</b><br>Confirmed: 5796<br>Deaths: 394<br># of LTC Outbreaks: 50"
         ],
         "type": "scattermapbox",
         "visible": true
        },
        {
         "hoverinfo": "text",
         "lat": [
          46.35371,
          43.079609999999995,
          44.00116,
          44.32925,
          42.72988,
          44.865120000000005,
          43.44742,
          43.255179999999996,
          44.17225,
          43.67785,
          42.46829,
          44.241479999999996,
          42.77125,
          44.546009999999995,
          43.002990000000004,
          43.04017,
          45.94494,
          51.37178,
          45.26278,
          43.67018,
          43.54681,
          52.068529999999996,
          45.59126,
          45.0294,
          44.68213,
          46.733740000000004,
          50.90563,
          47.63172,
          43.45118,
          43.8565,
          42.12471,
          44.00481,
          43.6644
         ],
         "lon": [
          -83.1094,
          -80.3479,
          -78.8934,
          -81.0005,
          -80.3315,
          -78.8489,
          -79.8003,
          -79.8202,
          -77.3465,
          -81.3211,
          -82.1172,
          -76.618,
          -82.0931,
          -75.8915,
          -81.643,
          -79.2114,
          -79.6729,
          -92.8951,
          -75.5895,
          -79.7161,
          -81.0996,
          -83.3643,
          -77.5356,
          -74.9943,
          -79.8528,
          -80.8813,
          -88.5365,
          -79.9219,
          -80.5101,
          -80.3925,
          -82.7734,
          -79.4973,
          -79.3685
         ],
         "marker": {
          "color": "yellow",
          "opacity": 0.5,
          "size": [
           0,
           3,
           113,
           0,
           30,
           32,
           22,
           20,
           4,
           5,
           1,
           0,
           14,
           40,
           39,
           45,
           0,
           0,
           76,
           119,
           0,
           4,
           1,
           0,
           20,
           1,
           1,
           0,
           72,
           22,
           50,
           107,
           394
          ],
          "sizemin": 4,
          "sizemode": "area"
         },
         "mode": "markers",
         "name": "Deaths",
         "text": [
          "<b>The District of Algoma Health Unit</b><br>Confirmed: 13<br>Deaths: 0<br># of LTC Outbreaks: 0",
          "<b>Brant County Health Unit</b><br>Confirmed: 96<br>Deaths: 3<br># of LTC Outbreaks: 1",
          "<b>Durham Regional Health Unit</b><br>Confirmed: 995<br>Deaths: 113<br># of LTC Outbreaks: 7",
          "<b>Grey Bruce Health Unit</b><br>Confirmed: 82<br>Deaths: 0<br># of LTC Outbreaks: 2",
          "<b>Haldimand-Norfolk Health Unit</b><br>Confirmed: 194<br>Deaths: 30<br># of LTC Outbreaks: 1",
          "<b>Haliburton, Kawartha, Pine Ridge District Health Unit</b><br>Confirmed: 158<br>Deaths: 32<br># of LTC Outbreaks: 1",
          "<b>Halton Regional Health Unit</b><br>Confirmed: 461<br>Deaths: 22<br># of LTC Outbreaks: 4",
          "<b>City of Hamilton Health Unit</b><br>Confirmed: 439<br>Deaths: 20<br># of LTC Outbreaks: 3",
          "<b>Hastings and Prince Edward Counties Health Unit</b><br>Confirmed: 41<br>Deaths: 4<br># of LTC Outbreaks: 2",
          "<b>Huron County Health Unit</b><br>Confirmed: 47<br>Deaths: 5<br># of LTC Outbreaks: 0",
          "<b>Chatham-Kent Health Unit</b><br>Confirmed: 85<br>Deaths: 1<br># of LTC Outbreaks: 0",
          "<b>Kingston, Frontenac, and Lennox and Addington Health Unit</b><br>Confirmed: 61<br>Deaths: 0<br># of LTC Outbreaks: 0",
          "<b>Lambton Health Unit</b><br>Confirmed: 183<br>Deaths: 14<br># of LTC Outbreaks: 1",
          "<b>Leeds, Grenville and Lanark District Health Unit</b><br>Confirmed: 331<br>Deaths: 40<br># of LTC Outbreaks: 4",
          "<b>Middlesex-London Health Unit</b><br>Confirmed: 409<br>Deaths: 39<br># of LTC Outbreaks: 4",
          "<b>Niagara Regional Area Health Unit</b><br>Confirmed: 494<br>Deaths: 45<br># of LTC Outbreaks: 4",
          "<b>North Bay Parry Sound District Health Unit</b><br>Confirmed: 15<br>Deaths: 0<br># of LTC Outbreaks: 0",
          "<b>Northwestern Health Unit</b><br>Confirmed: 16<br>Deaths: 0<br># of LTC Outbreaks: 0",
          "<b>City of Ottawa Health Unit</b><br>Confirmed: 1372<br>Deaths: 76<br># of LTC Outbreaks: 3",
          "<b>Peel Regional Health Unit</b><br>Confirmed: 2511<br>Deaths: 119<br># of LTC Outbreaks: 14",
          "<b>Perth District Health Unit</b><br>Confirmed: 0<br>Deaths: 0<br># of LTC Outbreaks: 0",
          "<b>Porcupine Health Unit</b><br>Confirmed: 60<br>Deaths: 4<br># of LTC Outbreaks: 0",
          "<b>Renfrew County and District Health Unit</b><br>Confirmed: 16<br>Deaths: 1<br># of LTC Outbreaks: 0",
          "<b>The Eastern Ontario Health Unit</b><br>Confirmed: 94<br>Deaths: 0<br># of LTC Outbreaks: 0",
          "<b>Simcoe Muskoka District Health Unit</b><br>Confirmed: 283<br>Deaths: 20<br># of LTC Outbreaks: 4",
          "<b>Sudbury and District Health Unit</b><br>Confirmed: 58<br>Deaths: 1<br># of LTC Outbreaks: 1",
          "<b>Thunder Bay District Health Unit</b><br>Confirmed: 71<br>Deaths: 1<br># of LTC Outbreaks: 0",
          "<b>Timiskaming Health Unit</b><br>Confirmed: 18<br>Deaths: 0<br># of LTC Outbreaks: 0",
          "<b>Waterloo Health Unit</b><br>Confirmed: 773<br>Deaths: 72<br># of LTC Outbreaks: 5",
          "<b>Wellington-Dufferin-Guelph Health Unit</b><br>Confirmed: 281<br>Deaths: 22<br># of LTC Outbreaks: 5",
          "<b>Windsor-Essex County Health Unit</b><br>Confirmed: 604<br>Deaths: 50<br># of LTC Outbreaks: 4",
          "<b>York Regional Health Unit</b><br>Confirmed: 1568<br>Deaths: 107<br># of LTC Outbreaks: 12",
          "<b>City of Toronto Health Unit</b><br>Confirmed: 5796<br>Deaths: 394<br># of LTC Outbreaks: 50"
         ],
         "type": "scattermapbox",
         "visible": false
        },
        {
         "hoverinfo": "text",
         "lat": [
          46.35371,
          43.079609999999995,
          44.00116,
          44.32925,
          42.72988,
          44.865120000000005,
          43.44742,
          43.255179999999996,
          44.17225,
          43.67785,
          42.46829,
          44.241479999999996,
          42.77125,
          44.546009999999995,
          43.002990000000004,
          43.04017,
          45.94494,
          51.37178,
          45.26278,
          43.67018,
          43.54681,
          52.068529999999996,
          45.59126,
          45.0294,
          44.68213,
          46.733740000000004,
          50.90563,
          47.63172,
          43.45118,
          43.8565,
          42.12471,
          44.00481,
          43.6644
         ],
         "lon": [
          -83.1094,
          -80.3479,
          -78.8934,
          -81.0005,
          -80.3315,
          -78.8489,
          -79.8003,
          -79.8202,
          -77.3465,
          -81.3211,
          -82.1172,
          -76.618,
          -82.0931,
          -75.8915,
          -81.643,
          -79.2114,
          -79.6729,
          -92.8951,
          -75.5895,
          -79.7161,
          -81.0996,
          -83.3643,
          -77.5356,
          -74.9943,
          -79.8528,
          -80.8813,
          -88.5365,
          -79.9219,
          -80.5101,
          -80.3925,
          -82.7734,
          -79.4973,
          -79.3685
         ],
         "marker": {
          "color": "green",
          "opacity": 0.5,
          "size": [
           0,
           5,
           35,
           10,
           5,
           5,
           20,
           15,
           10,
           0,
           0,
           0,
           5,
           20,
           20,
           20,
           0,
           0,
           15,
           70,
           0,
           0,
           0,
           0,
           20,
           5,
           0,
           0,
           25,
           25,
           20,
           60,
           250
          ],
          "sizemin": 4,
          "sizemode": "area"
         },
         "mode": "markers",
         "name": "Outbreaks",
         "text": [
          "<b>The District of Algoma Health Unit</b><br>Confirmed: 13<br>Deaths: 0<br># of LTC Outbreaks: 0",
          "<b>Brant County Health Unit</b><br>Confirmed: 96<br>Deaths: 3<br># of LTC Outbreaks: 1",
          "<b>Durham Regional Health Unit</b><br>Confirmed: 995<br>Deaths: 113<br># of LTC Outbreaks: 7",
          "<b>Grey Bruce Health Unit</b><br>Confirmed: 82<br>Deaths: 0<br># of LTC Outbreaks: 2",
          "<b>Haldimand-Norfolk Health Unit</b><br>Confirmed: 194<br>Deaths: 30<br># of LTC Outbreaks: 1",
          "<b>Haliburton, Kawartha, Pine Ridge District Health Unit</b><br>Confirmed: 158<br>Deaths: 32<br># of LTC Outbreaks: 1",
          "<b>Halton Regional Health Unit</b><br>Confirmed: 461<br>Deaths: 22<br># of LTC Outbreaks: 4",
          "<b>City of Hamilton Health Unit</b><br>Confirmed: 439<br>Deaths: 20<br># of LTC Outbreaks: 3",
          "<b>Hastings and Prince Edward Counties Health Unit</b><br>Confirmed: 41<br>Deaths: 4<br># of LTC Outbreaks: 2",
          "<b>Huron County Health Unit</b><br>Confirmed: 47<br>Deaths: 5<br># of LTC Outbreaks: 0",
          "<b>Chatham-Kent Health Unit</b><br>Confirmed: 85<br>Deaths: 1<br># of LTC Outbreaks: 0",
          "<b>Kingston, Frontenac, and Lennox and Addington Health Unit</b><br>Confirmed: 61<br>Deaths: 0<br># of LTC Outbreaks: 0",
          "<b>Lambton Health Unit</b><br>Confirmed: 183<br>Deaths: 14<br># of LTC Outbreaks: 1",
          "<b>Leeds, Grenville and Lanark District Health Unit</b><br>Confirmed: 331<br>Deaths: 40<br># of LTC Outbreaks: 4",
          "<b>Middlesex-London Health Unit</b><br>Confirmed: 409<br>Deaths: 39<br># of LTC Outbreaks: 4",
          "<b>Niagara Regional Area Health Unit</b><br>Confirmed: 494<br>Deaths: 45<br># of LTC Outbreaks: 4",
          "<b>North Bay Parry Sound District Health Unit</b><br>Confirmed: 15<br>Deaths: 0<br># of LTC Outbreaks: 0",
          "<b>Northwestern Health Unit</b><br>Confirmed: 16<br>Deaths: 0<br># of LTC Outbreaks: 0",
          "<b>City of Ottawa Health Unit</b><br>Confirmed: 1372<br>Deaths: 76<br># of LTC Outbreaks: 3",
          "<b>Peel Regional Health Unit</b><br>Confirmed: 2511<br>Deaths: 119<br># of LTC Outbreaks: 14",
          "<b>Perth District Health Unit</b><br>Confirmed: 0<br>Deaths: 0<br># of LTC Outbreaks: 0",
          "<b>Porcupine Health Unit</b><br>Confirmed: 60<br>Deaths: 4<br># of LTC Outbreaks: 0",
          "<b>Renfrew County and District Health Unit</b><br>Confirmed: 16<br>Deaths: 1<br># of LTC Outbreaks: 0",
          "<b>The Eastern Ontario Health Unit</b><br>Confirmed: 94<br>Deaths: 0<br># of LTC Outbreaks: 0",
          "<b>Simcoe Muskoka District Health Unit</b><br>Confirmed: 283<br>Deaths: 20<br># of LTC Outbreaks: 4",
          "<b>Sudbury and District Health Unit</b><br>Confirmed: 58<br>Deaths: 1<br># of LTC Outbreaks: 1",
          "<b>Thunder Bay District Health Unit</b><br>Confirmed: 71<br>Deaths: 1<br># of LTC Outbreaks: 0",
          "<b>Timiskaming Health Unit</b><br>Confirmed: 18<br>Deaths: 0<br># of LTC Outbreaks: 0",
          "<b>Waterloo Health Unit</b><br>Confirmed: 773<br>Deaths: 72<br># of LTC Outbreaks: 5",
          "<b>Wellington-Dufferin-Guelph Health Unit</b><br>Confirmed: 281<br>Deaths: 22<br># of LTC Outbreaks: 5",
          "<b>Windsor-Essex County Health Unit</b><br>Confirmed: 604<br>Deaths: 50<br># of LTC Outbreaks: 4",
          "<b>York Regional Health Unit</b><br>Confirmed: 1568<br>Deaths: 107<br># of LTC Outbreaks: 12",
          "<b>City of Toronto Health Unit</b><br>Confirmed: 5796<br>Deaths: 394<br># of LTC Outbreaks: 50"
         ],
         "type": "scattermapbox",
         "visible": false
        }
       ],
       "layout": {
        "autosize": true,
        "hovermode": "closest",
        "mapbox": {
         "accesstoken": "pk.eyJ1IjoiZmFyYm9kYWIiLCJhIjoiY2s4OTRmejFjMDFsZzNmbXpzamFuOXZnMiJ9.Um1dSPlv154QcsK45jH-Dw",
         "bearing": 0,
         "center": {
          "lat": 47.2,
          "lon": -83.3
         },
         "pitch": 0,
         "style": "dark",
         "zoom": 4
        },
        "margin": {
         "b": 0,
         "l": 0,
         "r": 0,
         "t": 0
        },
        "template": {
         "data": {
          "bar": [
           {
            "error_x": {
             "color": "#2a3f5f"
            },
            "error_y": {
             "color": "#2a3f5f"
            },
            "marker": {
             "line": {
              "color": "#E5ECF6",
              "width": 0.5
             }
            },
            "type": "bar"
           }
          ],
          "barpolar": [
           {
            "marker": {
             "line": {
              "color": "#E5ECF6",
              "width": 0.5
             }
            },
            "type": "barpolar"
           }
          ],
          "carpet": [
           {
            "aaxis": {
             "endlinecolor": "#2a3f5f",
             "gridcolor": "white",
             "linecolor": "white",
             "minorgridcolor": "white",
             "startlinecolor": "#2a3f5f"
            },
            "baxis": {
             "endlinecolor": "#2a3f5f",
             "gridcolor": "white",
             "linecolor": "white",
             "minorgridcolor": "white",
             "startlinecolor": "#2a3f5f"
            },
            "type": "carpet"
           }
          ],
          "choropleth": [
           {
            "colorbar": {
             "outlinewidth": 0,
             "ticks": ""
            },
            "type": "choropleth"
           }
          ],
          "contour": [
           {
            "colorbar": {
             "outlinewidth": 0,
             "ticks": ""
            },
            "colorscale": [
             [
              0,
              "#0d0887"
             ],
             [
              0.1111111111111111,
              "#46039f"
             ],
             [
              0.2222222222222222,
              "#7201a8"
             ],
             [
              0.3333333333333333,
              "#9c179e"
             ],
             [
              0.4444444444444444,
              "#bd3786"
             ],
             [
              0.5555555555555556,
              "#d8576b"
             ],
             [
              0.6666666666666666,
              "#ed7953"
             ],
             [
              0.7777777777777778,
              "#fb9f3a"
             ],
             [
              0.8888888888888888,
              "#fdca26"
             ],
             [
              1,
              "#f0f921"
             ]
            ],
            "type": "contour"
           }
          ],
          "contourcarpet": [
           {
            "colorbar": {
             "outlinewidth": 0,
             "ticks": ""
            },
            "type": "contourcarpet"
           }
          ],
          "heatmap": [
           {
            "colorbar": {
             "outlinewidth": 0,
             "ticks": ""
            },
            "colorscale": [
             [
              0,
              "#0d0887"
             ],
             [
              0.1111111111111111,
              "#46039f"
             ],
             [
              0.2222222222222222,
              "#7201a8"
             ],
             [
              0.3333333333333333,
              "#9c179e"
             ],
             [
              0.4444444444444444,
              "#bd3786"
             ],
             [
              0.5555555555555556,
              "#d8576b"
             ],
             [
              0.6666666666666666,
              "#ed7953"
             ],
             [
              0.7777777777777778,
              "#fb9f3a"
             ],
             [
              0.8888888888888888,
              "#fdca26"
             ],
             [
              1,
              "#f0f921"
             ]
            ],
            "type": "heatmap"
           }
          ],
          "heatmapgl": [
           {
            "colorbar": {
             "outlinewidth": 0,
             "ticks": ""
            },
            "colorscale": [
             [
              0,
              "#0d0887"
             ],
             [
              0.1111111111111111,
              "#46039f"
             ],
             [
              0.2222222222222222,
              "#7201a8"
             ],
             [
              0.3333333333333333,
              "#9c179e"
             ],
             [
              0.4444444444444444,
              "#bd3786"
             ],
             [
              0.5555555555555556,
              "#d8576b"
             ],
             [
              0.6666666666666666,
              "#ed7953"
             ],
             [
              0.7777777777777778,
              "#fb9f3a"
             ],
             [
              0.8888888888888888,
              "#fdca26"
             ],
             [
              1,
              "#f0f921"
             ]
            ],
            "type": "heatmapgl"
           }
          ],
          "histogram": [
           {
            "marker": {
             "colorbar": {
              "outlinewidth": 0,
              "ticks": ""
             }
            },
            "type": "histogram"
           }
          ],
          "histogram2d": [
           {
            "colorbar": {
             "outlinewidth": 0,
             "ticks": ""
            },
            "colorscale": [
             [
              0,
              "#0d0887"
             ],
             [
              0.1111111111111111,
              "#46039f"
             ],
             [
              0.2222222222222222,
              "#7201a8"
             ],
             [
              0.3333333333333333,
              "#9c179e"
             ],
             [
              0.4444444444444444,
              "#bd3786"
             ],
             [
              0.5555555555555556,
              "#d8576b"
             ],
             [
              0.6666666666666666,
              "#ed7953"
             ],
             [
              0.7777777777777778,
              "#fb9f3a"
             ],
             [
              0.8888888888888888,
              "#fdca26"
             ],
             [
              1,
              "#f0f921"
             ]
            ],
            "type": "histogram2d"
           }
          ],
          "histogram2dcontour": [
           {
            "colorbar": {
             "outlinewidth": 0,
             "ticks": ""
            },
            "colorscale": [
             [
              0,
              "#0d0887"
             ],
             [
              0.1111111111111111,
              "#46039f"
             ],
             [
              0.2222222222222222,
              "#7201a8"
             ],
             [
              0.3333333333333333,
              "#9c179e"
             ],
             [
              0.4444444444444444,
              "#bd3786"
             ],
             [
              0.5555555555555556,
              "#d8576b"
             ],
             [
              0.6666666666666666,
              "#ed7953"
             ],
             [
              0.7777777777777778,
              "#fb9f3a"
             ],
             [
              0.8888888888888888,
              "#fdca26"
             ],
             [
              1,
              "#f0f921"
             ]
            ],
            "type": "histogram2dcontour"
           }
          ],
          "mesh3d": [
           {
            "colorbar": {
             "outlinewidth": 0,
             "ticks": ""
            },
            "type": "mesh3d"
           }
          ],
          "parcoords": [
           {
            "line": {
             "colorbar": {
              "outlinewidth": 0,
              "ticks": ""
             }
            },
            "type": "parcoords"
           }
          ],
          "pie": [
           {
            "automargin": true,
            "type": "pie"
           }
          ],
          "scatter": [
           {
            "marker": {
             "colorbar": {
              "outlinewidth": 0,
              "ticks": ""
             }
            },
            "type": "scatter"
           }
          ],
          "scatter3d": [
           {
            "line": {
             "colorbar": {
              "outlinewidth": 0,
              "ticks": ""
             }
            },
            "marker": {
             "colorbar": {
              "outlinewidth": 0,
              "ticks": ""
             }
            },
            "type": "scatter3d"
           }
          ],
          "scattercarpet": [
           {
            "marker": {
             "colorbar": {
              "outlinewidth": 0,
              "ticks": ""
             }
            },
            "type": "scattercarpet"
           }
          ],
          "scattergeo": [
           {
            "marker": {
             "colorbar": {
              "outlinewidth": 0,
              "ticks": ""
             }
            },
            "type": "scattergeo"
           }
          ],
          "scattergl": [
           {
            "marker": {
             "colorbar": {
              "outlinewidth": 0,
              "ticks": ""
             }
            },
            "type": "scattergl"
           }
          ],
          "scattermapbox": [
           {
            "marker": {
             "colorbar": {
              "outlinewidth": 0,
              "ticks": ""
             }
            },
            "type": "scattermapbox"
           }
          ],
          "scatterpolar": [
           {
            "marker": {
             "colorbar": {
              "outlinewidth": 0,
              "ticks": ""
             }
            },
            "type": "scatterpolar"
           }
          ],
          "scatterpolargl": [
           {
            "marker": {
             "colorbar": {
              "outlinewidth": 0,
              "ticks": ""
             }
            },
            "type": "scatterpolargl"
           }
          ],
          "scatterternary": [
           {
            "marker": {
             "colorbar": {
              "outlinewidth": 0,
              "ticks": ""
             }
            },
            "type": "scatterternary"
           }
          ],
          "surface": [
           {
            "colorbar": {
             "outlinewidth": 0,
             "ticks": ""
            },
            "colorscale": [
             [
              0,
              "#0d0887"
             ],
             [
              0.1111111111111111,
              "#46039f"
             ],
             [
              0.2222222222222222,
              "#7201a8"
             ],
             [
              0.3333333333333333,
              "#9c179e"
             ],
             [
              0.4444444444444444,
              "#bd3786"
             ],
             [
              0.5555555555555556,
              "#d8576b"
             ],
             [
              0.6666666666666666,
              "#ed7953"
             ],
             [
              0.7777777777777778,
              "#fb9f3a"
             ],
             [
              0.8888888888888888,
              "#fdca26"
             ],
             [
              1,
              "#f0f921"
             ]
            ],
            "type": "surface"
           }
          ],
          "table": [
           {
            "cells": {
             "fill": {
              "color": "#EBF0F8"
             },
             "line": {
              "color": "white"
             }
            },
            "header": {
             "fill": {
              "color": "#C8D4E3"
             },
             "line": {
              "color": "white"
             }
            },
            "type": "table"
           }
          ]
         },
         "layout": {
          "annotationdefaults": {
           "arrowcolor": "#2a3f5f",
           "arrowhead": 0,
           "arrowwidth": 1
          },
          "coloraxis": {
           "colorbar": {
            "outlinewidth": 0,
            "ticks": ""
           }
          },
          "colorscale": {
           "diverging": [
            [
             0,
             "#8e0152"
            ],
            [
             0.1,
             "#c51b7d"
            ],
            [
             0.2,
             "#de77ae"
            ],
            [
             0.3,
             "#f1b6da"
            ],
            [
             0.4,
             "#fde0ef"
            ],
            [
             0.5,
             "#f7f7f7"
            ],
            [
             0.6,
             "#e6f5d0"
            ],
            [
             0.7,
             "#b8e186"
            ],
            [
             0.8,
             "#7fbc41"
            ],
            [
             0.9,
             "#4d9221"
            ],
            [
             1,
             "#276419"
            ]
           ],
           "sequential": [
            [
             0,
             "#0d0887"
            ],
            [
             0.1111111111111111,
             "#46039f"
            ],
            [
             0.2222222222222222,
             "#7201a8"
            ],
            [
             0.3333333333333333,
             "#9c179e"
            ],
            [
             0.4444444444444444,
             "#bd3786"
            ],
            [
             0.5555555555555556,
             "#d8576b"
            ],
            [
             0.6666666666666666,
             "#ed7953"
            ],
            [
             0.7777777777777778,
             "#fb9f3a"
            ],
            [
             0.8888888888888888,
             "#fdca26"
            ],
            [
             1,
             "#f0f921"
            ]
           ],
           "sequentialminus": [
            [
             0,
             "#0d0887"
            ],
            [
             0.1111111111111111,
             "#46039f"
            ],
            [
             0.2222222222222222,
             "#7201a8"
            ],
            [
             0.3333333333333333,
             "#9c179e"
            ],
            [
             0.4444444444444444,
             "#bd3786"
            ],
            [
             0.5555555555555556,
             "#d8576b"
            ],
            [
             0.6666666666666666,
             "#ed7953"
            ],
            [
             0.7777777777777778,
             "#fb9f3a"
            ],
            [
             0.8888888888888888,
             "#fdca26"
            ],
            [
             1,
             "#f0f921"
            ]
           ]
          },
          "colorway": [
           "#636efa",
           "#EF553B",
           "#00cc96",
           "#ab63fa",
           "#FFA15A",
           "#19d3f3",
           "#FF6692",
           "#B6E880",
           "#FF97FF",
           "#FECB52"
          ],
          "font": {
           "color": "#2a3f5f"
          },
          "geo": {
           "bgcolor": "white",
           "lakecolor": "white",
           "landcolor": "#E5ECF6",
           "showlakes": true,
           "showland": true,
           "subunitcolor": "white"
          },
          "hoverlabel": {
           "align": "left"
          },
          "hovermode": "closest",
          "mapbox": {
           "style": "light"
          },
          "paper_bgcolor": "white",
          "plot_bgcolor": "#E5ECF6",
          "polar": {
           "angularaxis": {
            "gridcolor": "white",
            "linecolor": "white",
            "ticks": ""
           },
           "bgcolor": "#E5ECF6",
           "radialaxis": {
            "gridcolor": "white",
            "linecolor": "white",
            "ticks": ""
           }
          },
          "scene": {
           "xaxis": {
            "backgroundcolor": "#E5ECF6",
            "gridcolor": "white",
            "gridwidth": 2,
            "linecolor": "white",
            "showbackground": true,
            "ticks": "",
            "zerolinecolor": "white"
           },
           "yaxis": {
            "backgroundcolor": "#E5ECF6",
            "gridcolor": "white",
            "gridwidth": 2,
            "linecolor": "white",
            "showbackground": true,
            "ticks": "",
            "zerolinecolor": "white"
           },
           "zaxis": {
            "backgroundcolor": "#E5ECF6",
            "gridcolor": "white",
            "gridwidth": 2,
            "linecolor": "white",
            "showbackground": true,
            "ticks": "",
            "zerolinecolor": "white"
           }
          },
          "shapedefaults": {
           "line": {
            "color": "#2a3f5f"
           }
          },
          "ternary": {
           "aaxis": {
            "gridcolor": "white",
            "linecolor": "white",
            "ticks": ""
           },
           "baxis": {
            "gridcolor": "white",
            "linecolor": "white",
            "ticks": ""
           },
           "bgcolor": "#E5ECF6",
           "caxis": {
            "gridcolor": "white",
            "linecolor": "white",
            "ticks": ""
           }
          },
          "title": {
           "x": 0.05
          },
          "xaxis": {
           "automargin": true,
           "gridcolor": "white",
           "linecolor": "white",
           "ticks": "",
           "title": {
            "standoff": 15
           },
           "zerolinecolor": "white",
           "zerolinewidth": 2
          },
          "yaxis": {
           "automargin": true,
           "gridcolor": "white",
           "linecolor": "white",
           "ticks": "",
           "title": {
            "standoff": 15
           },
           "zerolinecolor": "white",
           "zerolinewidth": 2
          }
         }
        },
        "updatemenus": [
         {
          "buttons": [
           {
            "args": [
             {
              "visible": [
               true,
               false,
               false
              ]
             },
             {
              "title": "Cases"
             }
            ],
            "label": "Cases",
            "method": "update"
           },
           {
            "args": [
             {
              "visible": [
               false,
               true,
               false
              ]
             },
             {
              "title": "Deaths"
             }
            ],
            "label": "Deaths",
            "method": "update"
           },
           {
            "args": [
             {
              "visible": [
               false,
               false,
               true
              ]
             },
             {
              "title": "Outbreaks"
             }
            ],
            "label": "Outbreaks",
            "method": "update"
           }
          ],
          "direction": "right",
          "pad": {
           "r": 10,
           "t": 10
          },
          "showactive": true,
          "type": "buttons",
          "x": 0.5,
          "xanchor": "center",
          "y": 0.01,
          "yanchor": "top"
         }
        ]
       }
      },
      "text/html": [
       "<div>\n",
       "        \n",
       "        \n",
       "            <div id=\"dfd9c4de-f199-47d0-81fa-5a4381efeb1b\" class=\"plotly-graph-div\" style=\"height:525px; width:100%;\"></div>\n",
       "            <script type=\"text/javascript\">\n",
       "                require([\"plotly\"], function(Plotly) {\n",
       "                    window.PLOTLYENV=window.PLOTLYENV || {};\n",
       "                    \n",
       "                if (document.getElementById(\"dfd9c4de-f199-47d0-81fa-5a4381efeb1b\")) {\n",
       "                    Plotly.newPlot(\n",
       "                        'dfd9c4de-f199-47d0-81fa-5a4381efeb1b',\n",
       "                        [{\"hoverinfo\": \"text\", \"lat\": [46.35371, 43.079609999999995, 44.00116, 44.32925, 42.72988, 44.865120000000005, 43.44742, 43.255179999999996, 44.17225, 43.67785, 42.46829, 44.241479999999996, 42.77125, 44.546009999999995, 43.002990000000004, 43.04017, 45.94494, 51.37178, 45.26278, 43.67018, 43.54681, 52.068529999999996, 45.59126, 45.0294, 44.68213, 46.733740000000004, 50.90563, 47.63172, 43.45118, 43.8565, 42.12471, 44.00481, 43.6644], \"lon\": [-83.1094, -80.3479, -78.8934, -81.0005, -80.3315, -78.8489, -79.8003, -79.8202, -77.3465, -81.3211, -82.1172, -76.618, -82.0931, -75.8915, -81.643, -79.2114, -79.6729, -92.8951, -75.5895, -79.7161, -81.0996, -83.3643, -77.5356, -74.9943, -79.8528, -80.8813, -88.5365, -79.9219, -80.5101, -80.3925, -82.7734, -79.4973, -79.3685], \"marker\": {\"color\": \"red\", \"opacity\": 0.5, \"size\": [1.3, 9.6, 99.5, 8.2, 19.4, 15.8, 46.1, 43.9, 4.1, 4.7, 8.5, 6.1, 18.3, 33.1, 40.9, 49.4, 1.5, 1.6, 137.2, 251.1, 0.0, 6.0, 1.6, 9.4, 28.3, 5.8, 7.1, 1.8, 77.3, 28.1, 60.4, 156.8, 579.6], \"sizemin\": 4, \"sizemode\": \"area\"}, \"mode\": \"markers\", \"name\": \"Cases\", \"text\": [\"<b>The District of Algoma Health Unit</b><br>Confirmed: 13<br>Deaths: 0<br># of LTC Outbreaks: 0\", \"<b>Brant County Health Unit</b><br>Confirmed: 96<br>Deaths: 3<br># of LTC Outbreaks: 1\", \"<b>Durham Regional Health Unit</b><br>Confirmed: 995<br>Deaths: 113<br># of LTC Outbreaks: 7\", \"<b>Grey Bruce Health Unit</b><br>Confirmed: 82<br>Deaths: 0<br># of LTC Outbreaks: 2\", \"<b>Haldimand-Norfolk Health Unit</b><br>Confirmed: 194<br>Deaths: 30<br># of LTC Outbreaks: 1\", \"<b>Haliburton, Kawartha, Pine Ridge District Health Unit</b><br>Confirmed: 158<br>Deaths: 32<br># of LTC Outbreaks: 1\", \"<b>Halton Regional Health Unit</b><br>Confirmed: 461<br>Deaths: 22<br># of LTC Outbreaks: 4\", \"<b>City of Hamilton Health Unit</b><br>Confirmed: 439<br>Deaths: 20<br># of LTC Outbreaks: 3\", \"<b>Hastings and Prince Edward Counties Health Unit</b><br>Confirmed: 41<br>Deaths: 4<br># of LTC Outbreaks: 2\", \"<b>Huron County Health Unit</b><br>Confirmed: 47<br>Deaths: 5<br># of LTC Outbreaks: 0\", \"<b>Chatham-Kent Health Unit</b><br>Confirmed: 85<br>Deaths: 1<br># of LTC Outbreaks: 0\", \"<b>Kingston, Frontenac, and Lennox and Addington Health Unit</b><br>Confirmed: 61<br>Deaths: 0<br># of LTC Outbreaks: 0\", \"<b>Lambton Health Unit</b><br>Confirmed: 183<br>Deaths: 14<br># of LTC Outbreaks: 1\", \"<b>Leeds, Grenville and Lanark District Health Unit</b><br>Confirmed: 331<br>Deaths: 40<br># of LTC Outbreaks: 4\", \"<b>Middlesex-London Health Unit</b><br>Confirmed: 409<br>Deaths: 39<br># of LTC Outbreaks: 4\", \"<b>Niagara Regional Area Health Unit</b><br>Confirmed: 494<br>Deaths: 45<br># of LTC Outbreaks: 4\", \"<b>North Bay Parry Sound District Health Unit</b><br>Confirmed: 15<br>Deaths: 0<br># of LTC Outbreaks: 0\", \"<b>Northwestern Health Unit</b><br>Confirmed: 16<br>Deaths: 0<br># of LTC Outbreaks: 0\", \"<b>City of Ottawa Health Unit</b><br>Confirmed: 1372<br>Deaths: 76<br># of LTC Outbreaks: 3\", \"<b>Peel Regional Health Unit</b><br>Confirmed: 2511<br>Deaths: 119<br># of LTC Outbreaks: 14\", \"<b>Perth District Health Unit</b><br>Confirmed: 0<br>Deaths: 0<br># of LTC Outbreaks: 0\", \"<b>Porcupine Health Unit</b><br>Confirmed: 60<br>Deaths: 4<br># of LTC Outbreaks: 0\", \"<b>Renfrew County and District Health Unit</b><br>Confirmed: 16<br>Deaths: 1<br># of LTC Outbreaks: 0\", \"<b>The Eastern Ontario Health Unit</b><br>Confirmed: 94<br>Deaths: 0<br># of LTC Outbreaks: 0\", \"<b>Simcoe Muskoka District Health Unit</b><br>Confirmed: 283<br>Deaths: 20<br># of LTC Outbreaks: 4\", \"<b>Sudbury and District Health Unit</b><br>Confirmed: 58<br>Deaths: 1<br># of LTC Outbreaks: 1\", \"<b>Thunder Bay District Health Unit</b><br>Confirmed: 71<br>Deaths: 1<br># of LTC Outbreaks: 0\", \"<b>Timiskaming Health Unit</b><br>Confirmed: 18<br>Deaths: 0<br># of LTC Outbreaks: 0\", \"<b>Waterloo Health Unit</b><br>Confirmed: 773<br>Deaths: 72<br># of LTC Outbreaks: 5\", \"<b>Wellington-Dufferin-Guelph Health Unit</b><br>Confirmed: 281<br>Deaths: 22<br># of LTC Outbreaks: 5\", \"<b>Windsor-Essex County Health Unit</b><br>Confirmed: 604<br>Deaths: 50<br># of LTC Outbreaks: 4\", \"<b>York Regional Health Unit</b><br>Confirmed: 1568<br>Deaths: 107<br># of LTC Outbreaks: 12\", \"<b>City of Toronto Health Unit</b><br>Confirmed: 5796<br>Deaths: 394<br># of LTC Outbreaks: 50\"], \"type\": \"scattermapbox\", \"visible\": true}, {\"hoverinfo\": \"text\", \"lat\": [46.35371, 43.079609999999995, 44.00116, 44.32925, 42.72988, 44.865120000000005, 43.44742, 43.255179999999996, 44.17225, 43.67785, 42.46829, 44.241479999999996, 42.77125, 44.546009999999995, 43.002990000000004, 43.04017, 45.94494, 51.37178, 45.26278, 43.67018, 43.54681, 52.068529999999996, 45.59126, 45.0294, 44.68213, 46.733740000000004, 50.90563, 47.63172, 43.45118, 43.8565, 42.12471, 44.00481, 43.6644], \"lon\": [-83.1094, -80.3479, -78.8934, -81.0005, -80.3315, -78.8489, -79.8003, -79.8202, -77.3465, -81.3211, -82.1172, -76.618, -82.0931, -75.8915, -81.643, -79.2114, -79.6729, -92.8951, -75.5895, -79.7161, -81.0996, -83.3643, -77.5356, -74.9943, -79.8528, -80.8813, -88.5365, -79.9219, -80.5101, -80.3925, -82.7734, -79.4973, -79.3685], \"marker\": {\"color\": \"yellow\", \"opacity\": 0.5, \"size\": [0, 3, 113, 0, 30, 32, 22, 20, 4, 5, 1, 0, 14, 40, 39, 45, 0, 0, 76, 119, 0, 4, 1, 0, 20, 1, 1, 0, 72, 22, 50, 107, 394], \"sizemin\": 4, \"sizemode\": \"area\"}, \"mode\": \"markers\", \"name\": \"Deaths\", \"text\": [\"<b>The District of Algoma Health Unit</b><br>Confirmed: 13<br>Deaths: 0<br># of LTC Outbreaks: 0\", \"<b>Brant County Health Unit</b><br>Confirmed: 96<br>Deaths: 3<br># of LTC Outbreaks: 1\", \"<b>Durham Regional Health Unit</b><br>Confirmed: 995<br>Deaths: 113<br># of LTC Outbreaks: 7\", \"<b>Grey Bruce Health Unit</b><br>Confirmed: 82<br>Deaths: 0<br># of LTC Outbreaks: 2\", \"<b>Haldimand-Norfolk Health Unit</b><br>Confirmed: 194<br>Deaths: 30<br># of LTC Outbreaks: 1\", \"<b>Haliburton, Kawartha, Pine Ridge District Health Unit</b><br>Confirmed: 158<br>Deaths: 32<br># of LTC Outbreaks: 1\", \"<b>Halton Regional Health Unit</b><br>Confirmed: 461<br>Deaths: 22<br># of LTC Outbreaks: 4\", \"<b>City of Hamilton Health Unit</b><br>Confirmed: 439<br>Deaths: 20<br># of LTC Outbreaks: 3\", \"<b>Hastings and Prince Edward Counties Health Unit</b><br>Confirmed: 41<br>Deaths: 4<br># of LTC Outbreaks: 2\", \"<b>Huron County Health Unit</b><br>Confirmed: 47<br>Deaths: 5<br># of LTC Outbreaks: 0\", \"<b>Chatham-Kent Health Unit</b><br>Confirmed: 85<br>Deaths: 1<br># of LTC Outbreaks: 0\", \"<b>Kingston, Frontenac, and Lennox and Addington Health Unit</b><br>Confirmed: 61<br>Deaths: 0<br># of LTC Outbreaks: 0\", \"<b>Lambton Health Unit</b><br>Confirmed: 183<br>Deaths: 14<br># of LTC Outbreaks: 1\", \"<b>Leeds, Grenville and Lanark District Health Unit</b><br>Confirmed: 331<br>Deaths: 40<br># of LTC Outbreaks: 4\", \"<b>Middlesex-London Health Unit</b><br>Confirmed: 409<br>Deaths: 39<br># of LTC Outbreaks: 4\", \"<b>Niagara Regional Area Health Unit</b><br>Confirmed: 494<br>Deaths: 45<br># of LTC Outbreaks: 4\", \"<b>North Bay Parry Sound District Health Unit</b><br>Confirmed: 15<br>Deaths: 0<br># of LTC Outbreaks: 0\", \"<b>Northwestern Health Unit</b><br>Confirmed: 16<br>Deaths: 0<br># of LTC Outbreaks: 0\", \"<b>City of Ottawa Health Unit</b><br>Confirmed: 1372<br>Deaths: 76<br># of LTC Outbreaks: 3\", \"<b>Peel Regional Health Unit</b><br>Confirmed: 2511<br>Deaths: 119<br># of LTC Outbreaks: 14\", \"<b>Perth District Health Unit</b><br>Confirmed: 0<br>Deaths: 0<br># of LTC Outbreaks: 0\", \"<b>Porcupine Health Unit</b><br>Confirmed: 60<br>Deaths: 4<br># of LTC Outbreaks: 0\", \"<b>Renfrew County and District Health Unit</b><br>Confirmed: 16<br>Deaths: 1<br># of LTC Outbreaks: 0\", \"<b>The Eastern Ontario Health Unit</b><br>Confirmed: 94<br>Deaths: 0<br># of LTC Outbreaks: 0\", \"<b>Simcoe Muskoka District Health Unit</b><br>Confirmed: 283<br>Deaths: 20<br># of LTC Outbreaks: 4\", \"<b>Sudbury and District Health Unit</b><br>Confirmed: 58<br>Deaths: 1<br># of LTC Outbreaks: 1\", \"<b>Thunder Bay District Health Unit</b><br>Confirmed: 71<br>Deaths: 1<br># of LTC Outbreaks: 0\", \"<b>Timiskaming Health Unit</b><br>Confirmed: 18<br>Deaths: 0<br># of LTC Outbreaks: 0\", \"<b>Waterloo Health Unit</b><br>Confirmed: 773<br>Deaths: 72<br># of LTC Outbreaks: 5\", \"<b>Wellington-Dufferin-Guelph Health Unit</b><br>Confirmed: 281<br>Deaths: 22<br># of LTC Outbreaks: 5\", \"<b>Windsor-Essex County Health Unit</b><br>Confirmed: 604<br>Deaths: 50<br># of LTC Outbreaks: 4\", \"<b>York Regional Health Unit</b><br>Confirmed: 1568<br>Deaths: 107<br># of LTC Outbreaks: 12\", \"<b>City of Toronto Health Unit</b><br>Confirmed: 5796<br>Deaths: 394<br># of LTC Outbreaks: 50\"], \"type\": \"scattermapbox\", \"visible\": false}, {\"hoverinfo\": \"text\", \"lat\": [46.35371, 43.079609999999995, 44.00116, 44.32925, 42.72988, 44.865120000000005, 43.44742, 43.255179999999996, 44.17225, 43.67785, 42.46829, 44.241479999999996, 42.77125, 44.546009999999995, 43.002990000000004, 43.04017, 45.94494, 51.37178, 45.26278, 43.67018, 43.54681, 52.068529999999996, 45.59126, 45.0294, 44.68213, 46.733740000000004, 50.90563, 47.63172, 43.45118, 43.8565, 42.12471, 44.00481, 43.6644], \"lon\": [-83.1094, -80.3479, -78.8934, -81.0005, -80.3315, -78.8489, -79.8003, -79.8202, -77.3465, -81.3211, -82.1172, -76.618, -82.0931, -75.8915, -81.643, -79.2114, -79.6729, -92.8951, -75.5895, -79.7161, -81.0996, -83.3643, -77.5356, -74.9943, -79.8528, -80.8813, -88.5365, -79.9219, -80.5101, -80.3925, -82.7734, -79.4973, -79.3685], \"marker\": {\"color\": \"green\", \"opacity\": 0.5, \"size\": [0, 5, 35, 10, 5, 5, 20, 15, 10, 0, 0, 0, 5, 20, 20, 20, 0, 0, 15, 70, 0, 0, 0, 0, 20, 5, 0, 0, 25, 25, 20, 60, 250], \"sizemin\": 4, \"sizemode\": \"area\"}, \"mode\": \"markers\", \"name\": \"Outbreaks\", \"text\": [\"<b>The District of Algoma Health Unit</b><br>Confirmed: 13<br>Deaths: 0<br># of LTC Outbreaks: 0\", \"<b>Brant County Health Unit</b><br>Confirmed: 96<br>Deaths: 3<br># of LTC Outbreaks: 1\", \"<b>Durham Regional Health Unit</b><br>Confirmed: 995<br>Deaths: 113<br># of LTC Outbreaks: 7\", \"<b>Grey Bruce Health Unit</b><br>Confirmed: 82<br>Deaths: 0<br># of LTC Outbreaks: 2\", \"<b>Haldimand-Norfolk Health Unit</b><br>Confirmed: 194<br>Deaths: 30<br># of LTC Outbreaks: 1\", \"<b>Haliburton, Kawartha, Pine Ridge District Health Unit</b><br>Confirmed: 158<br>Deaths: 32<br># of LTC Outbreaks: 1\", \"<b>Halton Regional Health Unit</b><br>Confirmed: 461<br>Deaths: 22<br># of LTC Outbreaks: 4\", \"<b>City of Hamilton Health Unit</b><br>Confirmed: 439<br>Deaths: 20<br># of LTC Outbreaks: 3\", \"<b>Hastings and Prince Edward Counties Health Unit</b><br>Confirmed: 41<br>Deaths: 4<br># of LTC Outbreaks: 2\", \"<b>Huron County Health Unit</b><br>Confirmed: 47<br>Deaths: 5<br># of LTC Outbreaks: 0\", \"<b>Chatham-Kent Health Unit</b><br>Confirmed: 85<br>Deaths: 1<br># of LTC Outbreaks: 0\", \"<b>Kingston, Frontenac, and Lennox and Addington Health Unit</b><br>Confirmed: 61<br>Deaths: 0<br># of LTC Outbreaks: 0\", \"<b>Lambton Health Unit</b><br>Confirmed: 183<br>Deaths: 14<br># of LTC Outbreaks: 1\", \"<b>Leeds, Grenville and Lanark District Health Unit</b><br>Confirmed: 331<br>Deaths: 40<br># of LTC Outbreaks: 4\", \"<b>Middlesex-London Health Unit</b><br>Confirmed: 409<br>Deaths: 39<br># of LTC Outbreaks: 4\", \"<b>Niagara Regional Area Health Unit</b><br>Confirmed: 494<br>Deaths: 45<br># of LTC Outbreaks: 4\", \"<b>North Bay Parry Sound District Health Unit</b><br>Confirmed: 15<br>Deaths: 0<br># of LTC Outbreaks: 0\", \"<b>Northwestern Health Unit</b><br>Confirmed: 16<br>Deaths: 0<br># of LTC Outbreaks: 0\", \"<b>City of Ottawa Health Unit</b><br>Confirmed: 1372<br>Deaths: 76<br># of LTC Outbreaks: 3\", \"<b>Peel Regional Health Unit</b><br>Confirmed: 2511<br>Deaths: 119<br># of LTC Outbreaks: 14\", \"<b>Perth District Health Unit</b><br>Confirmed: 0<br>Deaths: 0<br># of LTC Outbreaks: 0\", \"<b>Porcupine Health Unit</b><br>Confirmed: 60<br>Deaths: 4<br># of LTC Outbreaks: 0\", \"<b>Renfrew County and District Health Unit</b><br>Confirmed: 16<br>Deaths: 1<br># of LTC Outbreaks: 0\", \"<b>The Eastern Ontario Health Unit</b><br>Confirmed: 94<br>Deaths: 0<br># of LTC Outbreaks: 0\", \"<b>Simcoe Muskoka District Health Unit</b><br>Confirmed: 283<br>Deaths: 20<br># of LTC Outbreaks: 4\", \"<b>Sudbury and District Health Unit</b><br>Confirmed: 58<br>Deaths: 1<br># of LTC Outbreaks: 1\", \"<b>Thunder Bay District Health Unit</b><br>Confirmed: 71<br>Deaths: 1<br># of LTC Outbreaks: 0\", \"<b>Timiskaming Health Unit</b><br>Confirmed: 18<br>Deaths: 0<br># of LTC Outbreaks: 0\", \"<b>Waterloo Health Unit</b><br>Confirmed: 773<br>Deaths: 72<br># of LTC Outbreaks: 5\", \"<b>Wellington-Dufferin-Guelph Health Unit</b><br>Confirmed: 281<br>Deaths: 22<br># of LTC Outbreaks: 5\", \"<b>Windsor-Essex County Health Unit</b><br>Confirmed: 604<br>Deaths: 50<br># of LTC Outbreaks: 4\", \"<b>York Regional Health Unit</b><br>Confirmed: 1568<br>Deaths: 107<br># of LTC Outbreaks: 12\", \"<b>City of Toronto Health Unit</b><br>Confirmed: 5796<br>Deaths: 394<br># of LTC Outbreaks: 50\"], \"type\": \"scattermapbox\", \"visible\": false}],\n",
       "                        {\"autosize\": true, \"hovermode\": \"closest\", \"mapbox\": {\"accesstoken\": \"pk.eyJ1IjoiZmFyYm9kYWIiLCJhIjoiY2s4OTRmejFjMDFsZzNmbXpzamFuOXZnMiJ9.Um1dSPlv154QcsK45jH-Dw\", \"bearing\": 0, \"center\": {\"lat\": 47.2, \"lon\": -83.3}, \"pitch\": 0, \"style\": \"dark\", \"zoom\": 4}, \"margin\": {\"b\": 0, \"l\": 0, \"r\": 0, \"t\": 0}, \"template\": {\"data\": {\"bar\": [{\"error_x\": {\"color\": \"#2a3f5f\"}, \"error_y\": {\"color\": \"#2a3f5f\"}, \"marker\": {\"line\": {\"color\": \"#E5ECF6\", \"width\": 0.5}}, \"type\": \"bar\"}], \"barpolar\": [{\"marker\": {\"line\": {\"color\": \"#E5ECF6\", \"width\": 0.5}}, \"type\": \"barpolar\"}], \"carpet\": [{\"aaxis\": {\"endlinecolor\": \"#2a3f5f\", \"gridcolor\": \"white\", \"linecolor\": \"white\", \"minorgridcolor\": \"white\", \"startlinecolor\": \"#2a3f5f\"}, \"baxis\": {\"endlinecolor\": \"#2a3f5f\", \"gridcolor\": \"white\", \"linecolor\": \"white\", \"minorgridcolor\": \"white\", \"startlinecolor\": \"#2a3f5f\"}, \"type\": \"carpet\"}], \"choropleth\": [{\"colorbar\": {\"outlinewidth\": 0, \"ticks\": \"\"}, \"type\": \"choropleth\"}], \"contour\": [{\"colorbar\": {\"outlinewidth\": 0, \"ticks\": \"\"}, \"colorscale\": [[0.0, \"#0d0887\"], [0.1111111111111111, \"#46039f\"], [0.2222222222222222, \"#7201a8\"], [0.3333333333333333, \"#9c179e\"], [0.4444444444444444, \"#bd3786\"], [0.5555555555555556, \"#d8576b\"], [0.6666666666666666, \"#ed7953\"], [0.7777777777777778, \"#fb9f3a\"], [0.8888888888888888, \"#fdca26\"], [1.0, \"#f0f921\"]], \"type\": \"contour\"}], \"contourcarpet\": [{\"colorbar\": {\"outlinewidth\": 0, \"ticks\": \"\"}, \"type\": \"contourcarpet\"}], \"heatmap\": [{\"colorbar\": {\"outlinewidth\": 0, \"ticks\": \"\"}, \"colorscale\": [[0.0, \"#0d0887\"], [0.1111111111111111, \"#46039f\"], [0.2222222222222222, \"#7201a8\"], [0.3333333333333333, \"#9c179e\"], [0.4444444444444444, \"#bd3786\"], [0.5555555555555556, \"#d8576b\"], [0.6666666666666666, \"#ed7953\"], [0.7777777777777778, \"#fb9f3a\"], [0.8888888888888888, \"#fdca26\"], [1.0, \"#f0f921\"]], \"type\": \"heatmap\"}], \"heatmapgl\": [{\"colorbar\": {\"outlinewidth\": 0, \"ticks\": \"\"}, \"colorscale\": [[0.0, \"#0d0887\"], [0.1111111111111111, \"#46039f\"], [0.2222222222222222, \"#7201a8\"], [0.3333333333333333, \"#9c179e\"], [0.4444444444444444, \"#bd3786\"], [0.5555555555555556, \"#d8576b\"], [0.6666666666666666, \"#ed7953\"], [0.7777777777777778, \"#fb9f3a\"], [0.8888888888888888, \"#fdca26\"], [1.0, \"#f0f921\"]], \"type\": \"heatmapgl\"}], \"histogram\": [{\"marker\": {\"colorbar\": {\"outlinewidth\": 0, \"ticks\": \"\"}}, \"type\": \"histogram\"}], \"histogram2d\": [{\"colorbar\": {\"outlinewidth\": 0, \"ticks\": \"\"}, \"colorscale\": [[0.0, \"#0d0887\"], [0.1111111111111111, \"#46039f\"], [0.2222222222222222, \"#7201a8\"], [0.3333333333333333, \"#9c179e\"], [0.4444444444444444, \"#bd3786\"], [0.5555555555555556, \"#d8576b\"], [0.6666666666666666, \"#ed7953\"], [0.7777777777777778, \"#fb9f3a\"], [0.8888888888888888, \"#fdca26\"], [1.0, \"#f0f921\"]], \"type\": \"histogram2d\"}], \"histogram2dcontour\": [{\"colorbar\": {\"outlinewidth\": 0, \"ticks\": \"\"}, \"colorscale\": [[0.0, \"#0d0887\"], [0.1111111111111111, \"#46039f\"], [0.2222222222222222, \"#7201a8\"], [0.3333333333333333, \"#9c179e\"], [0.4444444444444444, \"#bd3786\"], [0.5555555555555556, \"#d8576b\"], [0.6666666666666666, \"#ed7953\"], [0.7777777777777778, \"#fb9f3a\"], [0.8888888888888888, \"#fdca26\"], [1.0, \"#f0f921\"]], \"type\": \"histogram2dcontour\"}], \"mesh3d\": [{\"colorbar\": {\"outlinewidth\": 0, \"ticks\": \"\"}, \"type\": \"mesh3d\"}], \"parcoords\": [{\"line\": {\"colorbar\": {\"outlinewidth\": 0, \"ticks\": \"\"}}, \"type\": \"parcoords\"}], \"pie\": [{\"automargin\": true, \"type\": \"pie\"}], \"scatter\": [{\"marker\": {\"colorbar\": {\"outlinewidth\": 0, \"ticks\": \"\"}}, \"type\": \"scatter\"}], \"scatter3d\": [{\"line\": {\"colorbar\": {\"outlinewidth\": 0, \"ticks\": \"\"}}, \"marker\": {\"colorbar\": {\"outlinewidth\": 0, \"ticks\": \"\"}}, \"type\": \"scatter3d\"}], \"scattercarpet\": [{\"marker\": {\"colorbar\": {\"outlinewidth\": 0, \"ticks\": \"\"}}, \"type\": \"scattercarpet\"}], \"scattergeo\": [{\"marker\": {\"colorbar\": {\"outlinewidth\": 0, \"ticks\": \"\"}}, \"type\": \"scattergeo\"}], \"scattergl\": [{\"marker\": {\"colorbar\": {\"outlinewidth\": 0, \"ticks\": \"\"}}, \"type\": \"scattergl\"}], \"scattermapbox\": [{\"marker\": {\"colorbar\": {\"outlinewidth\": 0, \"ticks\": \"\"}}, \"type\": \"scattermapbox\"}], \"scatterpolar\": [{\"marker\": {\"colorbar\": {\"outlinewidth\": 0, \"ticks\": \"\"}}, \"type\": \"scatterpolar\"}], \"scatterpolargl\": [{\"marker\": {\"colorbar\": {\"outlinewidth\": 0, \"ticks\": \"\"}}, \"type\": \"scatterpolargl\"}], \"scatterternary\": [{\"marker\": {\"colorbar\": {\"outlinewidth\": 0, \"ticks\": \"\"}}, \"type\": \"scatterternary\"}], \"surface\": [{\"colorbar\": {\"outlinewidth\": 0, \"ticks\": \"\"}, \"colorscale\": [[0.0, \"#0d0887\"], [0.1111111111111111, \"#46039f\"], [0.2222222222222222, \"#7201a8\"], [0.3333333333333333, \"#9c179e\"], [0.4444444444444444, \"#bd3786\"], [0.5555555555555556, \"#d8576b\"], [0.6666666666666666, \"#ed7953\"], [0.7777777777777778, \"#fb9f3a\"], [0.8888888888888888, \"#fdca26\"], [1.0, \"#f0f921\"]], \"type\": \"surface\"}], \"table\": [{\"cells\": {\"fill\": {\"color\": \"#EBF0F8\"}, \"line\": {\"color\": \"white\"}}, \"header\": {\"fill\": {\"color\": \"#C8D4E3\"}, \"line\": {\"color\": \"white\"}}, \"type\": \"table\"}]}, \"layout\": {\"annotationdefaults\": {\"arrowcolor\": \"#2a3f5f\", \"arrowhead\": 0, \"arrowwidth\": 1}, \"coloraxis\": {\"colorbar\": {\"outlinewidth\": 0, \"ticks\": \"\"}}, \"colorscale\": {\"diverging\": [[0, \"#8e0152\"], [0.1, \"#c51b7d\"], [0.2, \"#de77ae\"], [0.3, \"#f1b6da\"], [0.4, \"#fde0ef\"], [0.5, \"#f7f7f7\"], [0.6, \"#e6f5d0\"], [0.7, \"#b8e186\"], [0.8, \"#7fbc41\"], [0.9, \"#4d9221\"], [1, \"#276419\"]], \"sequential\": [[0.0, \"#0d0887\"], [0.1111111111111111, \"#46039f\"], [0.2222222222222222, \"#7201a8\"], [0.3333333333333333, \"#9c179e\"], [0.4444444444444444, \"#bd3786\"], [0.5555555555555556, \"#d8576b\"], [0.6666666666666666, \"#ed7953\"], [0.7777777777777778, \"#fb9f3a\"], [0.8888888888888888, \"#fdca26\"], [1.0, \"#f0f921\"]], \"sequentialminus\": [[0.0, \"#0d0887\"], [0.1111111111111111, \"#46039f\"], [0.2222222222222222, \"#7201a8\"], [0.3333333333333333, \"#9c179e\"], [0.4444444444444444, \"#bd3786\"], [0.5555555555555556, \"#d8576b\"], [0.6666666666666666, \"#ed7953\"], [0.7777777777777778, \"#fb9f3a\"], [0.8888888888888888, \"#fdca26\"], [1.0, \"#f0f921\"]]}, \"colorway\": [\"#636efa\", \"#EF553B\", \"#00cc96\", \"#ab63fa\", \"#FFA15A\", \"#19d3f3\", \"#FF6692\", \"#B6E880\", \"#FF97FF\", \"#FECB52\"], \"font\": {\"color\": \"#2a3f5f\"}, \"geo\": {\"bgcolor\": \"white\", \"lakecolor\": \"white\", \"landcolor\": \"#E5ECF6\", \"showlakes\": true, \"showland\": true, \"subunitcolor\": \"white\"}, \"hoverlabel\": {\"align\": \"left\"}, \"hovermode\": \"closest\", \"mapbox\": {\"style\": \"light\"}, \"paper_bgcolor\": \"white\", \"plot_bgcolor\": \"#E5ECF6\", \"polar\": {\"angularaxis\": {\"gridcolor\": \"white\", \"linecolor\": \"white\", \"ticks\": \"\"}, \"bgcolor\": \"#E5ECF6\", \"radialaxis\": {\"gridcolor\": \"white\", \"linecolor\": \"white\", \"ticks\": \"\"}}, \"scene\": {\"xaxis\": {\"backgroundcolor\": \"#E5ECF6\", \"gridcolor\": \"white\", \"gridwidth\": 2, \"linecolor\": \"white\", \"showbackground\": true, \"ticks\": \"\", \"zerolinecolor\": \"white\"}, \"yaxis\": {\"backgroundcolor\": \"#E5ECF6\", \"gridcolor\": \"white\", \"gridwidth\": 2, \"linecolor\": \"white\", \"showbackground\": true, \"ticks\": \"\", \"zerolinecolor\": \"white\"}, \"zaxis\": {\"backgroundcolor\": \"#E5ECF6\", \"gridcolor\": \"white\", \"gridwidth\": 2, \"linecolor\": \"white\", \"showbackground\": true, \"ticks\": \"\", \"zerolinecolor\": \"white\"}}, \"shapedefaults\": {\"line\": {\"color\": \"#2a3f5f\"}}, \"ternary\": {\"aaxis\": {\"gridcolor\": \"white\", \"linecolor\": \"white\", \"ticks\": \"\"}, \"baxis\": {\"gridcolor\": \"white\", \"linecolor\": \"white\", \"ticks\": \"\"}, \"bgcolor\": \"#E5ECF6\", \"caxis\": {\"gridcolor\": \"white\", \"linecolor\": \"white\", \"ticks\": \"\"}}, \"title\": {\"x\": 0.05}, \"xaxis\": {\"automargin\": true, \"gridcolor\": \"white\", \"linecolor\": \"white\", \"ticks\": \"\", \"title\": {\"standoff\": 15}, \"zerolinecolor\": \"white\", \"zerolinewidth\": 2}, \"yaxis\": {\"automargin\": true, \"gridcolor\": \"white\", \"linecolor\": \"white\", \"ticks\": \"\", \"title\": {\"standoff\": 15}, \"zerolinecolor\": \"white\", \"zerolinewidth\": 2}}}, \"updatemenus\": [{\"buttons\": [{\"args\": [{\"visible\": [true, false, false]}, {\"title\": \"Cases\"}], \"label\": \"Cases\", \"method\": \"update\"}, {\"args\": [{\"visible\": [false, true, false]}, {\"title\": \"Deaths\"}], \"label\": \"Deaths\", \"method\": \"update\"}, {\"args\": [{\"visible\": [false, false, true]}, {\"title\": \"Outbreaks\"}], \"label\": \"Outbreaks\", \"method\": \"update\"}], \"direction\": \"right\", \"pad\": {\"r\": 10, \"t\": 10}, \"showactive\": true, \"type\": \"buttons\", \"x\": 0.5, \"xanchor\": \"center\", \"y\": 0.01, \"yanchor\": \"top\"}]},\n",
       "                        {\"responsive\": true}\n",
       "                    ).then(function(){\n",
       "                            \n",
       "var gd = document.getElementById('dfd9c4de-f199-47d0-81fa-5a4381efeb1b');\n",
       "var x = new MutationObserver(function (mutations, observer) {{\n",
       "        var display = window.getComputedStyle(gd).display;\n",
       "        if (!display || display === 'none') {{\n",
       "            console.log([gd, 'removed!']);\n",
       "            Plotly.purge(gd);\n",
       "            observer.disconnect();\n",
       "        }}\n",
       "}});\n",
       "\n",
       "// Listen for the removal of the full notebook cells\n",
       "var notebookContainer = gd.closest('#notebook-container');\n",
       "if (notebookContainer) {{\n",
       "    x.observe(notebookContainer, {childList: true});\n",
       "}}\n",
       "\n",
       "// Listen for the clearing of the current output cell\n",
       "var outputEl = gd.closest('.output');\n",
       "if (outputEl) {{\n",
       "    x.observe(outputEl, {childList: true});\n",
       "}}\n",
       "\n",
       "                        })\n",
       "                };\n",
       "                });\n",
       "            </script>\n",
       "        </div>"
      ]
     },
     "metadata": {},
     "output_type": "display_data"
    }
   ],
   "source": [
    "df['text'] = \"<b>\" + (df['region']).astype(str) + \"</b>\" + '<br>Confirmed: ' + (df['cases']).astype(str) + '<br>Deaths: ' + (df['deaths']).astype(str) + '<br># of LTC Outbreaks: ' + (df['outbreaks']).astype(str)\n",
    "\n",
    "\n",
    "fig = go.Figure()\n",
    "\n",
    "token =\"pk.eyJ1IjoiZmFyYm9kYWIiLCJhIjoiY2s4OTRmejFjMDFsZzNmbXpzamFuOXZnMiJ9.Um1dSPlv154QcsK45jH-Dw\"\n",
    "\n",
    "fig.add_trace(go.Scattermapbox(\n",
    "        lat=df.Latitude,\n",
    "        lon=df.Longitude,\n",
    "        mode='markers',\n",
    "        visible=True,\n",
    "        name=\"Cases\",\n",
    "        text=df.text,\n",
    "        hoverinfo='text',\n",
    "        marker=go.scattermapbox.Marker(\n",
    "            size=df.cases/10,\n",
    "            sizemode = 'area',\n",
    "            sizemin=4,\n",
    "            color='red',\n",
    "            opacity=0.5\n",
    "        ),\n",
    "    ))\n",
    "\n",
    "fig.add_trace(go.Scattermapbox(\n",
    "        lat=df.Latitude,\n",
    "        lon=df.Longitude,\n",
    "        mode='markers',\n",
    "        text=df.text,\n",
    "        visible=False,\n",
    "        name=\"Deaths\",\n",
    "        hoverinfo='text',\n",
    "        marker=go.scattermapbox.Marker(\n",
    "            size=df.deaths,\n",
    "            sizemode = 'area',\n",
    "            sizemin=4,\n",
    "            color='yellow',\n",
    "            opacity=0.5\n",
    "        ),\n",
    "    ))\n",
    "\n",
    "fig.add_trace(go.Scattermapbox(\n",
    "        lat=df.Latitude,\n",
    "        lon=df.Longitude,\n",
    "        mode='markers',\n",
    "        visible=False,\n",
    "        name=\"Outbreaks\",\n",
    "        text=df.text,\n",
    "        hoverinfo='text',\n",
    "        marker=go.scattermapbox.Marker(\n",
    "            size=df.outbreaks*5,\n",
    "            sizemode ='area',\n",
    "            sizemin=4,\n",
    "            color='green',\n",
    "            opacity=0.5\n",
    "        ),\n",
    "    ))\n",
    "\n",
    "\n",
    "\n",
    "fig.update_layout(mapbox_style=\"dark\")\n",
    "fig.update_layout(\n",
    "    autosize=True,\n",
    "    hovermode='closest',\n",
    "    mapbox=dict(\n",
    "        accesstoken=token,\n",
    "        bearing=0,\n",
    "        center=dict(\n",
    "            lat=47.2,\n",
    "            lon=-83.3\n",
    "        ),\n",
    "        pitch=0,\n",
    "        zoom=4\n",
    "    ),\n",
    ")\n",
    "\n",
    "fig.update_layout(\n",
    "    updatemenus=[\n",
    "        dict(\n",
    "            type = \"buttons\",\n",
    "            direction=\"right\",\n",
    "            pad={\"r\": 10, \"t\": 10},\n",
    "            showactive=True,\n",
    "            y=0.01,\n",
    "            x=0.5,\n",
    "            xanchor='center',\n",
    "            yanchor='top',\n",
    "            buttons=list([\n",
    "                dict(label=\"Cases\",\n",
    "                     method=\"update\",\n",
    "                     args=[{\"visible\": [True, False, False]},\n",
    "                           {\"title\": \"Cases\"}]),\n",
    "                dict(label=\"Deaths\",\n",
    "                     method=\"update\",\n",
    "                     args=[{\"visible\": [False, True, False]},\n",
    "                           {\"title\": \"Deaths\"}]),\n",
    "                dict(label=\"Outbreaks\",\n",
    "                     method=\"update\",\n",
    "                     args=[{\"visible\": [False, False, True]},\n",
    "                           {\"title\": \"Outbreaks\"}]),\n",
    "            ]),\n",
    "        )\n",
    "    ])\n",
    "\n",
    "\n",
    "fig.update_layout(margin={\"r\":0,\"t\":0,\"l\":0,\"b\":0})\n",
    "fig.show()"
   ]
  },
  {
   "cell_type": "code",
   "execution_count": null,
   "metadata": {},
   "outputs": [],
   "source": [
    "import plotly.express as px\n",
    "fig = px.scatter_mapbox(df, lat=\"Latitude\", lon=\"Longitude\", size=\"cases\",\n",
    "                  color_continuous_scale=px.colors.cyclical.IceFire, size_max=15, zoom=10)\n",
    "fig.show()\n"
   ]
  },
  {
   "cell_type": "code",
   "execution_count": null,
   "metadata": {},
   "outputs": [],
   "source": []
  }
 ],
 "metadata": {
  "kernelspec": {
   "display_name": "Python 3",
   "language": "python",
   "name": "python3"
  },
  "language_info": {
   "codemirror_mode": {
    "name": "ipython",
    "version": 3
   },
   "file_extension": ".py",
   "mimetype": "text/x-python",
   "name": "python",
   "nbconvert_exporter": "python",
   "pygments_lexer": "ipython3",
   "version": "3.8.2"
  }
 },
 "nbformat": 4,
 "nbformat_minor": 4
}
